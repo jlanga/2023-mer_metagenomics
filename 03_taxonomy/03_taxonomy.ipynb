{
 "cells": [
  {
   "cell_type": "markdown",
   "id": "6f411c85-66f1-4e11-b59d-b3fca3db7085",
   "metadata": {
    "tags": []
   },
   "source": [
    "Remember to unpause the previous notebook"
   ]
  },
  {
   "cell_type": "markdown",
   "id": "2c20326a",
   "metadata": {},
   "source": [
    "## 5. Taxonomy"
   ]
  },
  {
   "cell_type": "markdown",
   "id": "b2f70cfb",
   "metadata": {},
   "source": [
    "We have analyzed these bacteria without knowing who they are!"
   ]
  },
  {
   "cell_type": "markdown",
   "id": "b8887adf",
   "metadata": {},
   "source": [
    "Maybe it is time to know who is behind each one of those 120 bp 16S sequences, don't you think? We are going to do it using Machine Learning."
   ]
  },
  {
   "cell_type": "code",
   "execution_count": null,
   "id": "d169698d",
   "metadata": {
    "tags": []
   },
   "outputs": [],
   "source": [
    "qiime feature-classifier --help"
   ]
  },
  {
   "cell_type": "markdown",
   "id": "87d7d505",
   "metadata": {},
   "source": [
    "Four classification methods:\n",
    "- Sequence search:\n",
    "    - classify-consensus-blast\n",
    "    - classify-consensus-vsearch\n",
    "- Machine learning\n",
    "    - classify-sklearn\n",
    "- Hybrid:\n",
    "    - classify-hybrid-vsearch-sklearn"
   ]
  },
  {
   "cell_type": "markdown",
   "id": "5046766d-cd82-44da-b850-77f8bde304e0",
   "metadata": {
    "tags": []
   },
   "source": [
    "To run this part of the tutorial we only need:\n",
    "- `sample-metadata.tsv`: the table with the sample information\n",
    "- `table.qza`: the feature table with the number of how many ASVs we have in each sample\n",
    "- `rep-seqs.qza`: the representative sequences with their ugly names"
   ]
  },
  {
   "cell_type": "code",
   "execution_count": null,
   "id": "bc52acc4",
   "metadata": {
    "tags": []
   },
   "outputs": [],
   "source": [
    "qiime feature-classifier classify-sklearn \\\n",
    "  --i-classifier     greengenes.qza \\\n",
    "  --i-reads          rep-seqs.qza \\\n",
    "  --o-classification taxonomy.qza"
   ]
  },
  {
   "cell_type": "markdown",
   "id": "1c25ac7e-063f-4bc3-95d6-c9840759fd2e",
   "metadata": {},
   "source": [
    "We convert the qza to qzv"
   ]
  },
  {
   "cell_type": "code",
   "execution_count": null,
   "id": "f36da263",
   "metadata": {
    "tags": []
   },
   "outputs": [],
   "source": [
    "qiime metadata tabulate \\\n",
    "  --m-input-file    taxonomy.qza \\\n",
    "  --o-visualization taxonomy.qzv"
   ]
  },
  {
   "cell_type": "markdown",
   "id": "28a5a5b3",
   "metadata": {},
   "source": [
    "- [taxonomy.qzv](https://view.qiime2.org/visualization/?type=html&src=https%3A%2F%2Fdocs.qiime2.org%2F2023.2%2Fdata%2Ftutorials%2Fmoving-pictures%2Ftaxonomy.qzv)"
   ]
  },
  {
   "cell_type": "markdown",
   "id": "f10aa9c2-687f-473f-8496-c3a36f7ad320",
   "metadata": {
    "tags": []
   },
   "source": [
    "### Exercise"
   ]
  },
  {
   "cell_type": "markdown",
   "id": "bdc2c8e2-b15b-4dc4-86af-cb04c6fee6e4",
   "metadata": {},
   "source": [
    "- How many taxons have been Unasigned?"
   ]
  },
  {
   "cell_type": "markdown",
   "id": "523a80eb-117b-4a34-b214-34adf4317a6c",
   "metadata": {},
   "source": []
  },
  {
   "cell_type": "markdown",
   "id": "1c489a7c-d12f-4cf6-91eb-ed610804fcec",
   "metadata": {},
   "source": [
    "- How many taxons are classified just as Bacteria and nothing else?"
   ]
  },
  {
   "cell_type": "markdown",
   "id": "4aa1cb1b-3581-4e86-b6a3-fb5db514f0cd",
   "metadata": {},
   "source": []
  },
  {
   "cell_type": "markdown",
   "id": "9a8e1b86-21a8-46b1-8ffc-4d686ddb5f09",
   "metadata": {},
   "source": [
    "- How many ASVs are of the Campylibacter genus?"
   ]
  },
  {
   "cell_type": "markdown",
   "id": "1e74daef-b555-4ed5-85ac-444209d02c1f",
   "metadata": {},
   "source": []
  },
  {
   "cell_type": "markdown",
   "id": "92d0fdd3-90f7-4c02-a450-faa6ee10fd5f",
   "metadata": {},
   "source": [
    "Since the table is tough to read, let's do a barplot with the frequencies of each taxonomic group"
   ]
  },
  {
   "cell_type": "code",
   "execution_count": null,
   "id": "26f2a2d6",
   "metadata": {
    "tags": []
   },
   "outputs": [],
   "source": [
    "qiime taxa barplot \\\n",
    "  --i-table         table.qza \\\n",
    "  --i-taxonomy      taxonomy.qza \\\n",
    "  --m-metadata-file sample-metadata.tsv \\\n",
    "  --o-visualization taxa-bar-plots.qzv"
   ]
  },
  {
   "cell_type": "markdown",
   "id": "0e1bcbb3",
   "metadata": {},
   "source": [
    "- [taxa-bar-plots.qzv](https://view.qiime2.org/?src=https%3A%2F%2Fdocs.qiime2.org%2F2023.2%2Fdata%2Ftutorials%2Fmoving-pictures%2Ftaxa-bar-plots.qzv)"
   ]
  },
  {
   "cell_type": "markdown",
   "id": "16f1d854-086e-4ca9-968d-521831a72ae9",
   "metadata": {
    "tags": []
   },
   "source": [
    "### Exercises"
   ]
  },
  {
   "cell_type": "markdown",
   "id": "5f7ba330-da95-4fdb-8e75-b239f6b60cfe",
   "metadata": {
    "tags": []
   },
   "source": [
    "Select Level 2 (phylum) and sort by body site"
   ]
  },
  {
   "cell_type": "markdown",
   "id": "d399f063-0a07-41cc-bc3d-18754bbb41dc",
   "metadata": {},
   "source": [
    "- Who are the dominant phylum in each body part?"
   ]
  },
  {
   "cell_type": "code",
   "execution_count": null,
   "id": "8d92aa55-4e08-4956-81d5-bee2689fc646",
   "metadata": {},
   "outputs": [],
   "source": []
  },
  {
   "cell_type": "markdown",
   "id": "664415a8-c93f-43d8-80e4-1de2b582a9a3",
   "metadata": {},
   "source": [
    "- What happens when antibiotics are applied?"
   ]
  },
  {
   "cell_type": "code",
   "execution_count": null,
   "id": "1c4a646a-b9d7-4d82-9b5e-e43286ee9006",
   "metadata": {},
   "outputs": [],
   "source": []
  },
  {
   "cell_type": "markdown",
   "id": "afd7e1dc-f07f-49c5-9543-613e25a85592",
   "metadata": {
    "tags": []
   },
   "source": [
    "### End of notebook\n",
    "Run the next cell if you don't want to get kicked out"
   ]
  },
  {
   "cell_type": "code",
   "execution_count": null,
   "id": "a81a58fa-d0fa-434e-b316-9554f38ba5ec",
   "metadata": {
    "tags": []
   },
   "outputs": [],
   "source": [
    "pause"
   ]
  }
 ],
 "metadata": {
  "kernelspec": {
   "display_name": "Bash",
   "language": "bash",
   "name": "bash"
  },
  "language_info": {
   "codemirror_mode": "shell",
   "file_extension": ".sh",
   "mimetype": "text/x-sh",
   "name": "bash"
  }
 },
 "nbformat": 4,
 "nbformat_minor": 5
}
