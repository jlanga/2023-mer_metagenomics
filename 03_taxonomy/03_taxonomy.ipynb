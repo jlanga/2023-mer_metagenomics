{
 "cells": [
  {
   "cell_type": "markdown",
   "id": "2c20326a",
   "metadata": {},
   "source": [
    "## 5. Taxonomy"
   ]
  },
  {
   "cell_type": "markdown",
   "id": "b2f70cfb",
   "metadata": {},
   "source": [
    "We have analyzed these bacteria without knowing who they are!"
   ]
  },
  {
   "cell_type": "markdown",
   "id": "b8887adf",
   "metadata": {},
   "source": [
    "Maybe it is time to know who is behind each one of those 120 bp 16S sequences, don't you think? We are going to do it using Machine Learning."
   ]
  },
  {
   "cell_type": "code",
   "execution_count": 2,
   "id": "df3427be",
   "metadata": {},
   "outputs": [
    {
     "name": "stdout",
     "output_type": "stream",
     "text": [
      "(qiime2-2023.2) \n"
     ]
    },
    {
     "ename": "",
     "evalue": "1",
     "output_type": "error",
     "traceback": []
    }
   ],
   "source": [
    "conda activate qiime2-2023.2"
   ]
  },
  {
   "cell_type": "code",
   "execution_count": 6,
   "id": "d169698d",
   "metadata": {},
   "outputs": [
    {
     "name": "stdout",
     "output_type": "stream",
     "text": [
      "Usage: \u001b[94mqiime feature-classifier\u001b[0m [OPTIONS] COMMAND [ARGS]...\n",
      "\n",
      "  Description: This QIIME 2 plugin supports taxonomic classification of\n",
      "  features using a variety of methods, including Naive Bayes, vsearch, and\n",
      "  BLAST+.\n",
      "\n",
      "  Plugin website: https://github.com/qiime2/q2-feature-classifier\n",
      "\n",
      "  Getting user support: Please post to the QIIME 2 forum for help with this\n",
      "  plugin: https://forum.qiime2.org\n",
      "\n",
      "\u001b[1mOptions\u001b[0m:\n",
      "  \u001b[94m--version\u001b[0m            Show the version and exit.\n",
      "  \u001b[94m--example-data\u001b[0m PATH  Write example data and exit.\n",
      "  \u001b[94m--citations\u001b[0m          Show citations and exit.\n",
      "  \u001b[94m--help\u001b[0m               Show this message and exit.\n",
      "\n",
      "\u001b[1mCommands\u001b[0m:\n",
      "  \u001b[94mblast\u001b[0m                           BLAST+ local alignment search.\n",
      "  \u001b[94mclassify-consensus-blast\u001b[0m        BLAST+ consensus taxonomy classifier\n",
      "  \u001b[94mclassify-consensus-vsearch\u001b[0m      VSEARCH-based consensus taxonomy classifier\n",
      "  \u001b[94mclassify-hybrid-vsearch-sklearn\u001b[0m\n",
      "                                  ALPHA Hybrid classifier: VSEARCH exact match\n",
      "                                  + sklearn classifier\n",
      "  \u001b[94mclassify-sklearn\u001b[0m                Pre-fitted sklearn-based taxonomy classifier\n",
      "  \u001b[94mextract-reads\u001b[0m                   Extract reads from reference sequences.\n",
      "  \u001b[94mfind-consensus-annotation\u001b[0m       Find consensus among multiple annotations.\n",
      "  \u001b[94mfit-classifier-naive-bayes\u001b[0m      Train the naive_bayes classifier\n",
      "  \u001b[94mfit-classifier-sklearn\u001b[0m          Train an almost arbitrary scikit-learn\n",
      "                                  classifier\n",
      "  \u001b[94mvsearch-global\u001b[0m                  VSEARCH global alignment search\n",
      "(qiime2-2023.2) \n"
     ]
    },
    {
     "ename": "",
     "evalue": "1",
     "output_type": "error",
     "traceback": []
    }
   ],
   "source": [
    "qiime feature-classifier --help"
   ]
  },
  {
   "cell_type": "markdown",
   "id": "87d7d505",
   "metadata": {},
   "source": [
    "Four classification methods:\n",
    "- Sequence search:\n",
    "    - classify-consensus-blast\n",
    "    - classify-consensus-vsearch\n",
    "- Machine learning\n",
    "    - classify-sklearn\n",
    "- Hybrid:\n",
    "    - classify-hybrid-vsearch-sklearn"
   ]
  },
  {
   "cell_type": "code",
   "execution_count": 4,
   "id": "bc52acc4",
   "metadata": {
    "tags": []
   },
   "outputs": [
    {
     "name": "stdout",
     "output_type": "stream",
     "text": [
      "\u001b[32mSaved FeatureData[Taxonomy] to: taxonomy.qza\u001b[0m\n",
      "\u001b[0m(qiime2-2023.2) \n"
     ]
    },
    {
     "ename": "",
     "evalue": "1",
     "output_type": "error",
     "traceback": []
    }
   ],
   "source": [
    "qiime feature-classifier classify-sklearn \\\n",
    "  --i-classifier     greengenes.qza \\\n",
    "  --i-reads          rep-seqs.qza \\\n",
    "  --o-classification taxonomy.qza"
   ]
  },
  {
   "cell_type": "code",
   "execution_count": 7,
   "id": "f36da263",
   "metadata": {
    "tags": []
   },
   "outputs": [
    {
     "name": "stdout",
     "output_type": "stream",
     "text": [
      "\u001b[32mSaved Visualization to: taxonomy.qzv\u001b[0m\n",
      "\u001b[0m(qiime2-2023.2) \n"
     ]
    },
    {
     "ename": "",
     "evalue": "1",
     "output_type": "error",
     "traceback": []
    }
   ],
   "source": [
    "qiime metadata tabulate \\\n",
    "  --m-input-file    taxonomy.qza \\\n",
    "  --o-visualization taxonomy.qzv"
   ]
  },
  {
   "cell_type": "markdown",
   "id": "28a5a5b3",
   "metadata": {},
   "source": [
    "- [taxonomy.qzv](https://view.qiime2.org/visualization/?type=html&src=https%3A%2F%2Fdocs.qiime2.org%2F2023.2%2Fdata%2Ftutorials%2Fmoving-pictures%2Ftaxonomy.qzv)"
   ]
  },
  {
   "cell_type": "code",
   "execution_count": 11,
   "id": "26f2a2d6",
   "metadata": {},
   "outputs": [
    {
     "name": "stdout",
     "output_type": "stream",
     "text": [
      "\u001b[32mSaved Visualization to: taxa-bar-plots.qzv\u001b[0m\n",
      "\u001b[0m(qiime2-2023.2) \n"
     ]
    },
    {
     "ename": "",
     "evalue": "1",
     "output_type": "error",
     "traceback": []
    }
   ],
   "source": [
    "qiime taxa barplot \\\n",
    "  --i-table         table.qza \\\n",
    "  --i-taxonomy      taxonomy.qza \\\n",
    "  --m-metadata-file sample-metadata.tsv \\\n",
    "  --o-visualization taxa-bar-plots.qzv"
   ]
  },
  {
   "cell_type": "markdown",
   "id": "0e1bcbb3",
   "metadata": {},
   "source": [
    "- [taxa-bar-plots.qzv](https://view.qiime2.org/?src=https%3A%2F%2Fdocs.qiime2.org%2F2023.2%2Fdata%2Ftutorials%2Fmoving-pictures%2Ftaxa-bar-plots.qzv)"
   ]
  }
 ],
 "metadata": {
  "kernelspec": {
   "display_name": "Bash",
   "language": "bash",
   "name": "bash"
  },
  "language_info": {
   "codemirror_mode": "shell",
   "file_extension": ".sh",
   "mimetype": "text/x-sh",
   "name": "bash"
  }
 },
 "nbformat": 4,
 "nbformat_minor": 5
}
