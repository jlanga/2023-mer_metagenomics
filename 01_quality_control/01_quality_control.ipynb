{
 "cells": [
  {
   "cell_type": "markdown",
   "id": "7dca898c",
   "metadata": {},
   "source": [
    "# Quality control with QIIME2"
   ]
  },
  {
   "cell_type": "code",
   "execution_count": 14,
   "id": "7b67fc80",
   "metadata": {},
   "outputs": [
    {
     "name": "stdout",
     "output_type": "stream",
     "text": [
      "(qiime2-2023.2) \n"
     ]
    },
    {
     "ename": "",
     "evalue": "1",
     "output_type": "error",
     "traceback": []
    }
   ],
   "source": [
    "conda activate qiime2-2023.2"
   ]
  },
  {
   "cell_type": "markdown",
   "id": "d34da704",
   "metadata": {
    "tags": []
   },
   "source": [
    "The dataset that we are going to analyze is called \"Moving images\", from [Caporaso et al. (2011)](https://www.ncbi.nlm.nih.gov/pubmed/21624126)."
   ]
  },
  {
   "cell_type": "markdown",
   "id": "7b9d114b",
   "metadata": {},
   "source": [
    "It contains metagenomic samples from:\n",
    "- 2 individuals\n",
    "- 4 different body sites\n",
    "- 5 different time points\n",
    "- before and after the application of antibiotics"
   ]
  },
  {
   "cell_type": "markdown",
   "id": "dfb9ab45",
   "metadata": {},
   "source": [
    "The data to analyze is composed of three files:\n",
    "- Sample metadata\n",
    "- Barcodes\n",
    "- Sequences"
   ]
  },
  {
   "cell_type": "markdown",
   "id": "5b6f10d7",
   "metadata": {},
   "source": [
    "Sample metadata is the information that you know of your samples:\n",
    "- The name you have given them.\n",
    "- Where and when were they taken.\n",
    "- Under what conditions."
   ]
  },
  {
   "cell_type": "markdown",
   "id": "2b8572eb",
   "metadata": {},
   "source": [
    "These samples are organized in a table called `sample-metadata.tsv`. Either click it on the left panel or see it below:"
   ]
  },
  {
   "cell_type": "markdown",
   "id": "b5aa61c9",
   "metadata": {
    "tags": []
   },
   "source": [
    "| sample-id | barcode-sequence | body-site   | year    | month   | day     | subject     | reported-antibiotic-usage | days-since-experiment-start |\n",
    "|-----------|------------------|-------------|---------|---------|---------|-------------|---------------------------|-----------------------------|\n",
    "| #q2:types | categorical      | categorical | numeric | numeric | numeric | categorical | categorical               | numeric                     |\n",
    "| L1S8      | AGCTGACTAGTC     | gut         | 2008    | 10      | 28      | subject-1   | Yes                       | 0                           |\n",
    "| L1S57     | ACACACTATGGC     | gut         | 2009    | 1       | 20      | subject-1   | No                        | 84                          |\n",
    "| L1S76     | ACTACGTGTGGT     | gut         | 2009    | 2       | 17      | subject-1   | No                        | 112                         |\n",
    "| L1S105    | AGTGCGATGCGT     | gut         | 2009    | 3       | 17      | subject-1   | No                        | 140                         |\n",
    "| L2S155    | ACGATGCGACCA     | left palm   | 2009    | 1       | 20      | subject-1   | No                        | 84                          |\n",
    "| L2S175    | AGCTATCCACGA     | left palm   | 2009    | 2       | 17      | subject-1   | No                        | 112                         |\n",
    "| L2S204    | ATGCAGCTCAGT     | left palm   | 2009    | 3       | 17      | subject-1   | No                        | 140                         |\n",
    "| L2S222    | CACGTGACATGT     | left palm   | 2009    | 4       | 14      | subject-1   | No                        | 168                         |\n",
    "| L3S242    | ACAGTTGCGCGA     | right palm  | 2008    | 10      | 28      | subject-1   | Yes                       | 0                           |\n",
    "| L3S294    | CACGACAGGCTA     | right palm  | 2009    | 1       | 20      | subject-1   | No                        | 84                          |\n",
    "| L3S313    | AGTGTCACGGTG     | right palm  | 2009    | 2       | 17      | subject-1   | No                        | 112                         |\n",
    "| L3S341    | CAAGTGAGAGAG     | right palm  | 2009    | 3       | 17      | subject-1   | No                        | 140                         |\n",
    "| L3S360    | CATCGTATCAAC     | right palm  | 2009    | 4       | 14      | subject-1   | No                        | 168                         |\n",
    "| L5S104    | CAGTGTCAGGAC     | tongue      | 2008    | 10      | 28      | subject-1   | Yes                       | 0                           |\n",
    "| L5S155    | ATCTTAGACTGC     | tongue      | 2009    | 1       | 20      | subject-1   | No                        | 84                          |\n",
    "| L5S174    | CAGACATTGCGT     | tongue      | 2009    | 2       | 17      | subject-1   | No                        | 112                         |\n",
    "| L5S203    | CGATGCACCAGA     | tongue      | 2009    | 3       | 17      | subject-1   | No                        | 140                         |\n",
    "| L5S222    | CTAGAGACTCTT     | tongue      | 2009    | 4       | 14      | subject-1   | No                        | 168                         |\n",
    "| L1S140    | ATGGCAGCTCTA     | gut         | 2008    | 10      | 28      | subject-2   | Yes                       | 0                           |\n",
    "| L1S208    | CTGAGATACGCG     | gut         | 2009    | 1       | 20      | subject-2   | No                        | 84                          |\n",
    "| L1S257    | CCGACTGAGATG     | gut         | 2009    | 3       | 17      | subject-2   | No                        | 140                         |\n",
    "| L1S281    | CCTCTCGTGATC     | gut         | 2009    | 4       | 14      | subject-2   | No                        | 168                         |\n",
    "| L2S240    | CATATCGCAGTT     | left palm   | 2008    | 10      | 28      | subject-2   | Yes                       | 0                           |\n",
    "| L2S309    | CGTGCATTATCA     | left palm   | 2009    | 1       | 20      | subject-2   | No                        | 84                          |\n",
    "| L2S357    | CTAACGCAGTCA     | left palm   | 2009    | 3       | 17      | subject-2   | No                        | 140                         |\n",
    "| L2S382    | CTCAATGACTCA     | left palm   | 2009    | 4       | 14      | subject-2   | No                        | 168                         |\n",
    "| L3S378    | ATCGATCTGTGG     | right palm  | 2008    | 10      | 28      | subject-2   | Yes                       | 0                           |\n",
    "| L4S63     | CTCGTGGAGTAG     | right palm  | 2009    | 1       | 20      | subject-2   | No                        | 84                          |\n",
    "| L4S112    | GCGTTACACACA     | right palm  | 2009    | 3       | 17      | subject-2   | No                        | 140                         |\n",
    "| L4S137    | GAACTGTATCTC     | right palm  | 2009    | 4       | 14      | subject-2   | No                        | 168                         |\n",
    "| L5S240    | CTGGACTCATAG     | tongue      | 2008    | 10      | 28      | subject-2   | Yes                       | 0                           |\n",
    "| L6S20     | GAGGCTCATCAT     | tongue      | 2009    | 1       | 20      | subject-2   | No                        | 84                          |\n",
    "| L6S68     | GATACGTCCTGA     | tongue      | 2009    | 3       | 17      | subject-2   | No                        | 140                         |\n",
    "| L6S93     | GATTAGCACTCT     | tongue      | 2009    | 4       | 14      | subject-2   | No                        | 168                         |\n"
   ]
  },
  {
   "cell_type": "markdown",
   "id": "3096133d",
   "metadata": {},
   "source": [
    "It contains data about:\n",
    "- 35 samples\n",
    "- in 9 columns"
   ]
  },
  {
   "cell_type": "markdown",
   "id": "eaa5994e",
   "metadata": {},
   "source": [
    "TSV stands for __tab separated values__. A tab is the space between each word. Excel is capable of opening and saving this type of files."
   ]
  },
  {
   "cell_type": "markdown",
   "id": "80e12ad7",
   "metadata": {},
   "source": [
    "The first row is the __header__. It cointains the names of the properties that each sample has. For example, the first sample\n",
    "- Is named L1S8\n",
    "- Has the barcode AGCTGACTAGTC\n",
    "- Comes from the gut\n",
    "- Was taken on 2008\n",
    "\n",
    "and so on...\n"
   ]
  },
  {
   "cell_type": "markdown",
   "id": "0a81c787",
   "metadata": {},
   "source": [
    "It is very important to add as many variables as possible:\n",
    "- Day that you took the sample\n",
    "- Day that it was processed in the lab\n",
    "- Day that it was processed for sequencing\n",
    "- Geographical coordinates of the sampling sites\n",
    "- pH / salinity of the samples\n",
    "- Chemical composition of the sample (Fe, N, CO2, etc).\n",
    "- Purification / extraction protocol (if more than one is used)."
   ]
  },
  {
   "cell_type": "markdown",
   "id": "1a3a57de",
   "metadata": {},
   "source": [
    "The next file are the barcodes used (`data/barcodes.fq.g`').\n",
    "\n",
    "To each sample, one sequence is assigned to identify the sample. Think about it as the molecular ID card number of the sample."
   ]
  },
  {
   "cell_type": "markdown",
   "id": "7474d1ce",
   "metadata": {},
   "source": [
    "This file contains 302,581 16S fragments."
   ]
  },
  {
   "cell_type": "markdown",
   "id": "10a3b653",
   "metadata": {},
   "source": [
    "| read_name                            | sequence     | separator | quality      |\n",
    "|--------------------------------------|--------------|-----------|--------------|\n",
    "| @HWI-EAS440_0386:1:23:17547:1423#0/1 | ATGCAGCTCAGT | +         | IIIIIIIIIIIH |\n",
    "| @HWI-EAS440_0386:1:23:14818:1533#0/1 | CCCCTCAGCGGC | +         | DDD@D?@B<<+/ |\n",
    "| @HWI-EAS440_0386:1:23:14401:1629#0/1 | GACGAGTCAGTC | +         | GGEGDGGGGGDG |\n",
    "| @HWI-EAS440_0386:1:23:15259:1649#0/1 | AGCAGTCGCGAT | +         | IIIIIIIIIIII |\n",
    "| @HWI-EAS440_0386:1:23:13748:2482#0/1 | AGCACACCTACA | +         | GGGGBGGEEGGD |\n",
    "| @HWI-EAS440_0386:1:23:6532:3028#0/1  | GAGAGAATGATC | +         | HIIIIIIIIIII |\n",
    "| @HWI-EAS440_0386:1:23:8677:3027#0/1  | CACAGTGGACGT | +         | FHHHHHHHHHHH |\n",
    "| @HWI-EAS440_0386:1:23:5678:3052#0/1  | ATAGCTCCATAC | +         | IIIIIIIIIIII |\n",
    "| @HWI-EAS440_0386:1:23:11889:3171#0/1 | ACGTTAGCACAC | +         | IIIIIIGIIIII |\n",
    "| @HWI-EAS440_0386:1:23:2112:3374#0/1  | GAGAGAATGATC | +         | FEEBBCEEEEDG |\n"
   ]
  },
  {
   "cell_type": "markdown",
   "id": "5270a827",
   "metadata": {
    "tags": []
   },
   "source": [
    "For example, the first sequence of the experiment, the barcode is `ATGCAGCTCAGT`, which belongs to sample `L2S204`."
   ]
  },
  {
   "cell_type": "markdown",
   "id": "460644b3",
   "metadata": {
    "tags": []
   },
   "source": [
    "Use Ctrl + F to find the following barcodes:\n",
    "- CCCCTCAGCGGC\n",
    "- GACGAGTCAGTC"
   ]
  },
  {
   "cell_type": "markdown",
   "id": "5fb246e1",
   "metadata": {},
   "source": [
    "Solution:\n",
    "<Details> \n",
    "They are not in the table.\n",
    "    \n",
    "Sequencing machines make mistakes often, or are samples that are not used in this concrete experiment.\n",
    "    \n",
    "Either:\n",
    "- use a program to find the closest barcode in the table, or\n",
    "- throw away the sequences\n",
    "</Details>\n",
    "\n",
    "\n"
   ]
  },
  {
   "cell_type": "markdown",
   "id": "6381886e",
   "metadata": {},
   "source": [
    "And now the file with the 16S fragments:"
   ]
  },
  {
   "cell_type": "markdown",
   "id": "171eb12f",
   "metadata": {},
   "source": [
    "| sequence_name                        | sequence                                                                                                                                                 | separator | quality                                                                                                                                                  |\n",
    "|:--------------------------------------|:----------------------------------------------------------------------------------------------------------------------------------------------------------|:-----------|:----------------------------------------------------------------------------------------------------------------------------------------------------------|\n",
    "| @HWI-EAS440_0386:1:23:17547:1423#0/1 | TACGNAGGATCCGAGCGTTATCCGGATTTATTGGGTTTAAAGGGAGCGTAGATGGATGTTTAAGTCAGTTGTGAAAGTTTGCGGCTCAACCGTAAAATTGCAGTTGATACTGGATATCTTGAGTGCAGTTGAGGCAGGGGGGGATTGGTGTG | +         | IIIE)EEEEEEEEGFIIGIIIHIHHGIIIGIIHHHGIIHGHEGDGIFIGEHGIHHGHHGHHGGHEEGHEGGEHEBBHBBEEDCEDDD>B?BE@@B>@@@@@CB@ABA@@?@@=>?08;3=;==8:5;@6?###################### |\n",
    "| @HWI-EAS440_0386:1:23:14818:1533#0/1 | CCCCNCAGCGGCAAAAATTAAAATTTTTACCGCTTCGGCGTTATAGCCTCACACTCAATCTTTTATCACGAAGTCATGATTGAATCGCGAGTGGTCGGCAGATTGCGATAAACGGGCACATTAAATTTAAACTGATGATTCCACTGCAACAA | +         | 64<2$24;1)/:*B<?BBDDBBD<>BDD############################################################################################################################ |\n",
    "| @HWI-EAS440_0386:1:23:14401:1629#0/1 | TACGNAGGATCCGAGCGTTATCCGGATTTATTGGGTTTAAAGGGAGCGTAGGCGGACGCTTAAGTCAGTTGTGAAAGTTTGCGGCTCAACCGTAAAATTGCAGTTGATACTGGGTGTCTTGAGTACAGTAGAGGCAGGGGGGGGGTTGGGGG | +         | GGGC'ACC8;;>;HHHHGHDHHHHHEEHHEHHHHHECHEEEHCHFHHHAGGEHHFBCCBABBBE>>>E=>A>A<>>B8B:B=BBABA@AAAA@?>???>>>9>@AA@@@@AA######################################## |\n",
    "| @HWI-EAS440_0386:1:23:15259:1649#0/1 | TACGNAGGATCCGAGCGTTATCCGGATTTATTGGGTTTAAAGGGAGCGTAGGCGGACGCTTAAGTCAGTTGTGAAAGTTTGCGGCTCAACCGTAAAATTGCAGTTGATACTGGGTGTCTTGAGTACAGTAGAGGCAGGGGGGAGTTTGGGGG | +         | IIIE)DEE?CCCBIIIIIIGIIIIIHIIIIIIIIIHIIIHFIDIGIIIHHIHIGIIIHFIHBGGBFDGEHHEI=CBGBEEEEEHEEGECD?>B@=?@BAA=9A?@A>ABBBCDB:C:@??9>?;:?;?BA@?B################### |\n",
    "| @HWI-EAS440_0386:1:23:13748:2482#0/1 | TACGNAGGATCCGAGCGTTATCCGGATTTATTGGGTTTAAAGGGAGCGTAGATGGATGTTTAAGTCAGTTGTGAAAGTTTGCGGCTCAACCGTAAAATTGCAGTTGATACTGGATATCTTGAGTGCAGTTGAGGCAGGCGGGATTCGTGGTG | +         | GGGC'?CC4<5<6HHHHHHH@@HGGEEGHHFHHHHBBHGFFGCGBBGG@DGBDGFDFEEHHHFHEHEHBHHEEDEEEAB@BBEAEEBEEAEBB8:>>:EEEB@>@>>B@:@@@9=@>:B:>=>8:/7>=>@##################### |\n",
    "| @HWI-EAS440_0386:1:23:6532:3028#0/1  | TACGNAGGATCCGAGCGTTATCCGGATTTATTGGGTTTAAAGGGAGCGTAGGCGGACGCTTAAGTCAGTTGTGAAAGTTTGCGGCTCAACCGTAAAATTGCAGTTGATACTGGGTGTCTTGAGTACAGTAGAGGCAGGGGGGAGTCTTGGGG | +         | IIIG)EGGBDEDDIIIIHIGIIIIGFIIIDIIIFIHIIHHIIHFIHIIGGHIIIHHIHIEEHHHGIGHEIIEFBA8G?EEEEECHBHDEFEHDGEECDEEBEEDFGC@BEEEEE@EBBBBBBBADBAB9?;=9@????############## |\n",
    "| @HWI-EAS440_0386:1:23:8677:3027#0/1  | TACANAGGTCTCAAGCGTTGTTCGGAATCACTGGGCGTAAAGCGTGCGTAGGCTGTTTCGTAAGTCGTGTGTGAAAGGCGCGGGCTCAACCCGCGGCCGGCACATGATACTGTGAGACTAGCGTAACGGAGGGGGAACCGGAATTCTTGGTG | +         | HHHA'CCCEFFFFHHHHHHHHHHHGHHHHHHHHHHHHHHHHHGHHHHHHHHHGHHHHHHHG>HGDDGDGCGCEHFE>EEEB@EFEBB>B;D@@########################################################### |\n",
    "| @HWI-EAS440_0386:1:23:5678:3052#0/1  | TACGNAGGGGGCAAGCGTTATCCGGATTTACTGGGTGTAAAGGGAGCGTAGACGGAAGAGCAAGTCTGATGTGAAAGGCTGGGGCTTAACCCCAGGACTGCATTGGAAACTGTTTTTCTTGAGTGCCGGAGAGGTAAGCGGAATTCCTGGGG | +         | IIIF)FFFBBBCCIHIIIIIIIIIHIIIIHIIIIIGIHIIHIIHIIIIEIFIIGHIIBFIIHHIEEIIIIIBEGGGGEC>;@@;?@A?EBBEEBADA;=5<==>=3+>:4<=9@B>>1@9.=5=?=??######################## |\n",
    "| @HWI-EAS440_0386:1:23:11889:3171#0/1 | TACGNAGGGGGCAAGCGTTATCCGGATTTACTGGGTGTAAAGGGAGCGTAGACGGTTTTGCAAGTCTGAAGTGAAAGCCCGGGGCTTAACCCCGGGACTGCTTTGGAAACTGTATGACTAGAGTGCAGGAGAGGTAAGTGGAATTCCTAGTG | +         | IIIF)EEFFFFEEIHIIIIIIIIIIDIIIIIIIIIGIGEEEGGIHHIIHIHFIIFHHIIIIGGIGGIIH@FEBFDEDD<EBCBBEEEBBEBBF:=829?>>??AA3;;@@@B@@BB@################################### |\n",
    "| @HWI-EAS440_0386:1:23:2112:3374#0/1  | TACGNAGGATCCGAGCGTTATCCGGATTTATTGGGTTTAAAGGGAGCGTAGATGGATGTTTAAGTCAGTTGTGAAAGTTTGCGGCTCAACCGTAAAATTGCAGTTGATACTGGATGTCTTGAGTGCAGTTGAGGCAGGGGGGATTCGTGTGG | +         | GGGE(DEE;;@@@HHHHHHHHHHHHHHHHGHHHHHHGHEHHHHFHHHHFHHHHHHFHHEHHFHHHHHHEHHEHDBBG=?@C@C@HEFEE@FFE3?;??AED3C@1@@3?=<>?DADCBEBBBC?EB?B######################## |\n"
   ]
  },
  {
   "cell_type": "markdown",
   "id": "9a6ec687",
   "metadata": {
    "tags": []
   },
   "source": [
    "As you can see, sequences can be pretty long. And it goes forever. This file contains +300K sequences. Real datasets contain hundreds of million sequences.\n",
    "\n",
    "Data processing by hand, or with a word processor and spreadsheets is impossible, and therefore you need to use tools taylored for this purpose, like Qiime2."
   ]
  },
  {
   "cell_type": "markdown",
   "id": "5002bde7",
   "metadata": {},
   "source": [
    "Qiime is a toolbox that contains almost all the programs you need to process metabarcoding data. To see what it can do, just type qiime in a code cell:"
   ]
  },
  {
   "cell_type": "markdown",
   "id": "2bb4623d",
   "metadata": {},
   "source": [
    "The tools we are going to focus in this tutorial are:\n",
    "- tools\n",
    "- demux\n",
    "- dada2\n",
    "- feature-table\n",
    "- phylogeny\n",
    "- diversity\n",
    "- emperor\n",
    "- feature classifier\n",
    "- taxa\n",
    "- composition"
   ]
  },
  {
   "cell_type": "markdown",
   "id": "96796593",
   "metadata": {},
   "source": [
    "To see how any of them work, type `qiime [TOOL] [SUBTOOL] --help`, and it will show how to use it:"
   ]
  },
  {
   "cell_type": "code",
   "execution_count": 15,
   "id": "2993bf66",
   "metadata": {
    "tags": []
   },
   "outputs": [
    {
     "name": "stdout",
     "output_type": "stream",
     "text": [
      "Usage: \u001b[94mqiime demux\u001b[0m [OPTIONS] COMMAND [ARGS]...\n",
      "\n",
      "  Description: This QIIME 2 plugin supports demultiplexing of single-end and\n",
      "  paired-end sequence reads and visualization of sequence quality information.\n",
      "\n",
      "  Plugin website: https://github.com/qiime2/q2-demux\n",
      "\n",
      "  Getting user support: Please post to the QIIME 2 forum for help with this\n",
      "  plugin: https://forum.qiime2.org\n",
      "\n",
      "\u001b[1mOptions\u001b[0m:\n",
      "  \u001b[94m--version\u001b[0m            Show the version and exit.\n",
      "  \u001b[94m--example-data\u001b[0m PATH  Write example data and exit.\n",
      "  \u001b[94m--citations\u001b[0m          Show citations and exit.\n",
      "  \u001b[94m--help\u001b[0m               Show this message and exit.\n",
      "\n",
      "\u001b[1mCommands\u001b[0m:\n",
      "  \u001b[94memp-paired\u001b[0m        Demultiplex paired-end sequence data generated with the\n",
      "                    EMP protocol.\n",
      "  \u001b[94memp-single\u001b[0m        Demultiplex sequence data generated with the EMP protocol.\n",
      "  \u001b[94mfilter-samples\u001b[0m    Filter samples out of demultiplexed data.\n",
      "  \u001b[94msubsample-paired\u001b[0m  Subsample paired-end sequences without replacement.\n",
      "  \u001b[94msubsample-single\u001b[0m  Subsample single-end sequences without replacement.\n",
      "  \u001b[94msummarize\u001b[0m         Summarize counts per sample.\n",
      "(qiime2-2023.2) \n"
     ]
    },
    {
     "ename": "",
     "evalue": "1",
     "output_type": "error",
     "traceback": []
    }
   ],
   "source": [
    "qiime demux --help"
   ]
  },
  {
   "cell_type": "code",
   "execution_count": 16,
   "id": "7a4ea389",
   "metadata": {
    "tags": []
   },
   "outputs": [
    {
     "name": "stdout",
     "output_type": "stream",
     "text": [
      "Usage: \u001b[94mqiime taxa barplot\u001b[0m [OPTIONS]\n",
      "\n",
      "  This visualizer produces an interactive barplot visualization of taxonomies.\n",
      "  Interactive features include multi-level sorting, plot recoloring, sample\n",
      "  relabeling, and SVG figure export.\n",
      "\n",
      "\u001b[1mInputs\u001b[0m:\n",
      "  \u001b[94m\u001b[4m--i-table\u001b[0m ARTIFACT \u001b[32mFeatureTable[Frequency]\u001b[0m\n",
      "                         Feature table to visualize at various taxonomic\n",
      "                         levels.                                    \u001b[35m[required]\u001b[0m\n",
      "  \u001b[94m\u001b[4m--i-taxonomy\u001b[0m ARTIFACT \u001b[32mFeatureData[Taxonomy]\u001b[0m\n",
      "                         Taxonomic annotations for features in the provided\n",
      "                         feature table. All features in the feature table must\n",
      "                         have a corresponding taxonomic annotation. Taxonomic\n",
      "                         annotations that are not present in the feature table\n",
      "                         will be ignored.                           \u001b[35m[required]\u001b[0m\n",
      "\u001b[1mParameters\u001b[0m:\n",
      "  \u001b[94m--m-metadata-file\u001b[0m METADATA...\n",
      "    (multiple            The sample metadata.\n",
      "     arguments will be   \n",
      "     merged)                                                        \u001b[35m[optional]\u001b[0m\n",
      "\u001b[1mOutputs\u001b[0m:\n",
      "  \u001b[94m\u001b[4m--o-visualization\u001b[0m VISUALIZATION\n",
      "                                                                    \u001b[35m[required]\u001b[0m\n",
      "\u001b[1mMiscellaneous\u001b[0m:\n",
      "  \u001b[94m--output-dir\u001b[0m PATH      Output unspecified results to a directory\n",
      "  \u001b[94m--verbose\u001b[0m / \u001b[94m--quiet\u001b[0m    Display verbose output to stdout and/or stderr\n",
      "                         during execution of this action. Or silence output if\n",
      "                         execution is successful (silence is golden).\n",
      "  \u001b[94m--example-data\u001b[0m PATH    Write example data and exit.\n",
      "  \u001b[94m--citations\u001b[0m            Show citations and exit.\n",
      "  \u001b[94m--help\u001b[0m                 Show this message and exit.\n",
      "\n",
      "\u001b[1mExamples\u001b[0m:\n",
      "  # ### example: barplot\n",
      "  qiime taxa barplot \\\n",
      "    --i-table table.qza \\\n",
      "    --i-taxonomy taxonomy.qza \\\n",
      "    --m-metadata-file sample-metadata.tsv \\\n",
      "    --o-visualization taxa-bar-plots.qzv\n",
      "  \n",
      "(qiime2-2023.2) \n"
     ]
    },
    {
     "ename": "",
     "evalue": "1",
     "output_type": "error",
     "traceback": []
    }
   ],
   "source": [
    "qiime taxa barplot --help"
   ]
  },
  {
   "cell_type": "markdown",
   "id": "41787f7d",
   "metadata": {},
   "source": [
    "The tools included in Qiime2 follow the same pattern:\n",
    "```\n",
    "qiime command subcommand \\\n",
    "  --i-input      files \\\n",
    "  --p-parameters parameter1 \\\n",
    "  --m-metadata   metadata-file.tsv \\\n",
    "  --o-output     output-file\n",
    "```"
   ]
  },
  {
   "cell_type": "markdown",
   "id": "606f43f2",
   "metadata": {
    "tags": []
   },
   "source": [
    "All commands transforms input files into output files:\n",
    "- **I**nput files are specified with `--i-*`\n",
    "- **M**etadata is specified with `--m-*`\n",
    "- **P**arameters on how to execute the command is specified `--p-*`\n",
    "- **O**utput files are specified with `--o-*`\n",
    "\n",
    "As a rule of thumb, use that order: input, metadata, parameters, output. This will make the code cleaner and easier for you to follow."
   ]
  },
  {
   "cell_type": "markdown",
   "id": "d7a6da54",
   "metadata": {},
   "source": [
    "The next picture is the map of the typical analysis in Qiime. Drag and drop it to another tab in your browser if you need to look at it later on"
   ]
  },
  {
   "cell_type": "markdown",
   "id": "7c085fff",
   "metadata": {},
   "source": [
    "<img src=\"assets/img/qiime_map.svg\"  width=\"1200\" height=\"600\">"
   ]
  },
  {
   "cell_type": "markdown",
   "id": "bd1642ff",
   "metadata": {
    "jp-MarkdownHeadingCollapsed": true,
    "tags": []
   },
   "source": [
    "## 1. Importing sequences"
   ]
  },
  {
   "cell_type": "markdown",
   "id": "a223ffab",
   "metadata": {
    "tags": []
   },
   "source": [
    "The first step for Qiime is to tell it where are your sequences. To do so, use the `qiime tools import` command"
   ]
  },
  {
   "cell_type": "code",
   "execution_count": 17,
   "id": "4ca735a9",
   "metadata": {
    "tags": []
   },
   "outputs": [
    {
     "name": "stdout",
     "output_type": "stream",
     "text": [
      "Usage: \u001b[94mqiime tools import\u001b[0m [OPTIONS]\n",
      "\n",
      "  Import data to create a new QIIME 2 Artifact. See https://docs.qiime2.org/\n",
      "  for usage examples and details on the file types and associated semantic\n",
      "  types that can be imported.\n",
      "\n",
      "\u001b[1mOptions\u001b[0m:\n",
      "  \u001b[94m\u001b[4m--type\u001b[0m TEXT             The semantic type of the artifact that will be\n",
      "                          created upon importing. Use --show-importable-types\n",
      "                          to see what importable semantic types are available\n",
      "                          in the current deployment.                \u001b[35m[required]\u001b[0m\n",
      "  \u001b[94m\u001b[4m--input-path\u001b[0m PATH       Path to file or directory that should be imported.\n",
      "                                                                    \u001b[35m[required]\u001b[0m\n",
      "  \u001b[94m\u001b[4m--output-path\u001b[0m ARTIFACT  Path where output artifact should be written.\n",
      "                                                                    \u001b[35m[required]\u001b[0m\n",
      "  \u001b[94m--input-format\u001b[0m TEXT     The format of the data to be imported. If not\n",
      "                          provided, data must be in the format expected by the\n",
      "                          semantic type provided via --type.\n",
      "  \u001b[94m--show-importable-types\u001b[0m Show the semantic types that can be supplied to\n",
      "                          --type to import data into an artifact.\n",
      "  \u001b[94m--show-importable-formats\u001b[0m\n",
      "                          Show formats that can be supplied to --input-format\n",
      "                          to import data into an artifact.\n",
      "  \u001b[94m--help\u001b[0m                  Show this message and exit.\n",
      "(qiime2-2023.2) \n"
     ]
    },
    {
     "ename": "",
     "evalue": "1",
     "output_type": "error",
     "traceback": []
    }
   ],
   "source": [
    "qiime tools import --help"
   ]
  },
  {
   "cell_type": "markdown",
   "id": "5424572d",
   "metadata": {},
   "source": [
    "To import the sequences execute the following:"
   ]
  },
  {
   "cell_type": "code",
   "execution_count": 18,
   "id": "6cd291a9",
   "metadata": {
    "tags": []
   },
   "outputs": [
    {
     "name": "stdout",
     "output_type": "stream",
     "text": [
      "\u001b[32mImported data as EMPSingleEndDirFmt to sequences.qza\u001b[0m\n",
      "\u001b[0m(qiime2-2023.2) \n"
     ]
    },
    {
     "ename": "",
     "evalue": "1",
     "output_type": "error",
     "traceback": []
    }
   ],
   "source": [
    "qiime tools import \\\n",
    "  --type        EMPSingleEndSequences `# the type of sequences` \\\n",
    "  --input-path  data `# the folder with the data` \\\n",
    "  --output-path sequences.qza `# the file in which to store it`"
   ]
  },
  {
   "cell_type": "markdown",
   "id": "ea7e2eae",
   "metadata": {},
   "source": [
    "We can see the content with `peek`:"
   ]
  },
  {
   "cell_type": "code",
   "execution_count": 19,
   "id": "f2f3f88c",
   "metadata": {
    "tags": []
   },
   "outputs": [
    {
     "name": "stdout",
     "output_type": "stream",
     "text": [
      "\u001b[32mUUID\u001b[0m:        4cf09396-1f8d-4299-90d3-1a39b8dea7a5\n",
      "\u001b[32mType\u001b[0m:        EMPSingleEndSequences\n",
      "\u001b[32mData format\u001b[0m: EMPSingleEndDirFmt\n",
      "(qiime2-2023.2) \n"
     ]
    },
    {
     "ename": "",
     "evalue": "1",
     "output_type": "error",
     "traceback": []
    }
   ],
   "source": [
    "qiime tools peek sequences.qza"
   ]
  },
  {
   "cell_type": "markdown",
   "id": "adb162d0",
   "metadata": {},
   "source": [
    "It is not very useful, but it says that it contains sequences of the type EMP Single End."
   ]
  },
  {
   "cell_type": "markdown",
   "id": "bb40d7ba",
   "metadata": {},
   "source": [
    "Double clicking `sequences.qza` does not work. The file is very big to see it manually or generate reports: \".qz**v**\" files"
   ]
  },
  {
   "cell_type": "markdown",
   "id": "e7bf934f",
   "metadata": {},
   "source": [
    "Note: qiime generates two types of files:\n",
    "- qz**a** - artifacts: tables, for the machine\n",
    "- qz**v** - visualizations: plots, for the humans\n",
    "\n",
    "The artifacts are for the programs, the visualizations for us."
   ]
  },
  {
   "cell_type": "markdown",
   "id": "0c037b5b",
   "metadata": {
    "tags": []
   },
   "source": [
    "## 2. Demux: demultiplex sequences"
   ]
  },
  {
   "cell_type": "markdown",
   "id": "c675a3a4",
   "metadata": {},
   "source": [
    "Demultiplexing consists of grouping the 16S sequences according to the sample they belong. The purpose is to separate the reads by sample."
   ]
  },
  {
   "cell_type": "markdown",
   "id": "e380ac6a",
   "metadata": {},
   "source": [
    "To do so, we will use `qiime demux`:"
   ]
  },
  {
   "cell_type": "code",
   "execution_count": 20,
   "id": "3c010f71",
   "metadata": {
    "tags": []
   },
   "outputs": [
    {
     "name": "stdout",
     "output_type": "stream",
     "text": [
      "Usage: \u001b[94mqiime demux\u001b[0m [OPTIONS] COMMAND [ARGS]...\n",
      "\n",
      "  Description: This QIIME 2 plugin supports demultiplexing of single-end and\n",
      "  paired-end sequence reads and visualization of sequence quality information.\n",
      "\n",
      "  Plugin website: https://github.com/qiime2/q2-demux\n",
      "\n",
      "  Getting user support: Please post to the QIIME 2 forum for help with this\n",
      "  plugin: https://forum.qiime2.org\n",
      "\n",
      "\u001b[1mOptions\u001b[0m:\n",
      "  \u001b[94m--version\u001b[0m            Show the version and exit.\n",
      "  \u001b[94m--example-data\u001b[0m PATH  Write example data and exit.\n",
      "  \u001b[94m--citations\u001b[0m          Show citations and exit.\n",
      "  \u001b[94m--help\u001b[0m               Show this message and exit.\n",
      "\n",
      "\u001b[1mCommands\u001b[0m:\n",
      "  \u001b[94memp-paired\u001b[0m        Demultiplex paired-end sequence data generated with the\n",
      "                    EMP protocol.\n",
      "  \u001b[94memp-single\u001b[0m        Demultiplex sequence data generated with the EMP protocol.\n",
      "  \u001b[94mfilter-samples\u001b[0m    Filter samples out of demultiplexed data.\n",
      "  \u001b[94msubsample-paired\u001b[0m  Subsample paired-end sequences without replacement.\n",
      "  \u001b[94msubsample-single\u001b[0m  Subsample single-end sequences without replacement.\n",
      "  \u001b[94msummarize\u001b[0m         Summarize counts per sample.\n",
      "(qiime2-2023.2) \n"
     ]
    },
    {
     "ename": "",
     "evalue": "1",
     "output_type": "error",
     "traceback": []
    }
   ],
   "source": [
    "qiime demux --help"
   ]
  },
  {
   "cell_type": "markdown",
   "id": "fd5f3ca4",
   "metadata": {
    "tags": []
   },
   "source": [
    "Since our dataset is of the type `emp-single`, we will use that"
   ]
  },
  {
   "cell_type": "code",
   "execution_count": 21,
   "id": "bdb348a5",
   "metadata": {
    "tags": []
   },
   "outputs": [
    {
     "name": "stdout",
     "output_type": "stream",
     "text": [
      "Usage: \u001b[94mqiime demux emp-single\u001b[0m [OPTIONS]\n",
      "\n",
      "  Demultiplex sequence data (i.e., map barcode reads to sample ids) for data\n",
      "  generated with the Earth Microbiome Project (EMP) amplicon sequencing\n",
      "  protocol. Details about this protocol can be found at\n",
      "  http://www.earthmicrobiome.org/protocols-and-standards/\n",
      "\n",
      "\u001b[1mInputs\u001b[0m:\n",
      "  \u001b[94m\u001b[4m--i-seqs\u001b[0m ARTIFACT \u001b[32mRawSequences | EMPSingleEndSequences |\u001b[0m\n",
      "    \u001b[32mEMPPairedEndSequences\u001b[0m\n",
      "                       The single-end sequences to be demultiplexed.\n",
      "                                                                    \u001b[35m[required]\u001b[0m\n",
      "\u001b[1mParameters\u001b[0m:\n",
      "  \u001b[94m\u001b[4m--m-barcodes-file\u001b[0m METADATA\n",
      "  \u001b[94m\u001b[4m--m-barcodes-column\u001b[0m COLUMN  \u001b[32mMetadataColumn[Categorical]\u001b[0m\n",
      "                       The sample metadata column containing the per-sample\n",
      "                       barcodes.                                    \u001b[35m[required]\u001b[0m\n",
      "  \u001b[94m--p-golay-error-correction\u001b[0m / \u001b[94m--p-no-golay-error-correction\u001b[0m\n",
      "                       Perform 12nt Golay error correction on the barcode\n",
      "                       reads.                                  \u001b[35m[default: True]\u001b[0m\n",
      "  \u001b[94m--p-rev-comp-barcodes\u001b[0m / \u001b[94m--p-no-rev-comp-barcodes\u001b[0m\n",
      "                       If provided, the barcode sequence reads will be\n",
      "                       reverse complemented prior to demultiplexing.\n",
      "                                                              \u001b[35m[default: False]\u001b[0m\n",
      "  \u001b[94m--p-rev-comp-mapping-barcodes\u001b[0m / \u001b[94m--p-no-rev-comp-mapping-barcodes\u001b[0m\n",
      "                       If provided, the barcode sequences in the sample\n",
      "                       metadata will be reverse complemented prior to\n",
      "                       demultiplexing.                        \u001b[35m[default: False]\u001b[0m\n",
      "  \u001b[94m--p-ignore-description-mismatch\u001b[0m / \u001b[94m--p-no-ignore-description-mismatch\u001b[0m\n",
      "                       If enabled, ignore mismatches in sequence record\n",
      "                       description fields.                    \u001b[35m[default: False]\u001b[0m\n",
      "\u001b[1mOutputs\u001b[0m:\n",
      "  \u001b[94m\u001b[4m--o-per-sample-sequences\u001b[0m ARTIFACT \u001b[32mSampleData[SequencesWithQuality]\u001b[0m\n",
      "                       The resulting demultiplexed sequences.       \u001b[35m[required]\u001b[0m\n",
      "  \u001b[94m\u001b[4m--o-error-correction-details\u001b[0m ARTIFACT \u001b[32mErrorCorrectionDetails\u001b[0m\n",
      "                       Detail about the barcode error corrections.  \u001b[35m[required]\u001b[0m\n",
      "\u001b[1mMiscellaneous\u001b[0m:\n",
      "  \u001b[94m--output-dir\u001b[0m PATH    Output unspecified results to a directory\n",
      "  \u001b[94m--verbose\u001b[0m / \u001b[94m--quiet\u001b[0m  Display verbose output to stdout and/or stderr during\n",
      "                       execution of this action. Or silence output if\n",
      "                       execution is successful (silence is golden).\n",
      "  \u001b[94m--example-data\u001b[0m PATH  Write example data and exit.\n",
      "  \u001b[94m--citations\u001b[0m          Show citations and exit.\n",
      "  \u001b[94m--help\u001b[0m               Show this message and exit.\n",
      "\n",
      "\u001b[1mExamples\u001b[0m:\n",
      "  # ### example: demux\n",
      "  qiime demux emp-single \\\n",
      "    --i-seqs sequences.qza \\\n",
      "    --m-barcodes-file sample-metadata.tsv \\\n",
      "    --m-barcodes-column barcode-sequence \\\n",
      "    --o-per-sample-sequences demux.qza \\\n",
      "    --o-error-correction-details demux-details.qza\n",
      "  \n",
      "(qiime2-2023.2) \n"
     ]
    },
    {
     "ename": "",
     "evalue": "1",
     "output_type": "error",
     "traceback": []
    }
   ],
   "source": [
    "qiime demux emp-single --help"
   ]
  },
  {
   "cell_type": "markdown",
   "id": "521bed9c",
   "metadata": {},
   "source": [
    "We have to specify:\n",
    "- The input qza\n",
    "- The metadata file that contains the barcodes\n",
    "- The exact column\n",
    "- Where to store the results\n",
    "- Statistics of the procedure"
   ]
  },
  {
   "cell_type": "code",
   "execution_count": 22,
   "id": "03f04d92",
   "metadata": {
    "tags": []
   },
   "outputs": [
    {
     "name": "stdout",
     "output_type": "stream",
     "text": [
      "\u001b[32mSaved SampleData[SequencesWithQuality] to: demux.qza\u001b[0m\n",
      "\u001b[32mSaved ErrorCorrectionDetails to: demux-details.qza\u001b[0m\n",
      "\u001b[0m(qiime2-2023.2) \n"
     ]
    },
    {
     "ename": "",
     "evalue": "1",
     "output_type": "error",
     "traceback": []
    }
   ],
   "source": [
    "qiime demux emp-single \\\n",
    "    --i-seqs                     sequences.qza \\\n",
    "    --m-barcodes-file            sample-metadata.tsv \\\n",
    "    --m-barcodes-column          barcode-sequence \\\n",
    "    --o-per-sample-sequences     demux.qza \\\n",
    "    --o-error-correction-details demux-details.qza"
   ]
  },
  {
   "cell_type": "markdown",
   "id": "269b9db7",
   "metadata": {
    "tags": []
   },
   "source": [
    "Let's see what happened in this step. To do so, convert `demux.qza` into `demux.qzv`:"
   ]
  },
  {
   "cell_type": "code",
   "execution_count": 23,
   "id": "eb017f22",
   "metadata": {
    "tags": []
   },
   "outputs": [
    {
     "name": "stdout",
     "output_type": "stream",
     "text": [
      "\u001b[32mSaved Visualization to: demux.qzv\u001b[0m\n",
      "\u001b[0m(qiime2-2023.2) \n"
     ]
    },
    {
     "ename": "",
     "evalue": "1",
     "output_type": "error",
     "traceback": []
    }
   ],
   "source": [
    "qiime demux summarize \\\n",
    "  --i-data          demux.qza \\\n",
    "  --o-visualization demux.qzv"
   ]
  },
  {
   "cell_type": "markdown",
   "id": "bce0b616",
   "metadata": {},
   "source": [
    "Download `demux.qzv` and upload it to https://view.qiime2.org"
   ]
  },
  {
   "cell_type": "markdown",
   "id": "32127019",
   "metadata": {},
   "source": [
    "Or click this [link](https://view.qiime2.org/?src=https%3A%2F%2Fdocs.qiime2.org%2F2023.2%2Fdata%2Ftutorials%2Fmoving-pictures%2Fdemux.qzv)"
   ]
  },
  {
   "cell_type": "markdown",
   "id": "48b66b45",
   "metadata": {},
   "source": [
    "## 3. DADA2: correct errors"
   ]
  },
  {
   "cell_type": "markdown",
   "id": "4da5a2fc",
   "metadata": {},
   "source": [
    "DADA2 is a program to detect and correct errors in amplicon sequences. The command to run is the following:"
   ]
  },
  {
   "cell_type": "code",
   "execution_count": 25,
   "id": "52237f79",
   "metadata": {},
   "outputs": [
    {
     "name": "stdout",
     "output_type": "stream",
     "text": [
      "Usage: \u001b[94mqiime dada2\u001b[0m [OPTIONS] COMMAND [ARGS]...\n",
      "\n",
      "  Description: This QIIME 2 plugin wraps DADA2 and supports sequence quality\n",
      "  control for single-end and paired-end reads using the DADA2 R library.\n",
      "\n",
      "  Plugin website: http://benjjneb.github.io/dada2/\n",
      "\n",
      "  Getting user support: Please post to the QIIME 2 forum for help with this\n",
      "  plugin: https://forum.qiime2.org\n",
      "\n",
      "\u001b[1mOptions\u001b[0m:\n",
      "  \u001b[94m--version\u001b[0m            Show the version and exit.\n",
      "  \u001b[94m--example-data\u001b[0m PATH  Write example data and exit.\n",
      "  \u001b[94m--citations\u001b[0m          Show citations and exit.\n",
      "  \u001b[94m--help\u001b[0m               Show this message and exit.\n",
      "\n",
      "\u001b[1mCommands\u001b[0m:\n",
      "  \u001b[94mdenoise-ccs\u001b[0m     Denoise and dereplicate single-end Pacbio CCS\n",
      "  \u001b[94mdenoise-paired\u001b[0m  Denoise and dereplicate paired-end sequences\n",
      "  \u001b[94mdenoise-pyro\u001b[0m    Denoise and dereplicate single-end pyrosequences\n",
      "  \u001b[94mdenoise-single\u001b[0m  Denoise and dereplicate single-end sequences\n",
      "(qiime2-2023.2) \n"
     ]
    },
    {
     "ename": "",
     "evalue": "1",
     "output_type": "error",
     "traceback": []
    }
   ],
   "source": [
    "qiime dada2 --help"
   ]
  },
  {
   "cell_type": "code",
   "execution_count": 26,
   "id": "8d080aa4",
   "metadata": {
    "scrolled": true
   },
   "outputs": [
    {
     "name": "stdout",
     "output_type": "stream",
     "text": [
      "Usage: \u001b[94mqiime dada2 denoise-single\u001b[0m [OPTIONS]\n",
      "\n",
      "  This method denoises single-end sequences, dereplicates them, and filters\n",
      "  chimeras.\n",
      "\n",
      "\u001b[1mInputs\u001b[0m:\n",
      "  \u001b[94m\u001b[4m--i-demultiplexed-seqs\u001b[0m ARTIFACT \u001b[32mSampleData[SequencesWithQuality |\u001b[0m\n",
      "    \u001b[32mPairedEndSequencesWithQuality]\u001b[0m\n",
      "                         The single-end demultiplexed sequences to be\n",
      "                         denoised.                                  \u001b[35m[required]\u001b[0m\n",
      "\u001b[1mParameters\u001b[0m:\n",
      "  \u001b[94m\u001b[4m--p-trunc-len\u001b[0m INTEGER  Position at which sequences should be truncated due\n",
      "                         to decrease in quality. This truncates the 3' end of\n",
      "                         the of the input sequences, which will be the bases\n",
      "                         that were sequenced in the last cycles. Reads that\n",
      "                         are shorter than this value will be discarded. If 0\n",
      "                         is provided, no truncation or length filtering will\n",
      "                         be performed                               \u001b[35m[required]\u001b[0m\n",
      "  \u001b[94m--p-trim-left\u001b[0m INTEGER  Position at which sequences should be trimmed due to\n",
      "                         low quality. This trims the 5' end of the of the\n",
      "                         input sequences, which will be the bases that were\n",
      "                         sequenced in the first cycles.           \u001b[35m[default: 0]\u001b[0m\n",
      "  \u001b[94m--p-max-ee\u001b[0m NUMBER      Reads with number of expected errors higher than\n",
      "                         this value will be discarded.          \u001b[35m[default: 2.0]\u001b[0m\n",
      "  \u001b[94m--p-trunc-q\u001b[0m INTEGER    Reads are truncated at the first instance of a\n",
      "                         quality score less than or equal to this value. If\n",
      "                         the resulting read is then shorter than `\u001b[4mtrunc-len\u001b[0m`,\n",
      "                         it is discarded.                         \u001b[35m[default: 2]\u001b[0m\n",
      "  \u001b[94m--p-pooling-method\u001b[0m TEXT \u001b[32mChoices('independent', 'pseudo')\u001b[0m\n",
      "                         The method used to pool samples for denoising.\n",
      "                         \"independent\": Samples are denoised independently.\n",
      "                         \"pseudo\": The pseudo-pooling method is used to\n",
      "                         approximate pooling of samples. In short, samples are\n",
      "                         denoised independently once, ASVs detected in at\n",
      "                         least 2 samples are recorded, and samples are\n",
      "                         denoised independently a second time, but this time\n",
      "                         with prior knowledge of the recorded ASVs and thus\n",
      "                         higher sensitivity to those ASVs.\n",
      "                                                      \u001b[35m[default: 'independent']\u001b[0m\n",
      "  \u001b[94m--p-chimera-method\u001b[0m TEXT \u001b[32mChoices('consensus', 'none', 'pooled')\u001b[0m\n",
      "                         The method used to remove chimeras. \"none\": No\n",
      "                         chimera removal is performed. \"pooled\": All reads are\n",
      "                         pooled prior to chimera detection. \"consensus\":\n",
      "                         Chimeras are detected in samples individually, and\n",
      "                         sequences found chimeric in a sufficient fraction of\n",
      "                         samples are removed.           \u001b[35m[default: 'consensus']\u001b[0m\n",
      "  \u001b[94m--p-min-fold-parent-over-abundance\u001b[0m NUMBER\n",
      "                         The minimum abundance of potential parents of a\n",
      "                         sequence being tested as chimeric, expressed as a\n",
      "                         fold-change versus the abundance of the sequence\n",
      "                         being tested. Values should be greater than or equal\n",
      "                         to 1 (i.e. parents should be more abundant than the\n",
      "                         sequence being tested). This parameter has no effect\n",
      "                         if \u001b[4mchimera-method\u001b[0m is \"none\".           \u001b[35m[default: 1.0]\u001b[0m\n",
      "  \u001b[94m--p-allow-one-off\u001b[0m / \u001b[94m--p-no-allow-one-off\u001b[0m\n",
      "                         Bimeras that are one-off from exact are also\n",
      "                         identified if the `\u001b[4mallow-one-off\u001b[0m` argument is True.If\n",
      "                         True, a sequence will be identified as bimera if it\n",
      "                         is one mismatch or indel away from an exact bimera.\n",
      "                                                              \u001b[35m[default: False]\u001b[0m\n",
      "  \u001b[94m--p-n-threads\u001b[0m INTEGER  The number of threads to use for multithreaded\n",
      "                         processing. If 0 is provided, all available cores\n",
      "                         will be used.                            \u001b[35m[default: 1]\u001b[0m\n",
      "  \u001b[94m--p-n-reads-learn\u001b[0m INTEGER\n",
      "                         The number of reads to use when training the error\n",
      "                         model. Smaller numbers will result in a shorter run\n",
      "                         time but a less reliable error model.\n",
      "                                                            \u001b[35m[default: 1000000]\u001b[0m\n",
      "  \u001b[94m--p-hashed-feature-ids\u001b[0m / \u001b[94m--p-no-hashed-feature-ids\u001b[0m\n",
      "                         If true, the feature ids in the resulting table will\n",
      "                         be presented as hashes of the sequences defining each\n",
      "                         feature. The hash will always be the same for the\n",
      "                         same sequence so this allows feature tables to be\n",
      "                         merged across runs of this method. You should only\n",
      "                         merge tables if the exact same parameters are used\n",
      "                         for each run.                         \u001b[35m[default: True]\u001b[0m\n",
      "\u001b[1mOutputs\u001b[0m:\n",
      "  \u001b[94m\u001b[4m--o-table\u001b[0m ARTIFACT \u001b[32mFeatureTable[Frequency]\u001b[0m\n",
      "                         The resulting feature table.               \u001b[35m[required]\u001b[0m\n",
      "  \u001b[94m\u001b[4m--o-representative-sequences\u001b[0m ARTIFACT \u001b[32mFeatureData[Sequence]\u001b[0m\n",
      "                         The resulting feature sequences. Each feature in the\n",
      "                         feature table will be represented by exactly one\n",
      "                         sequence.                                  \u001b[35m[required]\u001b[0m\n",
      "  \u001b[94m\u001b[4m--o-denoising-stats\u001b[0m ARTIFACT \u001b[32mSampleData[DADA2Stats]\u001b[0m\n",
      "                                                                    \u001b[35m[required]\u001b[0m\n",
      "\u001b[1mMiscellaneous\u001b[0m:\n",
      "  \u001b[94m--output-dir\u001b[0m PATH      Output unspecified results to a directory\n",
      "  \u001b[94m--verbose\u001b[0m / \u001b[94m--quiet\u001b[0m    Display verbose output to stdout and/or stderr\n",
      "                         during execution of this action. Or silence output if\n",
      "                         execution is successful (silence is golden).\n",
      "  \u001b[94m--example-data\u001b[0m PATH    Write example data and exit.\n",
      "  \u001b[94m--citations\u001b[0m            Show citations and exit.\n",
      "  \u001b[94m--help\u001b[0m                 Show this message and exit.\n",
      "\n",
      "\u001b[1mExamples\u001b[0m:\n",
      "  # ### example: denoise single\n",
      "  qiime dada2 denoise-single \\\n",
      "    --i-demultiplexed-seqs demux-single.qza \\\n",
      "    --p-trim-left 0 \\\n",
      "    --p-trunc-len 120 \\\n",
      "    --o-representative-sequences representative-sequences.qza \\\n",
      "    --o-table table.qza \\\n",
      "    --o-denoising-stats denoising-stats.qza\n",
      "  \n",
      "(qiime2-2023.2) \n"
     ]
    },
    {
     "ename": "",
     "evalue": "1",
     "output_type": "error",
     "traceback": []
    }
   ],
   "source": [
    "qiime dada2 denoise-single --help"
   ]
  },
  {
   "cell_type": "markdown",
   "id": "6ad4c936",
   "metadata": {},
   "source": [
    "The mandatory parameters are the following:\n",
    "- **I**nputs:\n",
    "  - the demultiplexed sequences: `demux.qza`\n",
    "- **P**arameters:\n",
    "  - how many base pairs to keep: 120\n",
    "  - how many bases to trim on the 5' end (left): 0\n",
    "- **O**utputs:\n",
    "  - representative sequences: the clustered amplicons\n",
    "  - table: the table that says how many of **each bacteria** are in **each sample**\n",
    "  - denoising stats: stats for the nerds."
   ]
  },
  {
   "cell_type": "markdown",
   "id": "c575f103",
   "metadata": {},
   "source": [
    "Let's compose the command"
   ]
  },
  {
   "cell_type": "code",
   "execution_count": 27,
   "id": "f249c368",
   "metadata": {},
   "outputs": [
    {
     "name": "stdout",
     "output_type": "stream",
     "text": [
      "\u001b[32mSaved FeatureTable[Frequency] to: table.qza\u001b[0m\n",
      "\u001b[32mSaved FeatureData[Sequence] to: rep-seqs.qza\u001b[0m\n",
      "\u001b[32mSaved SampleData[DADA2Stats] to: dada2-stats.qza\u001b[0m\n",
      "\u001b[0m(qiime2-2023.2) \n"
     ]
    },
    {
     "ename": "",
     "evalue": "1",
     "output_type": "error",
     "traceback": []
    }
   ],
   "source": [
    "qiime dada2 denoise-single \\\n",
    "    --i-demultiplexed-seqs       demux.qza \\\n",
    "    --p-trim-left                0 \\\n",
    "    --p-trunc-len                120 \\\n",
    "    --o-representative-sequences rep-seqs.qza \\\n",
    "    --o-table                    table.qza   \\\n",
    "    --o-denoising-stats          dada2-stats.qza"
   ]
  },
  {
   "cell_type": "markdown",
   "id": "204baa6b",
   "metadata": {},
   "source": [
    "It takes 1-2 minutes."
   ]
  },
  {
   "cell_type": "markdown",
   "id": "abbf312a",
   "metadata": {},
   "source": [
    "And now let's see what is inside the `stats.qza`."
   ]
  },
  {
   "cell_type": "code",
   "execution_count": null,
   "id": "3a45c9d3",
   "metadata": {
    "tags": []
   },
   "outputs": [],
   "source": [
    "qiime metadata tabulate \\\n",
    "    --m-input-file    dada2-stats.qza \\\n",
    "    --o-visualization dada2-stats.qzv"
   ]
  },
  {
   "cell_type": "markdown",
   "id": "74152bdc",
   "metadata": {},
   "source": [
    "We can visualize the qzv with [the qiime view web](https://view.qiime2.org/?src=https%3A%2F%2Fdocs.qiime2.org%2F2023.2%2Fdata%2Ftutorials%2Fmoving-pictures%2Fstats-dada2.qzv)"
   ]
  },
  {
   "cell_type": "markdown",
   "id": "85bccbf3",
   "metadata": {},
   "source": [
    "Finally, we can get the feature table (also called OTU table), which contains what samples contains how many copies of each bacteria"
   ]
  },
  {
   "cell_type": "code",
   "execution_count": null,
   "id": "65bd6ace",
   "metadata": {},
   "outputs": [],
   "source": [
    "qiime feature-table summarize \\\n",
    "    --i-table                table.qza \\\n",
    "    --o-visualization        table.qzv \\\n",
    "    --m-sample-metadata-file sample-metadata.tsv"
   ]
  },
  {
   "cell_type": "markdown",
   "id": "a47bfe41",
   "metadata": {},
   "source": [
    "And also the one that contains the relationship between each OTU and the sequence"
   ]
  },
  {
   "cell_type": "code",
   "execution_count": null,
   "id": "7eb64fce",
   "metadata": {
    "tags": []
   },
   "outputs": [],
   "source": [
    "qiime feature-table summarize \\\n",
    "    --i-table                table.qza \\\n",
    "    --o-visualization        table.qzv \\\n",
    "    --m-sample-metadata-file sample-metadata.tsv"
   ]
  },
  {
   "cell_type": "markdown",
   "id": "a0731ff5",
   "metadata": {},
   "source": [
    "[table.qzv](https://view.qiime2.org/?src=https%3A%2F%2Fdocs.qiime2.org%2F2023.2%2Fdata%2Ftutorials%2Fmoving-pictures%2Ftable.qzv)"
   ]
  },
  {
   "cell_type": "code",
   "execution_count": null,
   "id": "b744a1c4",
   "metadata": {},
   "outputs": [],
   "source": [
    "pause"
   ]
  }
 ],
 "metadata": {
  "kernelspec": {
   "display_name": "Bash",
   "language": "bash",
   "name": "bash"
  },
  "language_info": {
   "codemirror_mode": "shell",
   "file_extension": ".sh",
   "mimetype": "text/x-sh",
   "name": "bash"
  }
 },
 "nbformat": 4,
 "nbformat_minor": 5
}
