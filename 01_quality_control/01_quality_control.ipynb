{
 "cells": [
  {
   "cell_type": "markdown",
   "id": "7dca898c",
   "metadata": {},
   "source": [
    "# Quality control with QIIME2"
   ]
  },
  {
   "cell_type": "markdown",
   "id": "d34da704",
   "metadata": {
    "tags": []
   },
   "source": [
    "The dataset that we are going to analyze is called \"Moving images\", from [Caporaso et al. (2011)](https://www.ncbi.nlm.nih.gov/pubmed/21624126)."
   ]
  },
  {
   "cell_type": "markdown",
   "id": "7b9d114b",
   "metadata": {},
   "source": [
    "It contains metagenomic samples from:\n",
    "- 2 individuals\n",
    "- 4 different body sites\n",
    "- 5 different time points\n",
    "- before and after the application of antibiotics"
   ]
  },
  {
   "cell_type": "markdown",
   "id": "dfb9ab45",
   "metadata": {},
   "source": [
    "The data to analyze is composed of three files:\n",
    "- Sample metadata\n",
    "- Barcodes\n",
    "- Sequences"
   ]
  },
  {
   "cell_type": "markdown",
   "id": "5b6f10d7",
   "metadata": {},
   "source": [
    "Sample metadata is the information that you know of your samples:\n",
    "- The name you have given them.\n",
    "- Where and when were they taken.\n",
    "- Under what conditions."
   ]
  },
  {
   "cell_type": "markdown",
   "id": "2b8572eb",
   "metadata": {},
   "source": [
    "These samples are organized in a table called `sample-metadata.tsv`. Either click it on the left panel or see it below:"
   ]
  },
  {
   "cell_type": "markdown",
   "id": "b5aa61c9",
   "metadata": {
    "tags": []
   },
   "source": [
    "| sample-id | barcode-sequence | body-site   | year    | month   | day     | subject     | reported-antibiotic-usage | days-since-experiment-start |\n",
    "|-----------|------------------|-------------|---------|---------|---------|-------------|---------------------------|-----------------------------|\n",
    "| #q2:types | categorical      | categorical | numeric | numeric | numeric | categorical | categorical               | numeric                     |\n",
    "| L1S8      | AGCTGACTAGTC     | gut         | 2008    | 10      | 28      | subject-1   | Yes                       | 0                           |\n",
    "| L1S57     | ACACACTATGGC     | gut         | 2009    | 1       | 20      | subject-1   | No                        | 84                          |\n",
    "| L1S76     | ACTACGTGTGGT     | gut         | 2009    | 2       | 17      | subject-1   | No                        | 112                         |\n",
    "| L1S105    | AGTGCGATGCGT     | gut         | 2009    | 3       | 17      | subject-1   | No                        | 140                         |\n",
    "| L2S155    | ACGATGCGACCA     | left palm   | 2009    | 1       | 20      | subject-1   | No                        | 84                          |\n",
    "| L2S175    | AGCTATCCACGA     | left palm   | 2009    | 2       | 17      | subject-1   | No                        | 112                         |\n",
    "| L2S204    | ATGCAGCTCAGT     | left palm   | 2009    | 3       | 17      | subject-1   | No                        | 140                         |\n",
    "| L2S222    | CACGTGACATGT     | left palm   | 2009    | 4       | 14      | subject-1   | No                        | 168                         |\n",
    "| L3S242    | ACAGTTGCGCGA     | right palm  | 2008    | 10      | 28      | subject-1   | Yes                       | 0                           |\n",
    "| L3S294    | CACGACAGGCTA     | right palm  | 2009    | 1       | 20      | subject-1   | No                        | 84                          |\n",
    "| L3S313    | AGTGTCACGGTG     | right palm  | 2009    | 2       | 17      | subject-1   | No                        | 112                         |\n",
    "| L3S341    | CAAGTGAGAGAG     | right palm  | 2009    | 3       | 17      | subject-1   | No                        | 140                         |\n",
    "| L3S360    | CATCGTATCAAC     | right palm  | 2009    | 4       | 14      | subject-1   | No                        | 168                         |\n",
    "| L5S104    | CAGTGTCAGGAC     | tongue      | 2008    | 10      | 28      | subject-1   | Yes                       | 0                           |\n",
    "| L5S155    | ATCTTAGACTGC     | tongue      | 2009    | 1       | 20      | subject-1   | No                        | 84                          |\n",
    "| L5S174    | CAGACATTGCGT     | tongue      | 2009    | 2       | 17      | subject-1   | No                        | 112                         |\n",
    "| L5S203    | CGATGCACCAGA     | tongue      | 2009    | 3       | 17      | subject-1   | No                        | 140                         |\n",
    "| L5S222    | CTAGAGACTCTT     | tongue      | 2009    | 4       | 14      | subject-1   | No                        | 168                         |\n",
    "| L1S140    | ATGGCAGCTCTA     | gut         | 2008    | 10      | 28      | subject-2   | Yes                       | 0                           |\n",
    "| L1S208    | CTGAGATACGCG     | gut         | 2009    | 1       | 20      | subject-2   | No                        | 84                          |\n",
    "| L1S257    | CCGACTGAGATG     | gut         | 2009    | 3       | 17      | subject-2   | No                        | 140                         |\n",
    "| L1S281    | CCTCTCGTGATC     | gut         | 2009    | 4       | 14      | subject-2   | No                        | 168                         |\n",
    "| L2S240    | CATATCGCAGTT     | left palm   | 2008    | 10      | 28      | subject-2   | Yes                       | 0                           |\n",
    "| L2S309    | CGTGCATTATCA     | left palm   | 2009    | 1       | 20      | subject-2   | No                        | 84                          |\n",
    "| L2S357    | CTAACGCAGTCA     | left palm   | 2009    | 3       | 17      | subject-2   | No                        | 140                         |\n",
    "| L2S382    | CTCAATGACTCA     | left palm   | 2009    | 4       | 14      | subject-2   | No                        | 168                         |\n",
    "| L3S378    | ATCGATCTGTGG     | right palm  | 2008    | 10      | 28      | subject-2   | Yes                       | 0                           |\n",
    "| L4S63     | CTCGTGGAGTAG     | right palm  | 2009    | 1       | 20      | subject-2   | No                        | 84                          |\n",
    "| L4S112    | GCGTTACACACA     | right palm  | 2009    | 3       | 17      | subject-2   | No                        | 140                         |\n",
    "| L4S137    | GAACTGTATCTC     | right palm  | 2009    | 4       | 14      | subject-2   | No                        | 168                         |\n",
    "| L5S240    | CTGGACTCATAG     | tongue      | 2008    | 10      | 28      | subject-2   | Yes                       | 0                           |\n",
    "| L6S20     | GAGGCTCATCAT     | tongue      | 2009    | 1       | 20      | subject-2   | No                        | 84                          |\n",
    "| L6S68     | GATACGTCCTGA     | tongue      | 2009    | 3       | 17      | subject-2   | No                        | 140                         |\n",
    "| L6S93     | GATTAGCACTCT     | tongue      | 2009    | 4       | 14      | subject-2   | No                        | 168                         |\n"
   ]
  },
  {
   "cell_type": "markdown",
   "id": "3096133d",
   "metadata": {},
   "source": [
    "It contains data about:\n",
    "- 35 samples\n",
    "- in 9 columns"
   ]
  },
  {
   "cell_type": "markdown",
   "id": "eaa5994e",
   "metadata": {},
   "source": [
    "TSV stands for __tab separated values__. A tab is the space between each word. Excel is capable of opening and saving this type of files."
   ]
  },
  {
   "cell_type": "markdown",
   "id": "80e12ad7",
   "metadata": {},
   "source": [
    "The first row is the __header__. It cointains the names of the properties that each sample has. For example, the first sample\n",
    "- Is named L1S8\n",
    "- Has the barcode AGCTGACTAGTC\n",
    "- Comes from the gut\n",
    "- Was taken on 2008\n",
    "\n",
    "and so on...\n"
   ]
  },
  {
   "cell_type": "markdown",
   "id": "0a81c787",
   "metadata": {},
   "source": [
    "It is very important to add as many variables as possible:\n",
    "- Day that you took the sample\n",
    "- Day that it was processed in the lab\n",
    "- Day that it was processed for sequencing\n",
    "- Geographical coordinates of the sampling sites\n",
    "- pH / salinity of the samples\n",
    "- Chemical composition of the sample (Fe, N, CO2, etc).\n",
    "- Purification / extraction protocol (if more than one is used)."
   ]
  },
  {
   "cell_type": "markdown",
   "id": "1a3a57de",
   "metadata": {},
   "source": [
    "The next file are the barcodes used (`data/barcodes.fq.g`').\n",
    "\n",
    "To each sample, one sequence is assigned to identify the sample. Think about it as the molecular ID card number of the sample."
   ]
  },
  {
   "cell_type": "markdown",
   "id": "7474d1ce",
   "metadata": {},
   "source": [
    "This file contains 302,581 16S fragments."
   ]
  },
  {
   "cell_type": "markdown",
   "id": "10a3b653",
   "metadata": {},
   "source": [
    "| read_name                            | sequence     | separator | quality      |\n",
    "|--------------------------------------|--------------|-----------|--------------|\n",
    "| @HWI-EAS440_0386:1:23:17547:1423#0/1 | ATGCAGCTCAGT | +         | IIIIIIIIIIIH |\n",
    "| @HWI-EAS440_0386:1:23:14818:1533#0/1 | CCCCTCAGCGGC | +         | DDD@D?@B<<+/ |\n",
    "| @HWI-EAS440_0386:1:23:14401:1629#0/1 | GACGAGTCAGTC | +         | GGEGDGGGGGDG |\n",
    "| @HWI-EAS440_0386:1:23:15259:1649#0/1 | AGCAGTCGCGAT | +         | IIIIIIIIIIII |\n",
    "| @HWI-EAS440_0386:1:23:13748:2482#0/1 | AGCACACCTACA | +         | GGGGBGGEEGGD |\n",
    "| @HWI-EAS440_0386:1:23:6532:3028#0/1  | GAGAGAATGATC | +         | HIIIIIIIIIII |\n",
    "| @HWI-EAS440_0386:1:23:8677:3027#0/1  | CACAGTGGACGT | +         | FHHHHHHHHHHH |\n",
    "| @HWI-EAS440_0386:1:23:5678:3052#0/1  | ATAGCTCCATAC | +         | IIIIIIIIIIII |\n",
    "| @HWI-EAS440_0386:1:23:11889:3171#0/1 | ACGTTAGCACAC | +         | IIIIIIGIIIII |\n",
    "| @HWI-EAS440_0386:1:23:2112:3374#0/1  | GAGAGAATGATC | +         | FEEBBCEEEEDG |\n"
   ]
  },
  {
   "cell_type": "markdown",
   "id": "5270a827",
   "metadata": {
    "tags": []
   },
   "source": [
    "For example, the first sequence of the experiment, the barcode is `ATGCAGCTCAGT`, which belongs to sample `L2S204`."
   ]
  },
  {
   "cell_type": "markdown",
   "id": "460644b3",
   "metadata": {
    "tags": []
   },
   "source": [
    "Use Ctrl + F to find the following barcodes:\n",
    "- CCCCTCAGCGGC\n",
    "- GACGAGTCAGTC"
   ]
  },
  {
   "cell_type": "markdown",
   "id": "5fb246e1",
   "metadata": {},
   "source": [
    "Solution:\n",
    "<Details> \n",
    "They are not in the table.\n",
    "    \n",
    "Sequencing machines make mistakes often, or are samples that are not used in this concrete experiment.\n",
    "    \n",
    "Either:\n",
    "- use a program to find the closest barcode in the table, or\n",
    "- throw away the sequences\n",
    "</Details>\n",
    "\n",
    "\n"
   ]
  },
  {
   "cell_type": "markdown",
   "id": "6381886e",
   "metadata": {},
   "source": [
    "And now the file with the 16S fragments:"
   ]
  },
  {
   "cell_type": "markdown",
   "id": "171eb12f",
   "metadata": {},
   "source": [
    "| sequence_name                        | sequence                                                                                                                                                 | separator | quality                                                                                                                                                  |\n",
    "|:--------------------------------------|:----------------------------------------------------------------------------------------------------------------------------------------------------------|:-----------|:----------------------------------------------------------------------------------------------------------------------------------------------------------|\n",
    "| @HWI-EAS440_0386:1:23:17547:1423#0/1 | TACGNAGGATCCGAGCGTTATCCGGATTTATTGGGTTTAAAGGGAGCGTAGATGGATGTTTAAGTCAGTTGTGAAAGTTTGCGGCTCAACCGTAAAATTGCAGTTGATACTGGATATCTTGAGTGCAGTTGAGGCAGGGGGGGATTGGTGTG | +         | IIIE)EEEEEEEEGFIIGIIIHIHHGIIIGIIHHHGIIHGHEGDGIFIGEHGIHHGHHGHHGGHEEGHEGGEHEBBHBBEEDCEDDD>B?BE@@B>@@@@@CB@ABA@@?@@=>?08;3=;==8:5;@6?###################### |\n",
    "| @HWI-EAS440_0386:1:23:14818:1533#0/1 | CCCCNCAGCGGCAAAAATTAAAATTTTTACCGCTTCGGCGTTATAGCCTCACACTCAATCTTTTATCACGAAGTCATGATTGAATCGCGAGTGGTCGGCAGATTGCGATAAACGGGCACATTAAATTTAAACTGATGATTCCACTGCAACAA | +         | 64<2$24;1)/:*B<?BBDDBBD<>BDD############################################################################################################################ |\n",
    "| @HWI-EAS440_0386:1:23:14401:1629#0/1 | TACGNAGGATCCGAGCGTTATCCGGATTTATTGGGTTTAAAGGGAGCGTAGGCGGACGCTTAAGTCAGTTGTGAAAGTTTGCGGCTCAACCGTAAAATTGCAGTTGATACTGGGTGTCTTGAGTACAGTAGAGGCAGGGGGGGGGTTGGGGG | +         | GGGC'ACC8;;>;HHHHGHDHHHHHEEHHEHHHHHECHEEEHCHFHHHAGGEHHFBCCBABBBE>>>E=>A>A<>>B8B:B=BBABA@AAAA@?>???>>>9>@AA@@@@AA######################################## |\n",
    "| @HWI-EAS440_0386:1:23:15259:1649#0/1 | TACGNAGGATCCGAGCGTTATCCGGATTTATTGGGTTTAAAGGGAGCGTAGGCGGACGCTTAAGTCAGTTGTGAAAGTTTGCGGCTCAACCGTAAAATTGCAGTTGATACTGGGTGTCTTGAGTACAGTAGAGGCAGGGGGGAGTTTGGGGG | +         | IIIE)DEE?CCCBIIIIIIGIIIIIHIIIIIIIIIHIIIHFIDIGIIIHHIHIGIIIHFIHBGGBFDGEHHEI=CBGBEEEEEHEEGECD?>B@=?@BAA=9A?@A>ABBBCDB:C:@??9>?;:?;?BA@?B################### |\n",
    "| @HWI-EAS440_0386:1:23:13748:2482#0/1 | TACGNAGGATCCGAGCGTTATCCGGATTTATTGGGTTTAAAGGGAGCGTAGATGGATGTTTAAGTCAGTTGTGAAAGTTTGCGGCTCAACCGTAAAATTGCAGTTGATACTGGATATCTTGAGTGCAGTTGAGGCAGGCGGGATTCGTGGTG | +         | GGGC'?CC4<5<6HHHHHHH@@HGGEEGHHFHHHHBBHGFFGCGBBGG@DGBDGFDFEEHHHFHEHEHBHHEEDEEEAB@BBEAEEBEEAEBB8:>>:EEEB@>@>>B@:@@@9=@>:B:>=>8:/7>=>@##################### |\n",
    "| @HWI-EAS440_0386:1:23:6532:3028#0/1  | TACGNAGGATCCGAGCGTTATCCGGATTTATTGGGTTTAAAGGGAGCGTAGGCGGACGCTTAAGTCAGTTGTGAAAGTTTGCGGCTCAACCGTAAAATTGCAGTTGATACTGGGTGTCTTGAGTACAGTAGAGGCAGGGGGGAGTCTTGGGG | +         | IIIG)EGGBDEDDIIIIHIGIIIIGFIIIDIIIFIHIIHHIIHFIHIIGGHIIIHHIHIEEHHHGIGHEIIEFBA8G?EEEEECHBHDEFEHDGEECDEEBEEDFGC@BEEEEE@EBBBBBBBADBAB9?;=9@????############## |\n",
    "| @HWI-EAS440_0386:1:23:8677:3027#0/1  | TACANAGGTCTCAAGCGTTGTTCGGAATCACTGGGCGTAAAGCGTGCGTAGGCTGTTTCGTAAGTCGTGTGTGAAAGGCGCGGGCTCAACCCGCGGCCGGCACATGATACTGTGAGACTAGCGTAACGGAGGGGGAACCGGAATTCTTGGTG | +         | HHHA'CCCEFFFFHHHHHHHHHHHGHHHHHHHHHHHHHHHHHGHHHHHHHHHGHHHHHHHG>HGDDGDGCGCEHFE>EEEB@EFEBB>B;D@@########################################################### |\n",
    "| @HWI-EAS440_0386:1:23:5678:3052#0/1  | TACGNAGGGGGCAAGCGTTATCCGGATTTACTGGGTGTAAAGGGAGCGTAGACGGAAGAGCAAGTCTGATGTGAAAGGCTGGGGCTTAACCCCAGGACTGCATTGGAAACTGTTTTTCTTGAGTGCCGGAGAGGTAAGCGGAATTCCTGGGG | +         | IIIF)FFFBBBCCIHIIIIIIIIIHIIIIHIIIIIGIHIIHIIHIIIIEIFIIGHIIBFIIHHIEEIIIIIBEGGGGEC>;@@;?@A?EBBEEBADA;=5<==>=3+>:4<=9@B>>1@9.=5=?=??######################## |\n",
    "| @HWI-EAS440_0386:1:23:11889:3171#0/1 | TACGNAGGGGGCAAGCGTTATCCGGATTTACTGGGTGTAAAGGGAGCGTAGACGGTTTTGCAAGTCTGAAGTGAAAGCCCGGGGCTTAACCCCGGGACTGCTTTGGAAACTGTATGACTAGAGTGCAGGAGAGGTAAGTGGAATTCCTAGTG | +         | IIIF)EEFFFFEEIHIIIIIIIIIIDIIIIIIIIIGIGEEEGGIHHIIHIHFIIFHHIIIIGGIGGIIH@FEBFDEDD<EBCBBEEEBBEBBF:=829?>>??AA3;;@@@B@@BB@################################### |\n",
    "| @HWI-EAS440_0386:1:23:2112:3374#0/1  | TACGNAGGATCCGAGCGTTATCCGGATTTATTGGGTTTAAAGGGAGCGTAGATGGATGTTTAAGTCAGTTGTGAAAGTTTGCGGCTCAACCGTAAAATTGCAGTTGATACTGGATGTCTTGAGTGCAGTTGAGGCAGGGGGGATTCGTGTGG | +         | GGGE(DEE;;@@@HHHHHHHHHHHHHHHHGHHHHHHGHEHHHHFHHHHFHHHHHHFHHEHHFHHHHHHEHHEHDBBG=?@C@C@HEFEE@FFE3?;??AED3C@1@@3?=<>?DADCBEBBBC?EB?B######################## |\n"
   ]
  },
  {
   "cell_type": "markdown",
   "id": "9a6ec687",
   "metadata": {
    "tags": []
   },
   "source": [
    "As you can see, sequences can be pretty long. And it goes forever. This file contains +300K sequences. Real datasets contain hundreds of million sequences.\n",
    "\n",
    "Data processing by hand, or with a word processor and spreadsheets is impossible, and therefore you need to use tools taylored for this purpose, like Qiime2."
   ]
  },
  {
   "cell_type": "markdown",
   "id": "5002bde7",
   "metadata": {},
   "source": [
    "Qiime is a toolbox that contains almost all the programs you need to process metabarcoding data. To see what it can do, just type qiime in a code cell:"
   ]
  },
  {
   "cell_type": "markdown",
   "id": "2bb4623d",
   "metadata": {},
   "source": [
    "The tools we are going to focus in this tutorial are:\n",
    "- tools\n",
    "- demux\n",
    "- dada2\n",
    "- feature-table\n",
    "- phylogeny\n",
    "- diversity\n",
    "- emperor\n",
    "- feature classifier\n",
    "- taxa\n",
    "- composition"
   ]
  },
  {
   "cell_type": "markdown",
   "id": "96796593",
   "metadata": {},
   "source": [
    "To see how any of them work, type `qiime [TOOL] [SUBTOOL] --help`, and it will show how to use it:"
   ]
  },
  {
   "cell_type": "code",
   "execution_count": null,
   "id": "2993bf66",
   "metadata": {
    "tags": []
   },
   "outputs": [],
   "source": [
    "qiime demux --help"
   ]
  },
  {
   "cell_type": "code",
   "execution_count": null,
   "id": "7a4ea389",
   "metadata": {
    "tags": []
   },
   "outputs": [],
   "source": [
    "qiime taxa barplot --help"
   ]
  },
  {
   "cell_type": "markdown",
   "id": "41787f7d",
   "metadata": {},
   "source": [
    "The tools included in Qiime2 follow the same pattern:\n",
    "```\n",
    "qiime command subcommand \\\n",
    "  --i-input      files \\\n",
    "  --p-parameters parameter1 \\\n",
    "  --m-metadata   metadata-file.tsv \\\n",
    "  --o-output     output-file\n",
    "```"
   ]
  },
  {
   "cell_type": "markdown",
   "id": "606f43f2",
   "metadata": {
    "tags": []
   },
   "source": [
    "All commands transforms input files into output files:\n",
    "- **I**nput files are specified with `--i-*`\n",
    "- **M**etadata is specified with `--m-*`\n",
    "- **P**arameters on how to execute the command is specified `--p-*`\n",
    "- **O**utput files are specified with `--o-*`\n",
    "\n",
    "As a rule of thumb, use that order: input, metadata, parameters, output. This will make the code cleaner and easier for you to follow."
   ]
  },
  {
   "cell_type": "markdown",
   "id": "d7a6da54",
   "metadata": {},
   "source": [
    "The next picture is the map of the typical analysis in Qiime. Drag and drop it to another tab in your browser if you need to look at it later on"
   ]
  },
  {
   "cell_type": "markdown",
   "id": "7c085fff",
   "metadata": {},
   "source": [
    "<img src=\"../assets/img/qiime_map.svg\"  width=\"1200\" height=\"600\">"
   ]
  },
  {
   "cell_type": "markdown",
   "id": "bd1642ff",
   "metadata": {
    "tags": []
   },
   "source": [
    "## 1. Importing sequences"
   ]
  },
  {
   "cell_type": "markdown",
   "id": "a223ffab",
   "metadata": {
    "tags": []
   },
   "source": [
    "The first step for Qiime is to tell it where are your sequences. To do so, use the `qiime tools import` command"
   ]
  },
  {
   "cell_type": "code",
   "execution_count": null,
   "id": "4ca735a9",
   "metadata": {
    "tags": []
   },
   "outputs": [],
   "source": [
    "qiime tools import --help"
   ]
  },
  {
   "cell_type": "markdown",
   "id": "5424572d",
   "metadata": {},
   "source": [
    "To import the sequences execute the following:"
   ]
  },
  {
   "cell_type": "code",
   "execution_count": null,
   "id": "6cd291a9",
   "metadata": {
    "tags": []
   },
   "outputs": [],
   "source": [
    "qiime tools import \\\n",
    "  --type        EMPSingleEndSequences `# the type of sequences` \\\n",
    "  --input-path  data `# the folder with the data` \\\n",
    "  --output-path sequences.qza `# the file in which to store it`"
   ]
  },
  {
   "cell_type": "markdown",
   "id": "ea7e2eae",
   "metadata": {},
   "source": [
    "We can see the content with `peek`:"
   ]
  },
  {
   "cell_type": "code",
   "execution_count": null,
   "id": "f2f3f88c",
   "metadata": {
    "tags": []
   },
   "outputs": [],
   "source": [
    "qiime tools peek sequences.qza"
   ]
  },
  {
   "cell_type": "markdown",
   "id": "adb162d0",
   "metadata": {},
   "source": [
    "It is not very useful, but it says that it contains sequences of the type EMP Single End."
   ]
  },
  {
   "cell_type": "markdown",
   "id": "bb40d7ba",
   "metadata": {},
   "source": [
    "Double clicking `sequences.qza` does not work. The file is very big to see it manually or generate reports: \".qz**v**\" files"
   ]
  },
  {
   "cell_type": "markdown",
   "id": "e7bf934f",
   "metadata": {},
   "source": [
    "Note: qiime generates two types of files:\n",
    "- qz**a** - artifacts: tables, for the machine\n",
    "- qz**v** - visualizations: plots, for the humans\n",
    "\n",
    "The artifacts are for the programs, the visualizations for us."
   ]
  },
  {
   "cell_type": "markdown",
   "id": "0c037b5b",
   "metadata": {
    "tags": []
   },
   "source": [
    "## 2. Demux: demultiplex sequences"
   ]
  },
  {
   "cell_type": "markdown",
   "id": "c675a3a4",
   "metadata": {},
   "source": [
    "Demultiplexing consists of grouping the 16S sequences according to the sample they belong. The purpose is to separate the reads by sample."
   ]
  },
  {
   "cell_type": "markdown",
   "id": "e380ac6a",
   "metadata": {},
   "source": [
    "To do so, we will use `qiime demux`:"
   ]
  },
  {
   "cell_type": "code",
   "execution_count": null,
   "id": "3c010f71",
   "metadata": {
    "tags": []
   },
   "outputs": [],
   "source": [
    "qiime demux --help"
   ]
  },
  {
   "cell_type": "markdown",
   "id": "fd5f3ca4",
   "metadata": {
    "tags": []
   },
   "source": [
    "Since our dataset is of the type `emp-single`, we will use that"
   ]
  },
  {
   "cell_type": "code",
   "execution_count": null,
   "id": "bdb348a5",
   "metadata": {
    "tags": []
   },
   "outputs": [],
   "source": [
    "qiime demux emp-single --help"
   ]
  },
  {
   "cell_type": "markdown",
   "id": "521bed9c",
   "metadata": {},
   "source": [
    "We have to specify:\n",
    "- The input qza\n",
    "- The metadata file that contains the barcodes\n",
    "- The exact column\n",
    "- Where to store the results\n",
    "- Statistics of the procedure"
   ]
  },
  {
   "cell_type": "code",
   "execution_count": null,
   "id": "03f04d92",
   "metadata": {
    "tags": []
   },
   "outputs": [],
   "source": [
    "qiime demux emp-single \\\n",
    "    --i-seqs                     sequences.qza \\\n",
    "    --m-barcodes-file            sample-metadata.tsv \\\n",
    "    --m-barcodes-column          barcode-sequence \\\n",
    "    --o-per-sample-sequences     demux.qza \\\n",
    "    --o-error-correction-details demux-details.qza"
   ]
  },
  {
   "cell_type": "markdown",
   "id": "269b9db7",
   "metadata": {
    "tags": []
   },
   "source": [
    "Let's see what happened in this step. To do so, convert `demux.qza` into `demux.qzv`:"
   ]
  },
  {
   "cell_type": "code",
   "execution_count": null,
   "id": "eb017f22",
   "metadata": {
    "tags": []
   },
   "outputs": [],
   "source": [
    "qiime demux summarize \\\n",
    "  --i-data          demux.qza \\\n",
    "  --o-visualization demux.qzv"
   ]
  },
  {
   "cell_type": "markdown",
   "id": "bce0b616",
   "metadata": {},
   "source": [
    "Download `demux.qzv` and upload it to https://view.qiime2.org"
   ]
  },
  {
   "cell_type": "markdown",
   "id": "32127019",
   "metadata": {},
   "source": [
    "Or click this [link](https://view.qiime2.org/?src=https%3A%2F%2Fdocs.qiime2.org%2F2023.2%2Fdata%2Ftutorials%2Fmoving-pictures%2Fdemux.qzv)"
   ]
  },
  {
   "cell_type": "markdown",
   "id": "981fbbdb-1be5-49ef-ae81-8f6ffeb1a445",
   "metadata": {},
   "source": [
    "### Exercises"
   ]
  },
  {
   "cell_type": "markdown",
   "id": "5f2565c0-eb5d-4e20-b967-12711a1b07ef",
   "metadata": {},
   "source": [
    "- How many reads has the smallest sample? Which sample is the smallest?"
   ]
  },
  {
   "cell_type": "markdown",
   "id": "b6fe1fc5-ee9a-4788-8eba-73d9dfbb3bd9",
   "metadata": {},
   "source": []
  },
  {
   "cell_type": "markdown",
   "id": "b84718ba-e5ee-4044-a9d2-ac40a3ab838e",
   "metadata": {
    "tags": []
   },
   "source": [
    "- How many reads has the biggest sample? Which sample is the biggest?"
   ]
  },
  {
   "cell_type": "markdown",
   "id": "28b706ed-c31b-4c2e-be77-ac76a3100d49",
   "metadata": {},
   "source": []
  },
  {
   "cell_type": "markdown",
   "id": "b5b347a7-d57e-465f-b1ca-e4fb63843673",
   "metadata": {},
   "source": [
    "- How many samples have less than 5,000 reads?"
   ]
  },
  {
   "cell_type": "markdown",
   "id": "57bf03fe-69f5-4f98-bd25-4eb8fc277dfc",
   "metadata": {},
   "source": []
  },
  {
   "cell_type": "markdown",
   "id": "34ad189a-eca5-4c07-97e8-1ea9252d5cc1",
   "metadata": {},
   "source": [
    "- How many samples have around 10,000 reads?"
   ]
  },
  {
   "cell_type": "markdown",
   "id": "ccaaa8fa-0e2c-4d63-a260-0ade969a30b1",
   "metadata": {},
   "source": []
  },
  {
   "cell_type": "markdown",
   "id": "765982da-4c7d-449e-a45c-2babf7fd8083",
   "metadata": {},
   "source": [
    "- How many samples have around 17,500 reads?"
   ]
  },
  {
   "cell_type": "markdown",
   "id": "32ac7bb8-45e3-49f2-b087-ab5175f06cda",
   "metadata": {},
   "source": []
  },
  {
   "cell_type": "markdown",
   "id": "48b66b45",
   "metadata": {},
   "source": [
    "## 3. DADA2: correct errors"
   ]
  },
  {
   "cell_type": "markdown",
   "id": "4da5a2fc",
   "metadata": {},
   "source": [
    "DADA2 is a program to detect and correct errors in amplicon sequences. The command to run is the following:"
   ]
  },
  {
   "cell_type": "code",
   "execution_count": null,
   "id": "52237f79",
   "metadata": {
    "tags": []
   },
   "outputs": [],
   "source": [
    "qiime dada2 --help"
   ]
  },
  {
   "cell_type": "code",
   "execution_count": null,
   "id": "8d080aa4",
   "metadata": {
    "scrolled": true,
    "tags": []
   },
   "outputs": [],
   "source": [
    "qiime dada2 denoise-single --help"
   ]
  },
  {
   "cell_type": "markdown",
   "id": "6ad4c936",
   "metadata": {
    "tags": []
   },
   "source": [
    "The mandatory parameters are the following:\n",
    "- **I**nputs:\n",
    "  - the demultiplexed sequences: `demux.qza`\n",
    "- **P**arameters:\n",
    "  - how many base pairs to keep: 120\n",
    "  - how many bases to trim on the 5' end (left): 0\n",
    "- **O**utputs:\n",
    "  - representative sequences: the clustered amplicons\n",
    "  - table: the table that says how many of **each bacteria** are in **each sample**\n",
    "  - denoising stats: stats for the nerds."
   ]
  },
  {
   "cell_type": "markdown",
   "id": "c575f103",
   "metadata": {},
   "source": [
    "Let's compose the command"
   ]
  },
  {
   "cell_type": "markdown",
   "id": "b3c47662-ac14-4f77-b4dc-7b0caf5cd71d",
   "metadata": {
    "tags": []
   },
   "source": [
    "Remember [demux.qzv](https://view.qiime2.org/visualization/?type=html&src=https%3A%2F%2Fdocs.qiime2.org%2F2023.2%2Fdata%2Ftutorials%2Fmoving-pictures%2Fdemux.qzv):\n",
    "- the left side of the sequences is OK: 0 bases to trim from the left.\n",
    "- the right side of the sequences become unreliable around 120 bp"
   ]
  },
  {
   "cell_type": "code",
   "execution_count": null,
   "id": "f249c368",
   "metadata": {
    "tags": []
   },
   "outputs": [],
   "source": [
    "qiime dada2 denoise-single \\\n",
    "    --i-demultiplexed-seqs       demux.qza \\\n",
    "    --p-trim-left                0 \\\n",
    "    --p-trunc-len                120 \\\n",
    "    --o-representative-sequences rep-seqs.qza \\\n",
    "    --o-table                    feature-table.qza   \\\n",
    "    --o-denoising-stats          dada2-stats.qza"
   ]
  },
  {
   "cell_type": "markdown",
   "id": "204baa6b",
   "metadata": {},
   "source": [
    "It takes 1-2 minutes."
   ]
  },
  {
   "cell_type": "markdown",
   "id": "85208b0e-bc06-4f60-ab25-22598cfd48b2",
   "metadata": {},
   "source": [
    "Let's inspect the thre files generated:\n",
    "- rep-seqs.qza\n",
    "- feature-table.qza\n",
    "- dada2-stats.qza"
   ]
  },
  {
   "cell_type": "markdown",
   "id": "abbf312a",
   "metadata": {},
   "source": [
    "And now let's see what is inside the `dada2-stats.qza`."
   ]
  },
  {
   "cell_type": "code",
   "execution_count": null,
   "id": "3a45c9d3",
   "metadata": {
    "tags": []
   },
   "outputs": [],
   "source": [
    "qiime metadata tabulate \\\n",
    "    --m-input-file    dada2-stats.qza \\\n",
    "    --o-visualization dada2-stats.qzv"
   ]
  },
  {
   "cell_type": "markdown",
   "id": "74152bdc",
   "metadata": {},
   "source": [
    "We can visualize the qzv with [the qiime view web](https://view.qiime2.org/?src=https%3A%2F%2Fdocs.qiime2.org%2F2023.2%2Fdata%2Ftutorials%2Fmoving-pictures%2Fstats-dada2.qzv)"
   ]
  },
  {
   "cell_type": "markdown",
   "id": "98fdb914-9bd5-4d7e-9ae2-878acb0e4b35",
   "metadata": {},
   "source": [
    "### Exercise"
   ]
  },
  {
   "cell_type": "markdown",
   "id": "c2266326-066f-43b6-bd14-decc884f7c84",
   "metadata": {},
   "source": [
    "- Which sample has the most filtered sequences?"
   ]
  },
  {
   "cell_type": "code",
   "execution_count": null,
   "id": "15581678-403d-4eef-a27d-d13475fa1dd4",
   "metadata": {},
   "outputs": [],
   "source": []
  },
  {
   "cell_type": "markdown",
   "id": "745dff36-a127-420d-9495-afd346e0a5f9",
   "metadata": {},
   "source": [
    "- Which the least?"
   ]
  },
  {
   "cell_type": "code",
   "execution_count": null,
   "id": "69c932be-28ad-45da-a74e-5d40a925b447",
   "metadata": {},
   "outputs": [],
   "source": []
  },
  {
   "cell_type": "markdown",
   "id": "1e7a27a2-2af8-4fc4-9db0-806e08240fd1",
   "metadata": {},
   "source": [
    "- Which sample suffered the most by filtering in percentages?"
   ]
  },
  {
   "cell_type": "code",
   "execution_count": null,
   "id": "2847a9ad-fab3-4592-aac3-c37d7e42a157",
   "metadata": {},
   "outputs": [],
   "source": []
  },
  {
   "cell_type": "markdown",
   "id": "6afeb2c3-3ee0-4a93-8fcc-fff328061c51",
   "metadata": {},
   "source": [
    "- And the least in percentages?"
   ]
  },
  {
   "cell_type": "code",
   "execution_count": null,
   "id": "32badc6f-aa58-4361-bc8b-8a2cccfb053b",
   "metadata": {},
   "outputs": [],
   "source": []
  },
  {
   "cell_type": "markdown",
   "id": "85bccbf3",
   "metadata": {},
   "source": [
    "Finally, we can get the feature table (also called OTU table), which contains what samples contains how many copies of each bacteria"
   ]
  },
  {
   "cell_type": "code",
   "execution_count": null,
   "id": "65bd6ace",
   "metadata": {},
   "outputs": [],
   "source": [
    "qiime feature-table summarize \\\n",
    "    --i-table                table.qza \\\n",
    "    --m-sample-metadata-file sample-metadata.tsv \\\n",
    "    --o-visualization        table.qzv"
   ]
  },
  {
   "cell_type": "markdown",
   "id": "1509cd30-2bae-4239-8a79-42b1a716c75e",
   "metadata": {},
   "source": [
    "- [table.qzv](https://view.qiime2.org/?src=https%3A%2F%2Fdocs.qiime2.org%2F2023.2%2Fdata%2Ftutorials%2Fmoving-pictures%2Ftable.qzv)"
   ]
  },
  {
   "cell_type": "markdown",
   "id": "af0bf72d-72f3-4978-b940-b3668da6acb7",
   "metadata": {},
   "source": [
    "### Exercise"
   ]
  },
  {
   "cell_type": "markdown",
   "id": "11a28076-a983-4b3f-98c5-87cdfd877b2d",
   "metadata": {},
   "source": [
    "- How many samples are in the table?"
   ]
  },
  {
   "cell_type": "markdown",
   "id": "ba3fa6dd-6a99-4330-91c8-10b151367968",
   "metadata": {},
   "source": []
  },
  {
   "cell_type": "markdown",
   "id": "7904f669-4759-4c78-8a76-7b7f566053e0",
   "metadata": {},
   "source": [
    "- And how many features?"
   ]
  },
  {
   "cell_type": "markdown",
   "id": "a1cbb3c2-4b4b-49cb-b604-c7885c940d5f",
   "metadata": {},
   "source": []
  },
  {
   "cell_type": "markdown",
   "id": "642b9702-c4bb-47b5-96f2-6b33b6f2ff01",
   "metadata": {},
   "source": [
    "- And how many reads in total?"
   ]
  },
  {
   "cell_type": "markdown",
   "id": "6b582b81-f366-4724-b387-3959641ee218",
   "metadata": {},
   "source": []
  },
  {
   "cell_type": "markdown",
   "id": "20a739c9-3692-490f-901e-6a448efef900",
   "metadata": {},
   "source": [
    "- How many reads has the smallest sample?"
   ]
  },
  {
   "cell_type": "markdown",
   "id": "6d2447ae-0a60-450b-acae-0d8498450932",
   "metadata": {},
   "source": []
  },
  {
   "cell_type": "markdown",
   "id": "5df9e466-2b07-48dd-922c-bd6d5d8d3e42",
   "metadata": {},
   "source": [
    "- And the biggest one?"
   ]
  },
  {
   "cell_type": "markdown",
   "id": "cf4aa940-0ce7-4e84-9857-de55964832e8",
   "metadata": {},
   "source": []
  },
  {
   "cell_type": "markdown",
   "id": "b2532246-0f67-4fd3-822e-31114e1fcf51",
   "metadata": {
    "tags": []
   },
   "source": [
    "- How many samples have more than 2,000 reads?"
   ]
  },
  {
   "cell_type": "markdown",
   "id": "0d386f28-d291-4c9b-b66c-cb9cb2b5d650",
   "metadata": {},
   "source": []
  },
  {
   "cell_type": "markdown",
   "id": "1a8345ac-0f85-454a-8a64-10d24580fd95",
   "metadata": {},
   "source": [
    "- How many samples have more than 9,000 reads?"
   ]
  },
  {
   "cell_type": "markdown",
   "id": "81e012d0-a523-4169-9e68-901736b28afe",
   "metadata": {},
   "source": []
  },
  {
   "cell_type": "markdown",
   "id": "aaf5ce71-1b9c-40a1-873b-357c707fcceb",
   "metadata": {},
   "source": [
    "- How many reads has the largest OTU?"
   ]
  },
  {
   "cell_type": "markdown",
   "id": "89a3d4d1-eac2-46dd-96ab-aef4a7df184e",
   "metadata": {},
   "source": []
  },
  {
   "cell_type": "markdown",
   "id": "7ba90deb-51ab-4136-b571-d0e1d5b93ee1",
   "metadata": {},
   "source": [
    "- And in how many samples does it appear?"
   ]
  },
  {
   "cell_type": "markdown",
   "id": "15ad0b86-770d-4077-a0d0-50081e559d59",
   "metadata": {},
   "source": []
  },
  {
   "cell_type": "markdown",
   "id": "a47bfe41",
   "metadata": {},
   "source": [
    "And also the one that contains the relationship between each OTU and the sequence"
   ]
  },
  {
   "cell_type": "code",
   "execution_count": null,
   "id": "7eb64fce",
   "metadata": {
    "tags": []
   },
   "outputs": [],
   "source": [
    "qiime feature-table tabulate-seqs \\\n",
    "  --i-data          rep-seqs.qza \\\n",
    "  --o-visualization rep-seqs.qzv"
   ]
  },
  {
   "cell_type": "markdown",
   "id": "a0731ff5",
   "metadata": {},
   "source": [
    "- [rep-seqs.qzv](https://view.qiime2.org/?src=https%3A%2F%2Fdocs.qiime2.org%2F2023.2%2Fdata%2Ftutorials%2Fmoving-pictures%2Frep-seqs.qzv)"
   ]
  },
  {
   "cell_type": "markdown",
   "id": "4c5648da-03b0-4751-bbca-da2ae77d3e31",
   "metadata": {
    "tags": []
   },
   "source": [
    "### Exercise"
   ]
  },
  {
   "cell_type": "markdown",
   "id": "c864f164-ca13-4cc0-849a-a85323e8767a",
   "metadata": {
    "tags": []
   },
   "source": [
    "- How many OTUs are there?"
   ]
  },
  {
   "cell_type": "markdown",
   "id": "1e3c1dc8-6eec-4949-a0ea-97a8039b9501",
   "metadata": {},
   "source": []
  },
  {
   "cell_type": "markdown",
   "id": "3cbaab26-a032-4cf5-840a-eb1893f4bd9a",
   "metadata": {},
   "source": [
    "- How long are the shortest and the longest?"
   ]
  },
  {
   "cell_type": "markdown",
   "id": "f1e1553e-14fb-4a07-88e2-c6b283f08ba3",
   "metadata": {},
   "source": []
  },
  {
   "cell_type": "markdown",
   "id": "0960eb59-5f8b-4e63-87ca-c7b1544ee0e7",
   "metadata": {},
   "source": [
    "- Why are they the same length?"
   ]
  },
  {
   "cell_type": "markdown",
   "id": "2a36b4bc-bbcc-4aad-96d8-26de24391b8c",
   "metadata": {},
   "source": []
  },
  {
   "cell_type": "markdown",
   "id": "b740c167-1788-496f-aee8-1addc813ee52",
   "metadata": {},
   "source": [
    "- What sequence has OTU with name 535696cecf56f03d3401d7d6dbe66d7b?"
   ]
  },
  {
   "cell_type": "markdown",
   "id": "38d4056a-7665-46cd-aec0-d4ca46728608",
   "metadata": {},
   "source": []
  },
  {
   "cell_type": "markdown",
   "id": "4c229510-f3b5-4f0c-a460-49c1487b9dfb",
   "metadata": {},
   "source": [
    "- Click on that sequence. You will perform a BLAST search against a sequence database. Which species is this OTU?"
   ]
  },
  {
   "cell_type": "markdown",
   "id": "d88b8243-df7f-4c15-a355-a2137b34a9c9",
   "metadata": {},
   "source": []
  },
  {
   "cell_type": "markdown",
   "id": "4a189c1d-4465-4969-8bd1-24a501fd9bcc",
   "metadata": {
    "tags": []
   },
   "source": [
    "# Summary\n",
    "We have:\n",
    "- Imported an experiment with `qiime import`\n",
    "- Separated the experiment into samples with `qiime demux`\n",
    "- Corrected errors with `qiime dada2`\n",
    "- Visualized results on [view.qiime2.org](https://view.qiime2.org)"
   ]
  },
  {
   "cell_type": "markdown",
   "id": "3fc0c5d2-2ac0-4142-9f39-9c133ccb7e13",
   "metadata": {},
   "source": [
    "## End of notebook"
   ]
  },
  {
   "cell_type": "markdown",
   "id": "f48e5f08-0b4e-44ee-ab26-a4f3466dfb59",
   "metadata": {},
   "source": [
    "Run the next cell to pause the server, so you don't get kicked out for inactivity\n"
   ]
  },
  {
   "cell_type": "code",
   "execution_count": null,
   "id": "b744a1c4",
   "metadata": {},
   "outputs": [],
   "source": [
    "pause"
   ]
  }
 ],
 "metadata": {
  "kernelspec": {
   "display_name": "Bash",
   "language": "bash",
   "name": "bash"
  },
  "language_info": {
   "codemirror_mode": "shell",
   "file_extension": ".sh",
   "mimetype": "text/x-sh",
   "name": "bash"
  }
 },
 "nbformat": 4,
 "nbformat_minor": 5
}
