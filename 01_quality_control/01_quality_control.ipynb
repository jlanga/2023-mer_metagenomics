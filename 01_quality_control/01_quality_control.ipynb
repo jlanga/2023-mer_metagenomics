{
 "cells": [
  {
   "cell_type": "markdown",
   "id": "7dca898c",
   "metadata": {},
   "source": [
    "# Quality control with QIIME2"
   ]
  },
  {
   "cell_type": "markdown",
   "id": "d34da704",
   "metadata": {
    "tags": []
   },
   "source": [
    "The dataset that we are going to analyze is called \"Moving images\", from [Caporaso et al. (2011)](https://www.ncbi.nlm.nih.gov/pubmed/21624126)."
   ]
  },
  {
   "cell_type": "markdown",
   "id": "7b9d114b",
   "metadata": {},
   "source": [
    "It contains metagenomic samples from:\n",
    "- 2 individuals\n",
    "- 4 different body sites\n",
    "- 5 different time points\n",
    "- before and after the application of antibiotics"
   ]
  },
  {
   "cell_type": "markdown",
   "id": "dfb9ab45",
   "metadata": {},
   "source": [
    "The data to analyze is composed of three files:\n",
    "- Sample metadata\n",
    "- Barcodes\n",
    "- Sequences"
   ]
  },
  {
   "cell_type": "markdown",
   "id": "5b6f10d7",
   "metadata": {},
   "source": [
    "Sample metadata is the information that you know of your samples:\n",
    "- The name you have given them.\n",
    "- Where and when were they taken.\n",
    "- Under what conditions."
   ]
  },
  {
   "cell_type": "markdown",
   "id": "2b8572eb",
   "metadata": {},
   "source": [
    "These samples are organized in a table called `sample-metadata.tsv`. Either click it on the left panel or see it below:"
   ]
  },
  {
   "cell_type": "markdown",
   "id": "b5aa61c9",
   "metadata": {
    "tags": []
   },
   "source": [
    "| sample-id | barcode-sequence | body-site   | year    | month   | day     | subject     | reported-antibiotic-usage | days-since-experiment-start |\n",
    "|-----------|------------------|-------------|---------|---------|---------|-------------|---------------------------|-----------------------------|\n",
    "| #q2:types | categorical      | categorical | numeric | numeric | numeric | categorical | categorical               | numeric                     |\n",
    "| L1S8      | AGCTGACTAGTC     | gut         | 2008    | 10      | 28      | subject-1   | Yes                       | 0                           |\n",
    "| L1S57     | ACACACTATGGC     | gut         | 2009    | 1       | 20      | subject-1   | No                        | 84                          |\n",
    "| L1S76     | ACTACGTGTGGT     | gut         | 2009    | 2       | 17      | subject-1   | No                        | 112                         |\n",
    "| L1S105    | AGTGCGATGCGT     | gut         | 2009    | 3       | 17      | subject-1   | No                        | 140                         |\n",
    "| L2S155    | ACGATGCGACCA     | left palm   | 2009    | 1       | 20      | subject-1   | No                        | 84                          |\n",
    "| L2S175    | AGCTATCCACGA     | left palm   | 2009    | 2       | 17      | subject-1   | No                        | 112                         |\n",
    "| L2S204    | ATGCAGCTCAGT     | left palm   | 2009    | 3       | 17      | subject-1   | No                        | 140                         |\n",
    "| L2S222    | CACGTGACATGT     | left palm   | 2009    | 4       | 14      | subject-1   | No                        | 168                         |\n",
    "| L3S242    | ACAGTTGCGCGA     | right palm  | 2008    | 10      | 28      | subject-1   | Yes                       | 0                           |\n",
    "| L3S294    | CACGACAGGCTA     | right palm  | 2009    | 1       | 20      | subject-1   | No                        | 84                          |\n",
    "| L3S313    | AGTGTCACGGTG     | right palm  | 2009    | 2       | 17      | subject-1   | No                        | 112                         |\n",
    "| L3S341    | CAAGTGAGAGAG     | right palm  | 2009    | 3       | 17      | subject-1   | No                        | 140                         |\n",
    "| L3S360    | CATCGTATCAAC     | right palm  | 2009    | 4       | 14      | subject-1   | No                        | 168                         |\n",
    "| L5S104    | CAGTGTCAGGAC     | tongue      | 2008    | 10      | 28      | subject-1   | Yes                       | 0                           |\n",
    "| L5S155    | ATCTTAGACTGC     | tongue      | 2009    | 1       | 20      | subject-1   | No                        | 84                          |\n",
    "| L5S174    | CAGACATTGCGT     | tongue      | 2009    | 2       | 17      | subject-1   | No                        | 112                         |\n",
    "| L5S203    | CGATGCACCAGA     | tongue      | 2009    | 3       | 17      | subject-1   | No                        | 140                         |\n",
    "| L5S222    | CTAGAGACTCTT     | tongue      | 2009    | 4       | 14      | subject-1   | No                        | 168                         |\n",
    "| L1S140    | ATGGCAGCTCTA     | gut         | 2008    | 10      | 28      | subject-2   | Yes                       | 0                           |\n",
    "| L1S208    | CTGAGATACGCG     | gut         | 2009    | 1       | 20      | subject-2   | No                        | 84                          |\n",
    "| L1S257    | CCGACTGAGATG     | gut         | 2009    | 3       | 17      | subject-2   | No                        | 140                         |\n",
    "| L1S281    | CCTCTCGTGATC     | gut         | 2009    | 4       | 14      | subject-2   | No                        | 168                         |\n",
    "| L2S240    | CATATCGCAGTT     | left palm   | 2008    | 10      | 28      | subject-2   | Yes                       | 0                           |\n",
    "| L2S309    | CGTGCATTATCA     | left palm   | 2009    | 1       | 20      | subject-2   | No                        | 84                          |\n",
    "| L2S357    | CTAACGCAGTCA     | left palm   | 2009    | 3       | 17      | subject-2   | No                        | 140                         |\n",
    "| L2S382    | CTCAATGACTCA     | left palm   | 2009    | 4       | 14      | subject-2   | No                        | 168                         |\n",
    "| L3S378    | ATCGATCTGTGG     | right palm  | 2008    | 10      | 28      | subject-2   | Yes                       | 0                           |\n",
    "| L4S63     | CTCGTGGAGTAG     | right palm  | 2009    | 1       | 20      | subject-2   | No                        | 84                          |\n",
    "| L4S112    | GCGTTACACACA     | right palm  | 2009    | 3       | 17      | subject-2   | No                        | 140                         |\n",
    "| L4S137    | GAACTGTATCTC     | right palm  | 2009    | 4       | 14      | subject-2   | No                        | 168                         |\n",
    "| L5S240    | CTGGACTCATAG     | tongue      | 2008    | 10      | 28      | subject-2   | Yes                       | 0                           |\n",
    "| L6S20     | GAGGCTCATCAT     | tongue      | 2009    | 1       | 20      | subject-2   | No                        | 84                          |\n",
    "| L6S68     | GATACGTCCTGA     | tongue      | 2009    | 3       | 17      | subject-2   | No                        | 140                         |\n",
    "| L6S93     | GATTAGCACTCT     | tongue      | 2009    | 4       | 14      | subject-2   | No                        | 168                         |\n"
   ]
  },
  {
   "cell_type": "markdown",
   "id": "3096133d",
   "metadata": {},
   "source": [
    "It contains data about:\n",
    "- 35 samples\n",
    "- in 9 columns"
   ]
  },
  {
   "cell_type": "markdown",
   "id": "eaa5994e",
   "metadata": {},
   "source": [
    "TSV stands for __tab separated values__. A tab is the space between each word. Excel is capable of opening and saving this type of files."
   ]
  },
  {
   "cell_type": "markdown",
   "id": "80e12ad7",
   "metadata": {},
   "source": [
    "The first row is the __header__. It cointains the names of the properties that each sample has. For example, the first sample\n",
    "- Is named L1S8\n",
    "- Has the barcode AGCTGACTAGTC\n",
    "- Comes from the gut\n",
    "- Was taken on 2008\n",
    "\n",
    "and so on...\n"
   ]
  },
  {
   "cell_type": "markdown",
   "id": "0a81c787",
   "metadata": {},
   "source": [
    "It is very important to add as many variables as possible:\n",
    "- Day that you took the sample\n",
    "- Day that it was processed in the lab\n",
    "- Day that it was processed for sequencing\n",
    "- Geographical coordinates of the sampling sites\n",
    "- pH / salinity of the samples\n",
    "- Chemical composition of the sample (Fe, N, CO2, etc).\n",
    "- Purification / extraction protocol (if more than one is used)."
   ]
  },
  {
   "cell_type": "markdown",
   "id": "1a3a57de",
   "metadata": {},
   "source": [
    "The next file are the barcodes used (`data/barcodes.fq.g`').\n",
    "\n",
    "To each sample, one sequence is assigned to identify the sample. Think about it as the molecular ID card number of the sample."
   ]
  },
  {
   "cell_type": "markdown",
   "id": "7474d1ce",
   "metadata": {},
   "source": [
    "This file contains 302,581 16S fragments."
   ]
  },
  {
   "cell_type": "markdown",
   "id": "10a3b653",
   "metadata": {},
   "source": [
    "| read_name                            | sequence     | separator | quality      |\n",
    "|--------------------------------------|--------------|-----------|--------------|\n",
    "| @HWI-EAS440_0386:1:23:17547:1423#0/1 | ATGCAGCTCAGT | +         | IIIIIIIIIIIH |\n",
    "| @HWI-EAS440_0386:1:23:14818:1533#0/1 | CCCCTCAGCGGC | +         | DDD@D?@B<<+/ |\n",
    "| @HWI-EAS440_0386:1:23:14401:1629#0/1 | GACGAGTCAGTC | +         | GGEGDGGGGGDG |\n",
    "| @HWI-EAS440_0386:1:23:15259:1649#0/1 | AGCAGTCGCGAT | +         | IIIIIIIIIIII |\n",
    "| @HWI-EAS440_0386:1:23:13748:2482#0/1 | AGCACACCTACA | +         | GGGGBGGEEGGD |\n",
    "| @HWI-EAS440_0386:1:23:6532:3028#0/1  | GAGAGAATGATC | +         | HIIIIIIIIIII |\n",
    "| @HWI-EAS440_0386:1:23:8677:3027#0/1  | CACAGTGGACGT | +         | FHHHHHHHHHHH |\n",
    "| @HWI-EAS440_0386:1:23:5678:3052#0/1  | ATAGCTCCATAC | +         | IIIIIIIIIIII |\n",
    "| @HWI-EAS440_0386:1:23:11889:3171#0/1 | ACGTTAGCACAC | +         | IIIIIIGIIIII |\n",
    "| @HWI-EAS440_0386:1:23:2112:3374#0/1  | GAGAGAATGATC | +         | FEEBBCEEEEDG |\n"
   ]
  },
  {
   "cell_type": "markdown",
   "id": "5270a827",
   "metadata": {
    "tags": []
   },
   "source": [
    "For example, the first sequence of the experiment, the barcode is `ATGCAGCTCAGT`, which belongs to sample `L2S204`."
   ]
  },
  {
   "cell_type": "markdown",
   "id": "460644b3",
   "metadata": {
    "tags": []
   },
   "source": [
    "Use Ctrl + F to find the following barcodes:\n",
    "- CCCCTCAGCGGC\n",
    "- GACGAGTCAGTC"
   ]
  },
  {
   "cell_type": "markdown",
   "id": "6381886e",
   "metadata": {},
   "source": [
    "And now the file with the 16S fragments:"
   ]
  },
  {
   "cell_type": "markdown",
   "id": "171eb12f",
   "metadata": {},
   "source": [
    "| sequence_name                        | sequence                                                                                                                                                 | separator | quality                                                                                                                                                  |\n",
    "|:--------------------------------------|:----------------------------------------------------------------------------------------------------------------------------------------------------------|:-----------|:----------------------------------------------------------------------------------------------------------------------------------------------------------|\n",
    "| @HWI-EAS440_0386:1:23:17547:1423#0/1 | TACGNAGGATCCGAGCGTTATCCGGATTTATTGGGTTTAAAGGGAGCGTAGATGGATGTTTAAGTCAGTTGTGAAAGTTTGCGGCTCAACCGTAAAATTGCAGTTGATACTGGATATCTTGAGTGCAGTTGAGGCAGGGGGGGATTGGTGTG | +         | IIIE)EEEEEEEEGFIIGIIIHIHHGIIIGIIHHHGIIHGHEGDGIFIGEHGIHHGHHGHHGGHEEGHEGGEHEBBHBBEEDCEDDD>B?BE@@B>@@@@@CB@ABA@@?@@=>?08;3=;==8:5;@6?###################### |\n",
    "| @HWI-EAS440_0386:1:23:14818:1533#0/1 | CCCCNCAGCGGCAAAAATTAAAATTTTTACCGCTTCGGCGTTATAGCCTCACACTCAATCTTTTATCACGAAGTCATGATTGAATCGCGAGTGGTCGGCAGATTGCGATAAACGGGCACATTAAATTTAAACTGATGATTCCACTGCAACAA | +         | 64<2$24;1)/:*B<?BBDDBBD<>BDD############################################################################################################################ |\n",
    "| @HWI-EAS440_0386:1:23:14401:1629#0/1 | TACGNAGGATCCGAGCGTTATCCGGATTTATTGGGTTTAAAGGGAGCGTAGGCGGACGCTTAAGTCAGTTGTGAAAGTTTGCGGCTCAACCGTAAAATTGCAGTTGATACTGGGTGTCTTGAGTACAGTAGAGGCAGGGGGGGGGTTGGGGG | +         | GGGC'ACC8;;>;HHHHGHDHHHHHEEHHEHHHHHECHEEEHCHFHHHAGGEHHFBCCBABBBE>>>E=>A>A<>>B8B:B=BBABA@AAAA@?>???>>>9>@AA@@@@AA######################################## |\n",
    "| @HWI-EAS440_0386:1:23:15259:1649#0/1 | TACGNAGGATCCGAGCGTTATCCGGATTTATTGGGTTTAAAGGGAGCGTAGGCGGACGCTTAAGTCAGTTGTGAAAGTTTGCGGCTCAACCGTAAAATTGCAGTTGATACTGGGTGTCTTGAGTACAGTAGAGGCAGGGGGGAGTTTGGGGG | +         | IIIE)DEE?CCCBIIIIIIGIIIIIHIIIIIIIIIHIIIHFIDIGIIIHHIHIGIIIHFIHBGGBFDGEHHEI=CBGBEEEEEHEEGECD?>B@=?@BAA=9A?@A>ABBBCDB:C:@??9>?;:?;?BA@?B################### |\n",
    "| @HWI-EAS440_0386:1:23:13748:2482#0/1 | TACGNAGGATCCGAGCGTTATCCGGATTTATTGGGTTTAAAGGGAGCGTAGATGGATGTTTAAGTCAGTTGTGAAAGTTTGCGGCTCAACCGTAAAATTGCAGTTGATACTGGATATCTTGAGTGCAGTTGAGGCAGGCGGGATTCGTGGTG | +         | GGGC'?CC4<5<6HHHHHHH@@HGGEEGHHFHHHHBBHGFFGCGBBGG@DGBDGFDFEEHHHFHEHEHBHHEEDEEEAB@BBEAEEBEEAEBB8:>>:EEEB@>@>>B@:@@@9=@>:B:>=>8:/7>=>@##################### |\n",
    "| @HWI-EAS440_0386:1:23:6532:3028#0/1  | TACGNAGGATCCGAGCGTTATCCGGATTTATTGGGTTTAAAGGGAGCGTAGGCGGACGCTTAAGTCAGTTGTGAAAGTTTGCGGCTCAACCGTAAAATTGCAGTTGATACTGGGTGTCTTGAGTACAGTAGAGGCAGGGGGGAGTCTTGGGG | +         | IIIG)EGGBDEDDIIIIHIGIIIIGFIIIDIIIFIHIIHHIIHFIHIIGGHIIIHHIHIEEHHHGIGHEIIEFBA8G?EEEEECHBHDEFEHDGEECDEEBEEDFGC@BEEEEE@EBBBBBBBADBAB9?;=9@????############## |\n",
    "| @HWI-EAS440_0386:1:23:8677:3027#0/1  | TACANAGGTCTCAAGCGTTGTTCGGAATCACTGGGCGTAAAGCGTGCGTAGGCTGTTTCGTAAGTCGTGTGTGAAAGGCGCGGGCTCAACCCGCGGCCGGCACATGATACTGTGAGACTAGCGTAACGGAGGGGGAACCGGAATTCTTGGTG | +         | HHHA'CCCEFFFFHHHHHHHHHHHGHHHHHHHHHHHHHHHHHGHHHHHHHHHGHHHHHHHG>HGDDGDGCGCEHFE>EEEB@EFEBB>B;D@@########################################################### |\n",
    "| @HWI-EAS440_0386:1:23:5678:3052#0/1  | TACGNAGGGGGCAAGCGTTATCCGGATTTACTGGGTGTAAAGGGAGCGTAGACGGAAGAGCAAGTCTGATGTGAAAGGCTGGGGCTTAACCCCAGGACTGCATTGGAAACTGTTTTTCTTGAGTGCCGGAGAGGTAAGCGGAATTCCTGGGG | +         | IIIF)FFFBBBCCIHIIIIIIIIIHIIIIHIIIIIGIHIIHIIHIIIIEIFIIGHIIBFIIHHIEEIIIIIBEGGGGEC>;@@;?@A?EBBEEBADA;=5<==>=3+>:4<=9@B>>1@9.=5=?=??######################## |\n",
    "| @HWI-EAS440_0386:1:23:11889:3171#0/1 | TACGNAGGGGGCAAGCGTTATCCGGATTTACTGGGTGTAAAGGGAGCGTAGACGGTTTTGCAAGTCTGAAGTGAAAGCCCGGGGCTTAACCCCGGGACTGCTTTGGAAACTGTATGACTAGAGTGCAGGAGAGGTAAGTGGAATTCCTAGTG | +         | IIIF)EEFFFFEEIHIIIIIIIIIIDIIIIIIIIIGIGEEEGGIHHIIHIHFIIFHHIIIIGGIGGIIH@FEBFDEDD<EBCBBEEEBBEBBF:=829?>>??AA3;;@@@B@@BB@################################### |\n",
    "| @HWI-EAS440_0386:1:23:2112:3374#0/1  | TACGNAGGATCCGAGCGTTATCCGGATTTATTGGGTTTAAAGGGAGCGTAGATGGATGTTTAAGTCAGTTGTGAAAGTTTGCGGCTCAACCGTAAAATTGCAGTTGATACTGGATGTCTTGAGTGCAGTTGAGGCAGGGGGGATTCGTGTGG | +         | GGGE(DEE;;@@@HHHHHHHHHHHHHHHHGHHHHHHGHEHHHHFHHHHFHHHHHHFHHEHHFHHHHHHEHHEHDBBG=?@C@C@HEFEE@FFE3?;??AED3C@1@@3?=<>?DADCBEBBBC?EB?B######################## |\n"
   ]
  },
  {
   "cell_type": "markdown",
   "id": "9a6ec687",
   "metadata": {
    "tags": []
   },
   "source": [
    "As you can see, sequences can be pretty long. And it goes forever. This file contains +300K sequences. Real datasets contain hundreds of million sequences.\n",
    "\n",
    "Data processing by hand, or with a word processor and spreadsheets is impossible, and therefore you need to use tools taylored for this purpose, like Qiime2."
   ]
  },
  {
   "cell_type": "markdown",
   "id": "5002bde7",
   "metadata": {},
   "source": [
    "Qiime is a toolbox that contains almost all the programs you need to process metabarcoding data. To see what it can do, just type qiime in a code cell:"
   ]
  },
  {
   "cell_type": "markdown",
   "id": "2bb4623d",
   "metadata": {},
   "source": [
    "The tools we are going to focus in this tutorial are:\n",
    "- tools\n",
    "- demux\n",
    "- dada2\n",
    "- feature-table\n",
    "- phylogeny\n",
    "- diversity\n",
    "- emperor\n",
    "- feature classifier\n",
    "- taxa\n",
    "- composition"
   ]
  },
  {
   "cell_type": "markdown",
   "id": "96796593",
   "metadata": {},
   "source": [
    "To see how any of them work, type `qiime [TOOL] [SUBTOOL] --help`, and it will show how to use it:"
   ]
  },
  {
   "cell_type": "code",
   "execution_count": 1,
   "id": "2993bf66",
   "metadata": {
    "tags": []
   },
   "outputs": [
    {
     "name": "stdout",
     "output_type": "stream",
     "text": [
      "Usage: \u001b[94mqiime demux\u001b[0m [OPTIONS] COMMAND [ARGS]...\n",
      "\n",
      "  Description: This QIIME 2 plugin supports demultiplexing of single-end and\n",
      "  paired-end sequence reads and visualization of sequence quality information.\n",
      "\n",
      "  Plugin website: https://github.com/qiime2/q2-demux\n",
      "\n",
      "  Getting user support: Please post to the QIIME 2 forum for help with this\n",
      "  plugin: https://forum.qiime2.org\n",
      "\n",
      "\u001b[1mOptions\u001b[0m:\n",
      "  \u001b[94m--version\u001b[0m            Show the version and exit.\n",
      "  \u001b[94m--example-data\u001b[0m PATH  Write example data and exit.\n",
      "  \u001b[94m--citations\u001b[0m          Show citations and exit.\n",
      "  \u001b[94m--help\u001b[0m               Show this message and exit.\n",
      "\n",
      "\u001b[1mCommands\u001b[0m:\n",
      "  \u001b[94memp-paired\u001b[0m        Demultiplex paired-end sequence data generated with the\n",
      "                    EMP protocol.\n",
      "  \u001b[94memp-single\u001b[0m        Demultiplex sequence data generated with the EMP protocol.\n",
      "  \u001b[94mfilter-samples\u001b[0m    Filter samples out of demultiplexed data.\n",
      "  \u001b[94msubsample-paired\u001b[0m  Subsample paired-end sequences without replacement.\n",
      "  \u001b[94msubsample-single\u001b[0m  Subsample single-end sequences without replacement.\n",
      "  \u001b[94msummarize\u001b[0m         Summarize counts per sample.\n"
     ]
    }
   ],
   "source": [
    "qiime demux --help"
   ]
  },
  {
   "cell_type": "code",
   "execution_count": 2,
   "id": "7a4ea389",
   "metadata": {
    "tags": []
   },
   "outputs": [
    {
     "name": "stdout",
     "output_type": "stream",
     "text": [
      "Usage: \u001b[94mqiime taxa barplot\u001b[0m [OPTIONS]\n",
      "\n",
      "  This visualizer produces an interactive barplot visualization of taxonomies.\n",
      "  Interactive features include multi-level sorting, plot recoloring, sample\n",
      "  relabeling, and SVG figure export.\n",
      "\n",
      "\u001b[1mInputs\u001b[0m:\n",
      "  \u001b[94m\u001b[4m--i-table\u001b[0m ARTIFACT \u001b[32mFeatureTable[Frequency]\u001b[0m\n",
      "                         Feature table to visualize at various taxonomic\n",
      "                         levels.                                    \u001b[35m[required]\u001b[0m\n",
      "  \u001b[94m\u001b[4m--i-taxonomy\u001b[0m ARTIFACT \u001b[32mFeatureData[Taxonomy]\u001b[0m\n",
      "                         Taxonomic annotations for features in the provided\n",
      "                         feature table. All features in the feature table must\n",
      "                         have a corresponding taxonomic annotation. Taxonomic\n",
      "                         annotations that are not present in the feature table\n",
      "                         will be ignored.                           \u001b[35m[required]\u001b[0m\n",
      "\u001b[1mParameters\u001b[0m:\n",
      "  \u001b[94m--m-metadata-file\u001b[0m METADATA...\n",
      "    (multiple            The sample metadata.\n",
      "     arguments will be   \n",
      "     merged)                                                        \u001b[35m[optional]\u001b[0m\n",
      "\u001b[1mOutputs\u001b[0m:\n",
      "  \u001b[94m\u001b[4m--o-visualization\u001b[0m VISUALIZATION\n",
      "                                                                    \u001b[35m[required]\u001b[0m\n",
      "\u001b[1mMiscellaneous\u001b[0m:\n",
      "  \u001b[94m--output-dir\u001b[0m PATH      Output unspecified results to a directory\n",
      "  \u001b[94m--verbose\u001b[0m / \u001b[94m--quiet\u001b[0m    Display verbose output to stdout and/or stderr\n",
      "                         during execution of this action. Or silence output if\n",
      "                         execution is successful (silence is golden).\n",
      "  \u001b[94m--example-data\u001b[0m PATH    Write example data and exit.\n",
      "  \u001b[94m--citations\u001b[0m            Show citations and exit.\n",
      "  \u001b[94m--help\u001b[0m                 Show this message and exit.\n",
      "\n",
      "\u001b[1mExamples\u001b[0m:\n",
      "  # ### example: barplot\n",
      "  qiime taxa barplot \\\n",
      "    --i-table table.qza \\\n",
      "    --i-taxonomy taxonomy.qza \\\n",
      "    --m-metadata-file sample-metadata.tsv \\\n",
      "    --o-visualization taxa-bar-plots.qzv\n",
      "  \n"
     ]
    }
   ],
   "source": [
    "qiime taxa barplot --help"
   ]
  },
  {
   "cell_type": "markdown",
   "id": "41787f7d",
   "metadata": {},
   "source": [
    "The tools included in Qiime2 follow the same pattern:\n",
    "```\n",
    "qiime command subcommand \\\n",
    "  --i-input      files \\\n",
    "  --p-parameters parameter1 \\\n",
    "  --m-metadata   metadata-file.tsv \\\n",
    "  --o-output     output-file\n",
    "```"
   ]
  },
  {
   "cell_type": "markdown",
   "id": "606f43f2",
   "metadata": {
    "tags": []
   },
   "source": [
    "All commands transforms input files into output files:\n",
    "- **I**nput files are specified with `--i-*`\n",
    "- **M**etadata is specified with `--m-*`\n",
    "- **P**arameters on how to execute the command is specified `--p-*`\n",
    "- **O**utput files are specified with `--o-*`\n",
    "\n",
    "As a rule of thumb, use that order: input, metadata, parameters, output. This will make the code cleaner and easier for you to follow."
   ]
  },
  {
   "cell_type": "markdown",
   "id": "d7a6da54",
   "metadata": {},
   "source": [
    "The next picture is the map of the typical analysis in Qiime. Drag and drop it to another tab in your browser if you need to look at it later on"
   ]
  },
  {
   "cell_type": "markdown",
   "id": "7c085fff",
   "metadata": {},
   "source": [
    "<img src=\"../assets/img/qiime_map.svg\"  width=\"1200\" height=\"600\">"
   ]
  },
  {
   "cell_type": "markdown",
   "id": "bd1642ff",
   "metadata": {
    "tags": []
   },
   "source": [
    "## 1. Importing sequences"
   ]
  },
  {
   "cell_type": "markdown",
   "id": "a223ffab",
   "metadata": {
    "tags": []
   },
   "source": [
    "The first step for Qiime is to tell it where are your sequences. To do so, use the `qiime tools import` command"
   ]
  },
  {
   "cell_type": "code",
   "execution_count": 3,
   "id": "4ca735a9",
   "metadata": {
    "tags": []
   },
   "outputs": [
    {
     "name": "stdout",
     "output_type": "stream",
     "text": [
      "Usage: \u001b[94mqiime tools import\u001b[0m [OPTIONS]\n",
      "\n",
      "  Import data to create a new QIIME 2 Artifact. See https://docs.qiime2.org/\n",
      "  for usage examples and details on the file types and associated semantic\n",
      "  types that can be imported.\n",
      "\n",
      "\u001b[1mOptions\u001b[0m:\n",
      "  \u001b[94m\u001b[4m--type\u001b[0m TEXT             The semantic type of the artifact that will be\n",
      "                          created upon importing. Use --show-importable-types\n",
      "                          to see what importable semantic types are available\n",
      "                          in the current deployment.                \u001b[35m[required]\u001b[0m\n",
      "  \u001b[94m\u001b[4m--input-path\u001b[0m PATH       Path to file or directory that should be imported.\n",
      "                                                                    \u001b[35m[required]\u001b[0m\n",
      "  \u001b[94m\u001b[4m--output-path\u001b[0m ARTIFACT  Path where output artifact should be written.\n",
      "                                                                    \u001b[35m[required]\u001b[0m\n",
      "  \u001b[94m--input-format\u001b[0m TEXT     The format of the data to be imported. If not\n",
      "                          provided, data must be in the format expected by the\n",
      "                          semantic type provided via --type.\n",
      "  \u001b[94m--show-importable-types\u001b[0m Show the semantic types that can be supplied to\n",
      "                          --type to import data into an artifact.\n",
      "  \u001b[94m--show-importable-formats\u001b[0m\n",
      "                          Show formats that can be supplied to --input-format\n",
      "                          to import data into an artifact.\n",
      "  \u001b[94m--help\u001b[0m                  Show this message and exit.\n"
     ]
    }
   ],
   "source": [
    "qiime tools import --help"
   ]
  },
  {
   "cell_type": "markdown",
   "id": "5424572d",
   "metadata": {},
   "source": [
    "To import the sequences execute the following:"
   ]
  },
  {
   "cell_type": "code",
   "execution_count": 4,
   "id": "6cd291a9",
   "metadata": {
    "tags": []
   },
   "outputs": [
    {
     "name": "stdout",
     "output_type": "stream",
     "text": [
      "\u001b[32mImported data as EMPSingleEndDirFmt to sequences.qza\u001b[0m\n",
      "\u001b[0m\n"
     ]
    }
   ],
   "source": [
    "qiime tools import \\\n",
    "  --type        EMPSingleEndSequences \\\n",
    "  --input-path  data \\\n",
    "  --output-path sequences.qza"
   ]
  },
  {
   "cell_type": "markdown",
   "id": "ea7e2eae",
   "metadata": {},
   "source": [
    "We can see the content with `peek`:"
   ]
  },
  {
   "cell_type": "code",
   "execution_count": 5,
   "id": "f2f3f88c",
   "metadata": {
    "tags": []
   },
   "outputs": [
    {
     "name": "stdout",
     "output_type": "stream",
     "text": [
      "\u001b[32mUUID\u001b[0m:        010b2836-7443-45b5-9df2-8dc0f969c9e4\n",
      "\u001b[32mType\u001b[0m:        EMPSingleEndSequences\n",
      "\u001b[32mData format\u001b[0m: EMPSingleEndDirFmt\n"
     ]
    }
   ],
   "source": [
    "qiime tools peek sequences.qza"
   ]
  },
  {
   "cell_type": "markdown",
   "id": "adb162d0",
   "metadata": {},
   "source": [
    "It is not very useful, but it says that it contains sequences of the type EMP Single End."
   ]
  },
  {
   "cell_type": "markdown",
   "id": "bb40d7ba",
   "metadata": {},
   "source": [
    "Double clicking `sequences.qza` does not work. The file is very big to see it manually or generate reports: \".qz**v**\" files"
   ]
  },
  {
   "cell_type": "markdown",
   "id": "e7bf934f",
   "metadata": {},
   "source": [
    "Note: qiime generates two types of files:\n",
    "- qz**a** - artifacts: tables, for the machine\n",
    "- qz**v** - visualizations: plots, for the humans\n",
    "\n",
    "The artifacts are for the programs, the visualizations for us."
   ]
  },
  {
   "cell_type": "markdown",
   "id": "0c037b5b",
   "metadata": {
    "tags": []
   },
   "source": [
    "## 2. Demux: demultiplex sequences"
   ]
  },
  {
   "cell_type": "markdown",
   "id": "c675a3a4",
   "metadata": {},
   "source": [
    "Demultiplexing consists of grouping the 16S sequences according to the sample they belong. The purpose is to separate the reads by sample."
   ]
  },
  {
   "cell_type": "markdown",
   "id": "e380ac6a",
   "metadata": {},
   "source": [
    "To do so, we will use `qiime demux`:"
   ]
  },
  {
   "cell_type": "code",
   "execution_count": 6,
   "id": "3c010f71",
   "metadata": {
    "tags": []
   },
   "outputs": [
    {
     "name": "stdout",
     "output_type": "stream",
     "text": [
      "Usage: \u001b[94mqiime demux\u001b[0m [OPTIONS] COMMAND [ARGS]...\n",
      "\n",
      "  Description: This QIIME 2 plugin supports demultiplexing of single-end and\n",
      "  paired-end sequence reads and visualization of sequence quality information.\n",
      "\n",
      "  Plugin website: https://github.com/qiime2/q2-demux\n",
      "\n",
      "  Getting user support: Please post to the QIIME 2 forum for help with this\n",
      "  plugin: https://forum.qiime2.org\n",
      "\n",
      "\u001b[1mOptions\u001b[0m:\n",
      "  \u001b[94m--version\u001b[0m            Show the version and exit.\n",
      "  \u001b[94m--example-data\u001b[0m PATH  Write example data and exit.\n",
      "  \u001b[94m--citations\u001b[0m          Show citations and exit.\n",
      "  \u001b[94m--help\u001b[0m               Show this message and exit.\n",
      "\n",
      "\u001b[1mCommands\u001b[0m:\n",
      "  \u001b[94memp-paired\u001b[0m        Demultiplex paired-end sequence data generated with the\n",
      "                    EMP protocol.\n",
      "  \u001b[94memp-single\u001b[0m        Demultiplex sequence data generated with the EMP protocol.\n",
      "  \u001b[94mfilter-samples\u001b[0m    Filter samples out of demultiplexed data.\n",
      "  \u001b[94msubsample-paired\u001b[0m  Subsample paired-end sequences without replacement.\n",
      "  \u001b[94msubsample-single\u001b[0m  Subsample single-end sequences without replacement.\n",
      "  \u001b[94msummarize\u001b[0m         Summarize counts per sample.\n"
     ]
    }
   ],
   "source": [
    "qiime demux --help"
   ]
  },
  {
   "cell_type": "markdown",
   "id": "fd5f3ca4",
   "metadata": {
    "tags": []
   },
   "source": [
    "Since our dataset is of the type `emp-single`, we will use that"
   ]
  },
  {
   "cell_type": "code",
   "execution_count": 8,
   "id": "bdb348a5",
   "metadata": {
    "tags": []
   },
   "outputs": [
    {
     "name": "stdout",
     "output_type": "stream",
     "text": [
      "Usage: \u001b[94mqiime demux emp-single\u001b[0m [OPTIONS]\n",
      "\n",
      "  Demultiplex sequence data (i.e., map barcode reads to sample ids) for data\n",
      "  generated with the Earth Microbiome Project (EMP) amplicon sequencing\n",
      "  protocol. Details about this protocol can be found at\n",
      "  http://www.earthmicrobiome.org/protocols-and-standards/\n",
      "\n",
      "\u001b[1mInputs\u001b[0m:\n",
      "  \u001b[94m\u001b[4m--i-seqs\u001b[0m ARTIFACT \u001b[32mRawSequences | EMPSingleEndSequences |\u001b[0m\n",
      "    \u001b[32mEMPPairedEndSequences\u001b[0m\n",
      "                       The single-end sequences to be demultiplexed.\n",
      "                                                                    \u001b[35m[required]\u001b[0m\n",
      "\u001b[1mParameters\u001b[0m:\n",
      "  \u001b[94m\u001b[4m--m-barcodes-file\u001b[0m METADATA\n",
      "  \u001b[94m\u001b[4m--m-barcodes-column\u001b[0m COLUMN  \u001b[32mMetadataColumn[Categorical]\u001b[0m\n",
      "                       The sample metadata column containing the per-sample\n",
      "                       barcodes.                                    \u001b[35m[required]\u001b[0m\n",
      "  \u001b[94m--p-golay-error-correction\u001b[0m / \u001b[94m--p-no-golay-error-correction\u001b[0m\n",
      "                       Perform 12nt Golay error correction on the barcode\n",
      "                       reads.                                  \u001b[35m[default: True]\u001b[0m\n",
      "  \u001b[94m--p-rev-comp-barcodes\u001b[0m / \u001b[94m--p-no-rev-comp-barcodes\u001b[0m\n",
      "                       If provided, the barcode sequence reads will be\n",
      "                       reverse complemented prior to demultiplexing.\n",
      "                                                              \u001b[35m[default: False]\u001b[0m\n",
      "  \u001b[94m--p-rev-comp-mapping-barcodes\u001b[0m / \u001b[94m--p-no-rev-comp-mapping-barcodes\u001b[0m\n",
      "                       If provided, the barcode sequences in the sample\n",
      "                       metadata will be reverse complemented prior to\n",
      "                       demultiplexing.                        \u001b[35m[default: False]\u001b[0m\n",
      "  \u001b[94m--p-ignore-description-mismatch\u001b[0m / \u001b[94m--p-no-ignore-description-mismatch\u001b[0m\n",
      "                       If enabled, ignore mismatches in sequence record\n",
      "                       description fields.                    \u001b[35m[default: False]\u001b[0m\n",
      "\u001b[1mOutputs\u001b[0m:\n",
      "  \u001b[94m\u001b[4m--o-per-sample-sequences\u001b[0m ARTIFACT \u001b[32mSampleData[SequencesWithQuality]\u001b[0m\n",
      "                       The resulting demultiplexed sequences.       \u001b[35m[required]\u001b[0m\n",
      "  \u001b[94m\u001b[4m--o-error-correction-details\u001b[0m ARTIFACT \u001b[32mErrorCorrectionDetails\u001b[0m\n",
      "                       Detail about the barcode error corrections.  \u001b[35m[required]\u001b[0m\n",
      "\u001b[1mMiscellaneous\u001b[0m:\n",
      "  \u001b[94m--output-dir\u001b[0m PATH    Output unspecified results to a directory\n",
      "  \u001b[94m--verbose\u001b[0m / \u001b[94m--quiet\u001b[0m  Display verbose output to stdout and/or stderr during\n",
      "                       execution of this action. Or silence output if\n",
      "                       execution is successful (silence is golden).\n",
      "  \u001b[94m--example-data\u001b[0m PATH  Write example data and exit.\n",
      "  \u001b[94m--citations\u001b[0m          Show citations and exit.\n",
      "  \u001b[94m--help\u001b[0m               Show this message and exit.\n",
      "\n",
      "\u001b[1mExamples\u001b[0m:\n",
      "  # ### example: demux\n",
      "  qiime demux emp-single \\\n",
      "    --i-seqs sequences.qza \\\n",
      "    --m-barcodes-file sample-metadata.tsv \\\n",
      "    --m-barcodes-column barcode-sequence \\\n",
      "    --o-per-sample-sequences demux.qza \\\n",
      "    --o-error-correction-details demux-details.qza\n",
      "  \n"
     ]
    }
   ],
   "source": [
    "qiime demux emp-single --help"
   ]
  },
  {
   "cell_type": "markdown",
   "id": "521bed9c",
   "metadata": {},
   "source": [
    "We have to specify:\n",
    "- The input qza\n",
    "- The metadata file that contains the barcodes\n",
    "- The exact column\n",
    "- Where to store the results\n",
    "- Statistics of the procedure"
   ]
  },
  {
   "cell_type": "code",
   "execution_count": 9,
   "id": "03f04d92",
   "metadata": {
    "tags": []
   },
   "outputs": [
    {
     "name": "stdout",
     "output_type": "stream",
     "text": [
      "\u001b[32mSaved SampleData[SequencesWithQuality] to: demux.qza\u001b[0m\n",
      "\u001b[32mSaved ErrorCorrectionDetails to: demux-details.qza\u001b[0m\n",
      "\u001b[0m\n"
     ]
    }
   ],
   "source": [
    "qiime demux emp-single \\\n",
    "    --i-seqs                     sequences.qza \\\n",
    "    --m-barcodes-file            sample-metadata.tsv \\\n",
    "    --m-barcodes-column          barcode-sequence \\\n",
    "    --o-per-sample-sequences     demux.qza \\\n",
    "    --o-error-correction-details demux-details.qza"
   ]
  },
  {
   "cell_type": "markdown",
   "id": "269b9db7",
   "metadata": {
    "tags": []
   },
   "source": [
    "Let's see what happened in this step. To do so, convert `demux.qza` into `demux.qzv`:"
   ]
  },
  {
   "cell_type": "code",
   "execution_count": 10,
   "id": "eb017f22",
   "metadata": {
    "tags": []
   },
   "outputs": [
    {
     "name": "stdout",
     "output_type": "stream",
     "text": [
      "\u001b[32mSaved Visualization to: demux.qzv\u001b[0m\n",
      "\u001b[0m\n"
     ]
    }
   ],
   "source": [
    "qiime demux summarize \\\n",
    "    --i-data          demux.qza \\\n",
    "    --o-visualization demux.qzv"
   ]
  },
  {
   "cell_type": "markdown",
   "id": "bce0b616",
   "metadata": {},
   "source": [
    "Download `demux.qzv` and upload it to https://view.qiime2.org"
   ]
  },
  {
   "cell_type": "markdown",
   "id": "32127019",
   "metadata": {},
   "source": [
    "Or click this [link](https://view.qiime2.org/?src=https%3A%2F%2Fdocs.qiime2.org%2F2023.2%2Fdata%2Ftutorials%2Fmoving-pictures%2Fdemux.qzv)"
   ]
  },
  {
   "cell_type": "markdown",
   "id": "981fbbdb-1be5-49ef-ae81-8f6ffeb1a445",
   "metadata": {},
   "source": [
    "### Exercises"
   ]
  },
  {
   "cell_type": "markdown",
   "id": "5f2565c0-eb5d-4e20-b967-12711a1b07ef",
   "metadata": {},
   "source": [
    "- How many reads has the smallest sample? Which sample is the smallest?"
   ]
  },
  {
   "cell_type": "markdown",
   "id": "b6fe1fc5-ee9a-4788-8eba-73d9dfbb3bd9",
   "metadata": {},
   "source": [
    "1,854, L3S341"
   ]
  },
  {
   "cell_type": "markdown",
   "id": "b84718ba-e5ee-4044-a9d2-ac40a3ab838e",
   "metadata": {
    "tags": []
   },
   "source": [
    "- How many reads has the biggest sample? Which sample is the biggest?"
   ]
  },
  {
   "cell_type": "markdown",
   "id": "28b706ed-c31b-4c2e-be77-ac76a3100d49",
   "metadata": {},
   "source": [
    "18,787, L4S137"
   ]
  },
  {
   "cell_type": "markdown",
   "id": "b5b347a7-d57e-465f-b1ca-e4fb63843673",
   "metadata": {},
   "source": [
    "- How many samples have less than 5,000 reads?"
   ]
  },
  {
   "cell_type": "markdown",
   "id": "57bf03fe-69f5-4f98-bd25-4eb8fc277dfc",
   "metadata": {},
   "source": [
    "12"
   ]
  },
  {
   "cell_type": "markdown",
   "id": "34ad189a-eca5-4c07-97e8-1ea9252d5cc1",
   "metadata": {},
   "source": [
    "- How many samples have around 10,000 reads in the histogram?"
   ]
  },
  {
   "cell_type": "markdown",
   "id": "ccaaa8fa-0e2c-4d63-a260-0ade969a30b1",
   "metadata": {},
   "source": [
    "10"
   ]
  },
  {
   "cell_type": "markdown",
   "id": "765982da-4c7d-449e-a45c-2babf7fd8083",
   "metadata": {},
   "source": [
    "- How many samples have around 17,500 reads in the histogram?"
   ]
  },
  {
   "cell_type": "markdown",
   "id": "32ac7bb8-45e3-49f2-b087-ab5175f06cda",
   "metadata": {},
   "source": [
    "2"
   ]
  },
  {
   "cell_type": "markdown",
   "id": "48b66b45",
   "metadata": {},
   "source": [
    "## 3. DADA2: correct errors"
   ]
  },
  {
   "cell_type": "markdown",
   "id": "4da5a2fc",
   "metadata": {},
   "source": [
    "DADA2 is a program to detect and correct errors in amplicon sequences. The command to run is the following:"
   ]
  },
  {
   "cell_type": "code",
   "execution_count": 11,
   "id": "52237f79",
   "metadata": {
    "tags": []
   },
   "outputs": [
    {
     "name": "stdout",
     "output_type": "stream",
     "text": [
      "Usage: \u001b[94mqiime dada2\u001b[0m [OPTIONS] COMMAND [ARGS]...\n",
      "\n",
      "  Description: This QIIME 2 plugin wraps DADA2 and supports sequence quality\n",
      "  control for single-end and paired-end reads using the DADA2 R library.\n",
      "\n",
      "  Plugin website: http://benjjneb.github.io/dada2/\n",
      "\n",
      "  Getting user support: Please post to the QIIME 2 forum for help with this\n",
      "  plugin: https://forum.qiime2.org\n",
      "\n",
      "\u001b[1mOptions\u001b[0m:\n",
      "  \u001b[94m--version\u001b[0m            Show the version and exit.\n",
      "  \u001b[94m--example-data\u001b[0m PATH  Write example data and exit.\n",
      "  \u001b[94m--citations\u001b[0m          Show citations and exit.\n",
      "  \u001b[94m--help\u001b[0m               Show this message and exit.\n",
      "\n",
      "\u001b[1mCommands\u001b[0m:\n",
      "  \u001b[94mdenoise-ccs\u001b[0m     Denoise and dereplicate single-end Pacbio CCS\n",
      "  \u001b[94mdenoise-paired\u001b[0m  Denoise and dereplicate paired-end sequences\n",
      "  \u001b[94mdenoise-pyro\u001b[0m    Denoise and dereplicate single-end pyrosequences\n",
      "  \u001b[94mdenoise-single\u001b[0m  Denoise and dereplicate single-end sequences\n"
     ]
    }
   ],
   "source": [
    "qiime dada2 --help"
   ]
  },
  {
   "cell_type": "code",
   "execution_count": 12,
   "id": "8d080aa4",
   "metadata": {
    "scrolled": true,
    "tags": []
   },
   "outputs": [
    {
     "name": "stdout",
     "output_type": "stream",
     "text": [
      "Usage: \u001b[94mqiime dada2 denoise-single\u001b[0m [OPTIONS]\n",
      "\n",
      "  This method denoises single-end sequences, dereplicates them, and filters\n",
      "  chimeras.\n",
      "\n",
      "\u001b[1mInputs\u001b[0m:\n",
      "  \u001b[94m\u001b[4m--i-demultiplexed-seqs\u001b[0m ARTIFACT \u001b[32mSampleData[SequencesWithQuality |\u001b[0m\n",
      "    \u001b[32mPairedEndSequencesWithQuality]\u001b[0m\n",
      "                         The single-end demultiplexed sequences to be\n",
      "                         denoised.                                  \u001b[35m[required]\u001b[0m\n",
      "\u001b[1mParameters\u001b[0m:\n",
      "  \u001b[94m\u001b[4m--p-trunc-len\u001b[0m INTEGER  Position at which sequences should be truncated due\n",
      "                         to decrease in quality. This truncates the 3' end of\n",
      "                         the of the input sequences, which will be the bases\n",
      "                         that were sequenced in the last cycles. Reads that\n",
      "                         are shorter than this value will be discarded. If 0\n",
      "                         is provided, no truncation or length filtering will\n",
      "                         be performed                               \u001b[35m[required]\u001b[0m\n",
      "  \u001b[94m--p-trim-left\u001b[0m INTEGER  Position at which sequences should be trimmed due to\n",
      "                         low quality. This trims the 5' end of the of the\n",
      "                         input sequences, which will be the bases that were\n",
      "                         sequenced in the first cycles.           \u001b[35m[default: 0]\u001b[0m\n",
      "  \u001b[94m--p-max-ee\u001b[0m NUMBER      Reads with number of expected errors higher than\n",
      "                         this value will be discarded.          \u001b[35m[default: 2.0]\u001b[0m\n",
      "  \u001b[94m--p-trunc-q\u001b[0m INTEGER    Reads are truncated at the first instance of a\n",
      "                         quality score less than or equal to this value. If\n",
      "                         the resulting read is then shorter than `\u001b[4mtrunc-len\u001b[0m`,\n",
      "                         it is discarded.                         \u001b[35m[default: 2]\u001b[0m\n",
      "  \u001b[94m--p-pooling-method\u001b[0m TEXT \u001b[32mChoices('independent', 'pseudo')\u001b[0m\n",
      "                         The method used to pool samples for denoising.\n",
      "                         \"independent\": Samples are denoised independently.\n",
      "                         \"pseudo\": The pseudo-pooling method is used to\n",
      "                         approximate pooling of samples. In short, samples are\n",
      "                         denoised independently once, ASVs detected in at\n",
      "                         least 2 samples are recorded, and samples are\n",
      "                         denoised independently a second time, but this time\n",
      "                         with prior knowledge of the recorded ASVs and thus\n",
      "                         higher sensitivity to those ASVs.\n",
      "                                                      \u001b[35m[default: 'independent']\u001b[0m\n",
      "  \u001b[94m--p-chimera-method\u001b[0m TEXT \u001b[32mChoices('consensus', 'none', 'pooled')\u001b[0m\n",
      "                         The method used to remove chimeras. \"none\": No\n",
      "                         chimera removal is performed. \"pooled\": All reads are\n",
      "                         pooled prior to chimera detection. \"consensus\":\n",
      "                         Chimeras are detected in samples individually, and\n",
      "                         sequences found chimeric in a sufficient fraction of\n",
      "                         samples are removed.           \u001b[35m[default: 'consensus']\u001b[0m\n",
      "  \u001b[94m--p-min-fold-parent-over-abundance\u001b[0m NUMBER\n",
      "                         The minimum abundance of potential parents of a\n",
      "                         sequence being tested as chimeric, expressed as a\n",
      "                         fold-change versus the abundance of the sequence\n",
      "                         being tested. Values should be greater than or equal\n",
      "                         to 1 (i.e. parents should be more abundant than the\n",
      "                         sequence being tested). This parameter has no effect\n",
      "                         if \u001b[4mchimera-method\u001b[0m is \"none\".           \u001b[35m[default: 1.0]\u001b[0m\n",
      "  \u001b[94m--p-allow-one-off\u001b[0m / \u001b[94m--p-no-allow-one-off\u001b[0m\n",
      "                         Bimeras that are one-off from exact are also\n",
      "                         identified if the `\u001b[4mallow-one-off\u001b[0m` argument is True.If\n",
      "                         True, a sequence will be identified as bimera if it\n",
      "                         is one mismatch or indel away from an exact bimera.\n",
      "                                                              \u001b[35m[default: False]\u001b[0m\n",
      "  \u001b[94m--p-n-threads\u001b[0m INTEGER  The number of threads to use for multithreaded\n",
      "                         processing. If 0 is provided, all available cores\n",
      "                         will be used.                            \u001b[35m[default: 1]\u001b[0m\n",
      "  \u001b[94m--p-n-reads-learn\u001b[0m INTEGER\n",
      "                         The number of reads to use when training the error\n",
      "                         model. Smaller numbers will result in a shorter run\n",
      "                         time but a less reliable error model.\n",
      "                                                            \u001b[35m[default: 1000000]\u001b[0m\n",
      "  \u001b[94m--p-hashed-feature-ids\u001b[0m / \u001b[94m--p-no-hashed-feature-ids\u001b[0m\n",
      "                         If true, the feature ids in the resulting table will\n",
      "                         be presented as hashes of the sequences defining each\n",
      "                         feature. The hash will always be the same for the\n",
      "                         same sequence so this allows feature tables to be\n",
      "                         merged across runs of this method. You should only\n",
      "                         merge tables if the exact same parameters are used\n",
      "                         for each run.                         \u001b[35m[default: True]\u001b[0m\n",
      "\u001b[1mOutputs\u001b[0m:\n",
      "  \u001b[94m\u001b[4m--o-table\u001b[0m ARTIFACT \u001b[32mFeatureTable[Frequency]\u001b[0m\n",
      "                         The resulting feature table.               \u001b[35m[required]\u001b[0m\n",
      "  \u001b[94m\u001b[4m--o-representative-sequences\u001b[0m ARTIFACT \u001b[32mFeatureData[Sequence]\u001b[0m\n",
      "                         The resulting feature sequences. Each feature in the\n",
      "                         feature table will be represented by exactly one\n",
      "                         sequence.                                  \u001b[35m[required]\u001b[0m\n",
      "  \u001b[94m\u001b[4m--o-denoising-stats\u001b[0m ARTIFACT \u001b[32mSampleData[DADA2Stats]\u001b[0m\n",
      "                                                                    \u001b[35m[required]\u001b[0m\n",
      "\u001b[1mMiscellaneous\u001b[0m:\n",
      "  \u001b[94m--output-dir\u001b[0m PATH      Output unspecified results to a directory\n",
      "  \u001b[94m--verbose\u001b[0m / \u001b[94m--quiet\u001b[0m    Display verbose output to stdout and/or stderr\n",
      "                         during execution of this action. Or silence output if\n",
      "                         execution is successful (silence is golden).\n",
      "  \u001b[94m--example-data\u001b[0m PATH    Write example data and exit.\n",
      "  \u001b[94m--citations\u001b[0m            Show citations and exit.\n",
      "  \u001b[94m--help\u001b[0m                 Show this message and exit.\n",
      "\n",
      "\u001b[1mExamples\u001b[0m:\n",
      "  # ### example: denoise single\n",
      "  qiime dada2 denoise-single \\\n",
      "    --i-demultiplexed-seqs demux-single.qza \\\n",
      "    --p-trim-left 0 \\\n",
      "    --p-trunc-len 120 \\\n",
      "    --o-representative-sequences representative-sequences.qza \\\n",
      "    --o-table table.qza \\\n",
      "    --o-denoising-stats denoising-stats.qza\n",
      "  \n"
     ]
    }
   ],
   "source": [
    "qiime dada2 denoise-single --help"
   ]
  },
  {
   "cell_type": "markdown",
   "id": "6ad4c936",
   "metadata": {
    "tags": []
   },
   "source": [
    "The mandatory parameters are the following:\n",
    "- **I**nputs:\n",
    "  - the demultiplexed sequences: `demux.qza`\n",
    "- **P**arameters:\n",
    "  - how many base pairs to keep: 120\n",
    "  - how many bases to trim on the 5' end (left): 0\n",
    "- **O**utputs:\n",
    "  - representative sequences: the clustered amplicons\n",
    "  - table: the table that says how many of **each bacteria** are in **each sample**\n",
    "  - denoising stats: stats for the nerds."
   ]
  },
  {
   "cell_type": "markdown",
   "id": "c575f103",
   "metadata": {},
   "source": [
    "Let's compose the command"
   ]
  },
  {
   "cell_type": "markdown",
   "id": "b3c47662-ac14-4f77-b4dc-7b0caf5cd71d",
   "metadata": {
    "tags": []
   },
   "source": [
    "Remember [demux.qzv](https://view.qiime2.org/visualization/?type=html&src=https%3A%2F%2Fdocs.qiime2.org%2F2023.2%2Fdata%2Ftutorials%2Fmoving-pictures%2Fdemux.qzv):\n",
    "- the left side of the sequences is OK: 0 bases to trim from the left.\n",
    "- the right side of the sequences become unreliable around 120 bp"
   ]
  },
  {
   "cell_type": "code",
   "execution_count": 13,
   "id": "f249c368",
   "metadata": {
    "tags": []
   },
   "outputs": [
    {
     "name": "stdout",
     "output_type": "stream",
     "text": [
      "\u001b[32mSaved FeatureTable[Frequency] to: table.qza\u001b[0m\n",
      "\u001b[32mSaved FeatureData[Sequence] to: rep-seqs.qza\u001b[0m\n",
      "\u001b[32mSaved SampleData[DADA2Stats] to: dada2-stats.qza\u001b[0m\n",
      "\u001b[0m\n"
     ]
    }
   ],
   "source": [
    "qiime dada2 denoise-single \\\n",
    "    --i-demultiplexed-seqs       demux.qza \\\n",
    "    --p-trim-left                0 \\\n",
    "    --p-trunc-len                120 \\\n",
    "    --o-representative-sequences rep-seqs.qza \\\n",
    "    --o-table                    table.qza   \\\n",
    "    --o-denoising-stats          dada2-stats.qza"
   ]
  },
  {
   "cell_type": "markdown",
   "id": "204baa6b",
   "metadata": {},
   "source": [
    "It takes 1-2 minutes."
   ]
  },
  {
   "cell_type": "markdown",
   "id": "85208b0e-bc06-4f60-ab25-22598cfd48b2",
   "metadata": {},
   "source": [
    "Let's inspect the thre files generated:\n",
    "- rep-seqs.qza\n",
    "- feature-table.qza\n",
    "- dada2-stats.qza"
   ]
  },
  {
   "cell_type": "markdown",
   "id": "abbf312a",
   "metadata": {},
   "source": [
    "And now let's see what is inside the `dada2-stats.qza`."
   ]
  },
  {
   "cell_type": "code",
   "execution_count": 14,
   "id": "3a45c9d3",
   "metadata": {
    "tags": []
   },
   "outputs": [
    {
     "name": "stdout",
     "output_type": "stream",
     "text": [
      "\u001b[32mSaved Visualization to: dada2-stats.qzv\u001b[0m\n",
      "\u001b[0m\n"
     ]
    }
   ],
   "source": [
    "qiime metadata tabulate \\\n",
    "    --m-input-file    dada2-stats.qza \\\n",
    "    --o-visualization dada2-stats.qzv"
   ]
  },
  {
   "cell_type": "markdown",
   "id": "74152bdc",
   "metadata": {},
   "source": [
    "We can visualize the qzv with [the qiime view web](https://view.qiime2.org/?src=https%3A%2F%2Fdocs.qiime2.org%2F2023.2%2Fdata%2Ftutorials%2Fmoving-pictures%2Fstats-dada2.qzv)"
   ]
  },
  {
   "cell_type": "markdown",
   "id": "98fdb914-9bd5-4d7e-9ae2-878acb0e4b35",
   "metadata": {},
   "source": [
    "### Exercise"
   ]
  },
  {
   "cell_type": "markdown",
   "id": "c2266326-066f-43b6-bd14-decc884f7c84",
   "metadata": {},
   "source": [
    "- Which sample has the most filtered sequences?"
   ]
  },
  {
   "cell_type": "markdown",
   "id": "524ff081-f50a-4ecc-8b95-8a1f5e08e8fd",
   "metadata": {},
   "source": [
    "L4S63 (10,096)"
   ]
  },
  {
   "cell_type": "markdown",
   "id": "745dff36-a127-420d-9495-afd346e0a5f9",
   "metadata": {},
   "source": [
    "- Which the least?"
   ]
  },
  {
   "cell_type": "markdown",
   "id": "243bca01-fab1-4941-a9d6-1ad6cb0811f4",
   "metadata": {},
   "source": [
    "L3S242 (970)"
   ]
  },
  {
   "cell_type": "markdown",
   "id": "1e7a27a2-2af8-4fc4-9db0-806e08240fd1",
   "metadata": {},
   "source": [
    "- Which sample suffered the most by filtering in percentages?"
   ]
  },
  {
   "cell_type": "markdown",
   "id": "59b11b5d-9088-494e-888b-2a2f94452f99",
   "metadata": {},
   "source": [
    "L2S357 (40.39% passed only)"
   ]
  },
  {
   "cell_type": "markdown",
   "id": "6afeb2c3-3ee0-4a93-8fcc-fff328061c51",
   "metadata": {},
   "source": [
    "- And the least in percentages?"
   ]
  },
  {
   "cell_type": "markdown",
   "id": "d3704177-7296-463c-aa0e-8414e5299502",
   "metadata": {},
   "source": [
    "L1S76 (83.11% high quality reads)"
   ]
  },
  {
   "cell_type": "markdown",
   "id": "85bccbf3",
   "metadata": {},
   "source": [
    "Finally, we can get the feature table (also called OTU table), which contains what samples contains how many copies of each bacteria"
   ]
  },
  {
   "cell_type": "code",
   "execution_count": 15,
   "id": "65bd6ace",
   "metadata": {},
   "outputs": [
    {
     "name": "stdout",
     "output_type": "stream",
     "text": [
      "\u001b[32mSaved Visualization to: table.qzv\u001b[0m\n",
      "\u001b[0m\n"
     ]
    }
   ],
   "source": [
    "qiime feature-table summarize \\\n",
    "    --i-table                table.qza \\\n",
    "    --m-sample-metadata-file sample-metadata.tsv \\\n",
    "    --o-visualization        table.qzv"
   ]
  },
  {
   "cell_type": "markdown",
   "id": "1509cd30-2bae-4239-8a79-42b1a716c75e",
   "metadata": {},
   "source": [
    "- [table.qzv](https://view.qiime2.org/?src=https%3A%2F%2Fdocs.qiime2.org%2F2023.2%2Fdata%2Ftutorials%2Fmoving-pictures%2Ftable.qzv)"
   ]
  },
  {
   "cell_type": "markdown",
   "id": "af0bf72d-72f3-4978-b940-b3668da6acb7",
   "metadata": {},
   "source": [
    "### Exercise"
   ]
  },
  {
   "cell_type": "markdown",
   "id": "11a28076-a983-4b3f-98c5-87cdfd877b2d",
   "metadata": {},
   "source": [
    "- How many samples are in the table?"
   ]
  },
  {
   "cell_type": "markdown",
   "id": "ba3fa6dd-6a99-4330-91c8-10b151367968",
   "metadata": {},
   "source": [
    "34"
   ]
  },
  {
   "cell_type": "markdown",
   "id": "7904f669-4759-4c78-8a76-7b7f566053e0",
   "metadata": {},
   "source": [
    "- And how many features (OTU/ASVs)?"
   ]
  },
  {
   "cell_type": "markdown",
   "id": "a1cbb3c2-4b4b-49cb-b604-c7885c940d5f",
   "metadata": {},
   "source": [
    "770"
   ]
  },
  {
   "cell_type": "markdown",
   "id": "642b9702-c4bb-47b5-96f2-6b33b6f2ff01",
   "metadata": {},
   "source": [
    "- And how many reads in total?"
   ]
  },
  {
   "cell_type": "markdown",
   "id": "6b582b81-f366-4724-b387-3959641ee218",
   "metadata": {},
   "source": [
    "153,807"
   ]
  },
  {
   "cell_type": "markdown",
   "id": "20a739c9-3692-490f-901e-6a448efef900",
   "metadata": {},
   "source": [
    "- How many reads has the smallest sample?"
   ]
  },
  {
   "cell_type": "markdown",
   "id": "6d2447ae-0a60-450b-acae-0d8498450932",
   "metadata": {},
   "source": [
    "897 (L3S242)"
   ]
  },
  {
   "cell_type": "markdown",
   "id": "5df9e466-2b07-48dd-922c-bd6d5d8d3e42",
   "metadata": {},
   "source": [
    "- And the biggest one?"
   ]
  },
  {
   "cell_type": "markdown",
   "id": "cf4aa940-0ce7-4e84-9857-de55964832e8",
   "metadata": {},
   "source": [
    "9,820 (L4S137)"
   ]
  },
  {
   "cell_type": "markdown",
   "id": "b2532246-0f67-4fd3-822e-31114e1fcf51",
   "metadata": {
    "tags": []
   },
   "source": [
    "- How many samples have more than 2,000 reads?"
   ]
  },
  {
   "cell_type": "markdown",
   "id": "0d386f28-d291-4c9b-b66c-cb9cb2b5d650",
   "metadata": {},
   "source": [
    "24"
   ]
  },
  {
   "cell_type": "markdown",
   "id": "1a8345ac-0f85-454a-8a64-10d24580fd95",
   "metadata": {},
   "source": [
    "- How many samples have more than 9,000 reads?"
   ]
  },
  {
   "cell_type": "markdown",
   "id": "81e012d0-a523-4169-9e68-901736b28afe",
   "metadata": {},
   "source": [
    "2"
   ]
  },
  {
   "cell_type": "markdown",
   "id": "aaf5ce71-1b9c-40a1-873b-357c707fcceb",
   "metadata": {},
   "source": [
    "- How many reads has the most frequent OTU?"
   ]
  },
  {
   "cell_type": "markdown",
   "id": "89a3d4d1-eac2-46dd-96ab-aef4a7df184e",
   "metadata": {},
   "source": [
    "11,373"
   ]
  },
  {
   "cell_type": "markdown",
   "id": "7ba90deb-51ab-4136-b571-d0e1d5b93ee1",
   "metadata": {},
   "source": [
    "- And in how many samples does it appear?"
   ]
  },
  {
   "cell_type": "markdown",
   "id": "15ad0b86-770d-4077-a0d0-50081e559d59",
   "metadata": {},
   "source": [
    "13"
   ]
  },
  {
   "cell_type": "markdown",
   "id": "a47bfe41",
   "metadata": {},
   "source": [
    "And also the one that contains the relationship between each OTU and the sequence"
   ]
  },
  {
   "cell_type": "code",
   "execution_count": 16,
   "id": "7eb64fce",
   "metadata": {
    "tags": []
   },
   "outputs": [
    {
     "name": "stdout",
     "output_type": "stream",
     "text": [
      "\u001b[32mSaved Visualization to: rep-seqs.qzv\u001b[0m\n",
      "\u001b[0m\n"
     ]
    }
   ],
   "source": [
    "qiime feature-table tabulate-seqs \\\n",
    "  --i-data          rep-seqs.qza \\\n",
    "  --o-visualization rep-seqs.qzv"
   ]
  },
  {
   "cell_type": "markdown",
   "id": "a0731ff5",
   "metadata": {},
   "source": [
    "- [rep-seqs.qzv](https://view.qiime2.org/?src=https%3A%2F%2Fdocs.qiime2.org%2F2023.2%2Fdata%2Ftutorials%2Fmoving-pictures%2Frep-seqs.qzv)"
   ]
  },
  {
   "cell_type": "markdown",
   "id": "4c5648da-03b0-4751-bbca-da2ae77d3e31",
   "metadata": {
    "tags": []
   },
   "source": [
    "### Exercise"
   ]
  },
  {
   "cell_type": "markdown",
   "id": "c864f164-ca13-4cc0-849a-a85323e8767a",
   "metadata": {
    "tags": []
   },
   "source": [
    "- How many OTUs / ASVs are there?"
   ]
  },
  {
   "cell_type": "markdown",
   "id": "1e3c1dc8-6eec-4949-a0ea-97a8039b9501",
   "metadata": {},
   "source": [
    "770"
   ]
  },
  {
   "cell_type": "markdown",
   "id": "3cbaab26-a032-4cf5-840a-eb1893f4bd9a",
   "metadata": {},
   "source": [
    "- How long are the shortest and the longest?"
   ]
  },
  {
   "cell_type": "markdown",
   "id": "f1e1553e-14fb-4a07-88e2-c6b283f08ba3",
   "metadata": {},
   "source": [
    "120, all of them are 120 nucleotides long"
   ]
  },
  {
   "cell_type": "markdown",
   "id": "0960eb59-5f8b-4e63-87ca-c7b1544ee0e7",
   "metadata": {},
   "source": [
    "- Why are they the same length?"
   ]
  },
  {
   "cell_type": "markdown",
   "id": "2a36b4bc-bbcc-4aad-96d8-26de24391b8c",
   "metadata": {},
   "source": [
    "Quality was high from the beginning. In the DADA2 step we only asked it to cut all reads to 120 nucleotides. Also, we are performing Single-End sequencing of a region of the 16S rRNA gene. We are only sequencing 120 nucleotides from the 16S V4 region, which is approximately 250 bp long, so we are only seeing the 5' end."
   ]
  },
  {
   "cell_type": "markdown",
   "id": "b740c167-1788-496f-aee8-1addc813ee52",
   "metadata": {},
   "source": [
    "- What sequence has the ASV with name 535696cecf56f03d3401d7d6dbe66d7b?"
   ]
  },
  {
   "cell_type": "markdown",
   "id": "38d4056a-7665-46cd-aec0-d4ca46728608",
   "metadata": {},
   "source": [
    "TACGTATGGTGCAAGCGTTATCCGGATTTACTGGGTGTAAAGGGAGCGCAGGCGGTGCGGCAAGTCTGATGTGAAAGCCCGGGGCTCAACCCCGGTACTGCATTGGAAACTGTCGTACTA"
   ]
  },
  {
   "cell_type": "markdown",
   "id": "4c229510-f3b5-4f0c-a460-49c1487b9dfb",
   "metadata": {},
   "source": [
    "- Click on that sequence. You will perform a BLAST search against the Non-Redundant (NR) sequence database from NCBI. Which species is this OTU? (Will take a while to compute this, keep going with the tutorial)."
   ]
  },
  {
   "cell_type": "markdown",
   "id": "d88b8243-df7f-4c15-a355-a2137b34a9c9",
   "metadata": {},
   "source": [
    "Blast reports multiple 100% identity hits to-\n",
    "- MT574963.1 \tUncultured bacterium clone lLachnora2caRouraqfac 16S ribosomal RNA gene, partial sequence\n",
    "- MT445121.1 \tUncultured bacterium clone OTU_78 16S ribosomal RNA gene, partial sequence\n",
    "- LC515618.1 \tRoseburia faecis V035 gene for 16S ribosomal RNA, partial sequence\n",
    "- MW398076.1 \t[Eubacterium] rectale strain PC413 16S ribosomal RNA gene, partial sequence "
   ]
  },
  {
   "cell_type": "markdown",
   "id": "4a189c1d-4465-4969-8bd1-24a501fd9bcc",
   "metadata": {
    "tags": []
   },
   "source": [
    "# Summary\n",
    "We have:\n",
    "- Imported an experiment with `qiime import`\n",
    "- Separated the experiment into samples with `qiime demux`\n",
    "- Corrected errors with `qiime dada2`\n",
    "- Visualized results on [view.qiime2.org](https://view.qiime2.org)"
   ]
  },
  {
   "cell_type": "markdown",
   "id": "3fc0c5d2-2ac0-4142-9f39-9c133ccb7e13",
   "metadata": {},
   "source": [
    "## End of notebook"
   ]
  },
  {
   "cell_type": "markdown",
   "id": "f48e5f08-0b4e-44ee-ab26-a4f3466dfb59",
   "metadata": {},
   "source": [
    "Run the next cell to pause the server, so you don't get kicked out for inactivity\n"
   ]
  },
  {
   "cell_type": "code",
   "execution_count": null,
   "id": "b744a1c4",
   "metadata": {
    "tags": []
   },
   "outputs": [],
   "source": [
    "pause"
   ]
  }
 ],
 "metadata": {
  "kernelspec": {
   "display_name": "Bash",
   "language": "bash",
   "name": "bash"
  },
  "language_info": {
   "codemirror_mode": "shell",
   "file_extension": ".sh",
   "mimetype": "text/x-sh",
   "name": "bash"
  }
 },
 "nbformat": 4,
 "nbformat_minor": 5
}
