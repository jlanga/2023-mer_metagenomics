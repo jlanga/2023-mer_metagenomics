{
 "cells": [
  {
   "cell_type": "markdown",
   "id": "da14e24e-c37e-4415-88f5-0ab442018b97",
   "metadata": {},
   "source": [
    "Unpause the last notebook"
   ]
  },
  {
   "cell_type": "markdown",
   "id": "1b243bc4",
   "metadata": {},
   "source": [
    "# 6 Composition with ANCOM"
   ]
  },
  {
   "cell_type": "markdown",
   "id": "f57eead4-c8e4-4cdb-a3d3-30630c14cac0",
   "metadata": {
    "tags": []
   },
   "source": [
    "## 6.1 ANCOM by ASV"
   ]
  },
  {
   "cell_type": "markdown",
   "id": "48619a88-799b-4e99-ac1d-38a7f5132aeb",
   "metadata": {
    "tags": []
   },
   "source": [
    "Beta-diversities are OK to plot our samples in space, but if we want to really see if two groups are really different we need to do more statistical tests."
   ]
  },
  {
   "cell_type": "markdown",
   "id": "17830417-f4b9-4f4f-b46f-0a61c8adc6ca",
   "metadata": {},
   "source": [
    "To look for these statistical differences we are going to use ANCOM"
   ]
  },
  {
   "cell_type": "markdown",
   "id": "1ca2931e-b9b6-4cef-8bf8-a7702d428b37",
   "metadata": {},
   "source": [
    "For example, we want to know:\n",
    "- which ASVs are the most different in *gut* between the two *subjects*"
   ]
  },
  {
   "cell_type": "markdown",
   "id": "c141cd8a-5fcb-4262-98d1-37a8665018c3",
   "metadata": {
    "tags": []
   },
   "source": [
    "This procedure works in multiple steps:\n",
    "1. Filter the OTU table so you only have the **gut** samples\n",
    "2. Apply a small correction to the values of the OTU table\n",
    "3. Run ANCOM over the two **subjects**"
   ]
  },
  {
   "cell_type": "markdown",
   "id": "7e65e221-89b9-418a-ad6d-63737cc74c3f",
   "metadata": {},
   "source": [
    "Let's filter the OTU table so there are only gut samples"
   ]
  },
  {
   "cell_type": "code",
   "execution_count": 1,
   "id": "3faad6a9",
   "metadata": {
    "tags": []
   },
   "outputs": [
    {
     "name": "stdout",
     "output_type": "stream",
     "text": [
      "\u001b[32mSaved FeatureTable[Frequency] to: gut-table.qza\u001b[0m\n",
      "\u001b[0m\n"
     ]
    }
   ],
   "source": [
    "qiime feature-table filter-samples \\\n",
    "    --i-table          table.qza \\\n",
    "    --m-metadata-file  sample-metadata.tsv \\\n",
    "    --p-where          \"[body-site]='gut'\" \\\n",
    "    --o-filtered-table gut-table.qza"
   ]
  },
  {
   "cell_type": "markdown",
   "id": "eea13eb3",
   "metadata": {},
   "source": [
    "Then, fix the table with pseudo-counts, becasue ANCOM cannot work with zeros in the table."
   ]
  },
  {
   "cell_type": "code",
   "execution_count": 2,
   "id": "6653d238",
   "metadata": {
    "tags": []
   },
   "outputs": [
    {
     "name": "stdout",
     "output_type": "stream",
     "text": [
      "\u001b[32mSaved FeatureTable[Composition] to: comp-gut-table.qza\u001b[0m\n",
      "\u001b[0m\n"
     ]
    }
   ],
   "source": [
    "qiime composition add-pseudocount \\\n",
    "    --i-table             gut-table.qza \\\n",
    "    --o-composition-table comp-gut-table.qza"
   ]
  },
  {
   "cell_type": "markdown",
   "id": "d34dcd1a",
   "metadata": {},
   "source": [
    "Finally, run ANCOM, specifying that we want the analyses between each `subject`"
   ]
  },
  {
   "cell_type": "code",
   "execution_count": 3,
   "id": "7eb45360",
   "metadata": {
    "tags": []
   },
   "outputs": [
    {
     "name": "stdout",
     "output_type": "stream",
     "text": [
      "\u001b[32mSaved Visualization to: ancom-subject.qzv\u001b[0m\n",
      "\u001b[0m\n"
     ]
    }
   ],
   "source": [
    "qiime composition ancom \\\n",
    "    --i-table           comp-gut-table.qza \\\n",
    "    --m-metadata-file   sample-metadata.tsv \\\n",
    "    --m-metadata-column subject \\\n",
    "    --o-visualization   ancom-subject.qzv"
   ]
  },
  {
   "cell_type": "markdown",
   "id": "d679aa9b",
   "metadata": {},
   "source": [
    "- [ancom-subject.qzv](https://view.qiime2.org/?src=https%3A%2F%2Fdocs.qiime2.org%2F2023.2%2Fdata%2Ftutorials%2Fmoving-pictures%2Fancom-subject.qzv)"
   ]
  },
  {
   "cell_type": "markdown",
   "id": "11970df8-9c1b-434c-9bb1-dfcb586ad6d1",
   "metadata": {},
   "source": [
    "### Exercise"
   ]
  },
  {
   "cell_type": "markdown",
   "id": "5029f358-1679-472c-aaac-672d77454f51",
   "metadata": {
    "tags": []
   },
   "source": [
    "- Which ASVs are the most different between the two subjects in the gut?"
   ]
  },
  {
   "cell_type": "markdown",
   "id": "065c921e-7e62-4c62-a73f-77b964d50893",
   "metadata": {
    "tags": []
   },
   "source": [
    "- `868528ca947bc57b69ffdf83e6b73bae`, it has a clr of -7.1\n",
    "- `4b5eeb300368260019c1fbc7a3c718fc`, it has a clr of 8.16 "
   ]
  },
  {
   "cell_type": "markdown",
   "id": "cccfb77d-8463-4cde-b7c8-ddde632dba88",
   "metadata": {
    "tags": []
   },
   "source": [
    "- What are the taxonomies of these ASVs? (Pssst: the taxonomy table is [here](https://view.qiime2.org/visualization/?type=html&src=https%3A%2F%2Fdocs.qiime2.org%2F2023.2%2Fdata%2Ftutorials%2Fmoving-pictures%2Ftaxonomy.qzv)"
   ]
  },
  {
   "cell_type": "markdown",
   "id": "cd2b65b9-9854-4759-b747-fd962aaec1a2",
   "metadata": {
    "tags": []
   },
   "source": [
    "Both ASVs have the exact same taxonomy: `k__Bacteria; p__Bacteroidetes; c__Bacteroidia; o__Bacteroidales; f__Bacteroidaceae; g__Bacteroides; s_`\n",
    "\n",
    "Both are the same genus. DADA2 has proof that both ASVs are different. Also, the taxonomic classifier failed to provide a species name, probably because they do not have a name (yet).\n",
    "\n",
    "It is very likely that both subjects have two different species of the Bacteroides genus."
   ]
  },
  {
   "cell_type": "markdown",
   "id": "acbf2fe0-60db-4ce6-b9b1-bb13323f84e1",
   "metadata": {},
   "source": [
    "## 6.2 ANCOM by taxa"
   ]
  },
  {
   "cell_type": "markdown",
   "id": "0c6dd018-aef7-49a5-8d38-7e938ad3d220",
   "metadata": {},
   "source": [
    "Instead of finding the most characteristic ASV of each group, we are really interesed in which taxonomic group (kingdom, order, phylum) is most different between samples."
   ]
  },
  {
   "cell_type": "markdown",
   "id": "24a82c03-ffc8-4ca0-a41c-2252d5364752",
   "metadata": {
    "tags": []
   },
   "source": [
    "In this case, the procedure is simmilar, with an extra step:\n",
    "1. Filter the body site (already done: gut-table.qza)\n",
    "2. Collapse by taxon level\n",
    "3. Apply correction\n",
    "4. Run ANCOM"
   ]
  },
  {
   "cell_type": "code",
   "execution_count": 4,
   "id": "3a07e936-3a98-4e94-a7ba-8c4f93921ace",
   "metadata": {
    "tags": []
   },
   "outputs": [],
   "source": [
    "# This is already done\n",
    "# qiime feature-table filter-samples \\\n",
    "#    --i-table          table.qza \\\n",
    "#    --m-metadata-file  sample-metadata.tsv \\\n",
    "#    --p-where          \"[body-site]='gut'\" \\\n",
    "#    --o-filtered-table gut-table.qza"
   ]
  },
  {
   "cell_type": "markdown",
   "id": "49b0ee5a-29b7-435e-82cc-017bc1f3abe3",
   "metadata": {},
   "source": [
    "In this case, we will need the taxonomy.qza we generated in the previous notebook.\n",
    "\n",
    "We are collapsing ASVs to the 6th level (genus)."
   ]
  },
  {
   "cell_type": "code",
   "execution_count": 5,
   "id": "e0081362-6ac1-4a8c-ae40-db97d4eeb665",
   "metadata": {
    "tags": []
   },
   "outputs": [
    {
     "name": "stdout",
     "output_type": "stream",
     "text": [
      "\u001b[32mSaved FeatureTable[Frequency] to: gut-table-l6.qza\u001b[0m\n",
      "\u001b[0m\n"
     ]
    }
   ],
   "source": [
    "qiime taxa collapse \\\n",
    "  --i-table           gut-table.qza \\\n",
    "  --i-taxonomy        taxonomy.qza \\\n",
    "  --p-level           6 \\\n",
    "  --o-collapsed-table gut-table-l6.qza"
   ]
  },
  {
   "cell_type": "markdown",
   "id": "3d3b7aa6-a03a-4c9e-99ad-bf875623f2da",
   "metadata": {},
   "source": [
    "Add pseudocounts"
   ]
  },
  {
   "cell_type": "code",
   "execution_count": 6,
   "id": "222f157c-8d44-42fc-aad8-d145bba1ff67",
   "metadata": {
    "tags": []
   },
   "outputs": [
    {
     "name": "stdout",
     "output_type": "stream",
     "text": [
      "\u001b[32mSaved FeatureTable[Composition] to: comp-gut-table-l6.qza\u001b[0m\n",
      "\u001b[0m\n"
     ]
    }
   ],
   "source": [
    "qiime composition add-pseudocount \\\n",
    "  --i-table             gut-table-l6.qza \\\n",
    "  --o-composition-table comp-gut-table-l6.qza"
   ]
  },
  {
   "cell_type": "markdown",
   "id": "0cbf1667-4aa8-46b9-89e5-cb84021c580c",
   "metadata": {},
   "source": [
    "And finally, run ANCOM:"
   ]
  },
  {
   "cell_type": "code",
   "execution_count": 7,
   "id": "788b70d0-5c77-4dd8-b0fc-6523f3cbac1d",
   "metadata": {
    "tags": []
   },
   "outputs": [
    {
     "name": "stdout",
     "output_type": "stream",
     "text": [
      "\u001b[32mSaved Visualization to: l6-ancom-subject.qzv\u001b[0m\n",
      "\u001b[0m\n"
     ]
    }
   ],
   "source": [
    "qiime composition ancom \\\n",
    "  --i-table           comp-gut-table-l6.qza \\\n",
    "  --m-metadata-file   sample-metadata.tsv \\\n",
    "  --m-metadata-column subject \\\n",
    "  --o-visualization   l6-ancom-subject.qzv"
   ]
  },
  {
   "cell_type": "markdown",
   "id": "49da97c7-0635-4bf9-83aa-c743494cd882",
   "metadata": {
    "tags": []
   },
   "source": [
    "- [l6-ancom-subject.qzv](https://view.qiime2.org/?src=https%3A%2F%2Fdocs.qiime2.org%2F2023.2%2Fdata%2Ftutorials%2Fmoving-pictures%2Fl6-ancom-subject.qzv)"
   ]
  },
  {
   "cell_type": "markdown",
   "id": "ca248fa3-c600-42aa-9dff-51d109ee473c",
   "metadata": {
    "tags": []
   },
   "source": [
    "### Exercise"
   ]
  },
  {
   "cell_type": "markdown",
   "id": "af9251c5-3e69-4360-a370-06a38fe5a14e",
   "metadata": {},
   "source": [
    "- What genera are differentially abundant between the two samples?"
   ]
  },
  {
   "cell_type": "markdown",
   "id": "c0904893-82e5-414b-a459-419de439f609",
   "metadata": {},
   "source": [
    "This time only one: `k__Bacteria;p__Bacteroidetes;c__Bacteroidia;o__Bacteroidales;f__Porphyromonadaceae;g__Parabacteroides`. It has a CLR of 5.11."
   ]
  },
  {
   "cell_type": "markdown",
   "id": "4376a30c-b3e4-4bbb-8f3a-e39ced2bb032",
   "metadata": {},
   "source": [
    "- What happens if instead of comparing by subject at level 6, we repeat the analyses by `reported-antibiotic-usage` at level 3?"
   ]
  },
  {
   "cell_type": "code",
   "execution_count": 8,
   "id": "17ddae7b-20c5-4423-8d5b-7bb47480571d",
   "metadata": {
    "tags": []
   },
   "outputs": [
    {
     "name": "stdout",
     "output_type": "stream",
     "text": [
      "\u001b[32mSaved FeatureTable[Frequency] to: gut-table-l3.qza\u001b[0m\n",
      "\u001b[0m\n"
     ]
    }
   ],
   "source": [
    "qiime taxa collapse \\\n",
    "  --i-table           gut-table.qza \\\n",
    "  --i-taxonomy        taxonomy.qza \\\n",
    "  --p-level           3 \\\n",
    "  --o-collapsed-table gut-table-l3.qza"
   ]
  },
  {
   "cell_type": "code",
   "execution_count": 9,
   "id": "bf316dc6-6876-474a-a60a-7479f1e611ba",
   "metadata": {
    "tags": []
   },
   "outputs": [
    {
     "name": "stdout",
     "output_type": "stream",
     "text": [
      "\u001b[32mSaved FeatureTable[Composition] to: comp-gut-table-l3.qza\u001b[0m\n",
      "\u001b[0m\n"
     ]
    }
   ],
   "source": [
    "qiime composition add-pseudocount \\\n",
    "  --i-table             gut-table-l3.qza \\\n",
    "  --o-composition-table comp-gut-table-l3.qza"
   ]
  },
  {
   "cell_type": "code",
   "execution_count": 10,
   "id": "1186be8d-a16b-482f-bc98-5eb5f59b5147",
   "metadata": {
    "tags": []
   },
   "outputs": [
    {
     "name": "stdout",
     "output_type": "stream",
     "text": [
      "\u001b[32mSaved Visualization to: l3-ancom-antibiotic.qzv\u001b[0m\n",
      "\u001b[0m\n"
     ]
    }
   ],
   "source": [
    "qiime composition ancom \\\n",
    "  --i-table           comp-gut-table-l3.qza \\\n",
    "  --m-metadata-file   sample-metadata.tsv \\\n",
    "  --m-metadata-column reported-antibiotic-usage \\\n",
    "  --o-visualization   l3-ancom-antibiotic.qzv"
   ]
  },
  {
   "cell_type": "markdown",
   "id": "fb052c04-318f-44c5-84fe-5e5d11dbe54d",
   "metadata": {},
   "source": [
    "This time, there is only one single overrepresented class (level 3): `k__Bacteria;p__Firmicutes;c__Erysipelotrichi`\n",
    "\n",
    "It has a CLR of 3.34. According to the bottom table. It went from having 13 to 73 reads per sample with no antibiotics to just 1 in all samples.\n",
    "\n",
    "Since the `add-pseudocount` what only does is fill with ones all those ASVs that should be a 0, we can totally say that this genus was present in samples without antibiotics, and completely wiped out when applying them."
   ]
  }
 ],
 "metadata": {
  "kernelspec": {
   "display_name": "Bash",
   "language": "bash",
   "name": "bash"
  },
  "language_info": {
   "codemirror_mode": "shell",
   "file_extension": ".sh",
   "mimetype": "text/x-sh",
   "name": "bash"
  }
 },
 "nbformat": 4,
 "nbformat_minor": 5
}
