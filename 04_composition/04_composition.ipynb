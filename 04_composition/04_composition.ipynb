{
 "cells": [
  {
   "cell_type": "markdown",
   "id": "1b243bc4",
   "metadata": {},
   "source": [
    "# 6 Composition with ANCOM"
   ]
  },
  {
   "cell_type": "markdown",
   "id": "9db7ef5b",
   "metadata": {},
   "source": [
    "We can be interested in seeing if there are differences in the composition of the communities in different body sizes, for example. To do so, we can use ANCOM."
   ]
  },
  {
   "cell_type": "markdown",
   "id": "95de018f",
   "metadata": {},
   "source": [
    "The procedure is as follows:\n",
    "- Filter the tables according to the region of interest, in this case that body-site has to be the gut"
   ]
  },
  {
   "cell_type": "code",
   "execution_count": 1,
   "id": "f3ba0928",
   "metadata": {},
   "outputs": [
    {
     "name": "stdout",
     "output_type": "stream",
     "text": [
      "(qiime2-2023.2) \n"
     ]
    },
    {
     "ename": "",
     "evalue": "1",
     "output_type": "error",
     "traceback": []
    }
   ],
   "source": [
    "conda activate qiime2-2023.2"
   ]
  },
  {
   "cell_type": "code",
   "execution_count": 3,
   "id": "3faad6a9",
   "metadata": {
    "tags": []
   },
   "outputs": [
    {
     "name": "stdout",
     "output_type": "stream",
     "text": [
      "\u001b[32mSaved FeatureTable[Frequency] to: gut-table.qza\u001b[0m\n",
      "\u001b[0m(qiime2-2023.2) \n"
     ]
    },
    {
     "ename": "",
     "evalue": "1",
     "output_type": "error",
     "traceback": []
    }
   ],
   "source": [
    "qiime feature-table filter-samples \\\n",
    "    --i-table          table.qza \\\n",
    "    --m-metadata-file  sample-metadata.tsv \\\n",
    "    --p-where          \"[body-site]='gut'\" \\\n",
    "    --o-filtered-table gut-table.qza"
   ]
  },
  {
   "cell_type": "markdown",
   "id": "eea13eb3",
   "metadata": {},
   "source": [
    "Then, fix the table with pseudo-counts, becasue ANCOM cannot work with zeros in the table."
   ]
  },
  {
   "cell_type": "code",
   "execution_count": 4,
   "id": "6653d238",
   "metadata": {
    "tags": []
   },
   "outputs": [
    {
     "name": "stdout",
     "output_type": "stream",
     "text": [
      "\u001b[32mSaved FeatureTable[Composition] to: comp-gut-table.qza\u001b[0m\n",
      "\u001b[0m(qiime2-2023.2) \n"
     ]
    },
    {
     "ename": "",
     "evalue": "1",
     "output_type": "error",
     "traceback": []
    }
   ],
   "source": [
    "qiime composition add-pseudocount \\\n",
    "    --i-table             gut-table.qza \\\n",
    "    --o-composition-table comp-gut-table.qza"
   ]
  },
  {
   "cell_type": "markdown",
   "id": "d34dcd1a",
   "metadata": {},
   "source": [
    "Finally, run ANCOM"
   ]
  },
  {
   "cell_type": "code",
   "execution_count": 5,
   "id": "7eb45360",
   "metadata": {
    "tags": []
   },
   "outputs": [
    {
     "name": "stdout",
     "output_type": "stream",
     "text": [
      "\u001b[32mSaved Visualization to: ancom-subject.qzv\u001b[0m\n",
      "\u001b[0m(qiime2-2023.2) \n"
     ]
    },
    {
     "ename": "",
     "evalue": "1",
     "output_type": "error",
     "traceback": []
    }
   ],
   "source": [
    "qiime composition ancom \\\n",
    "    --i-table           comp-gut-table.qza \\\n",
    "    --m-metadata-file   sample-metadata.tsv \\\n",
    "    --m-metadata-column subject \\\n",
    "    --o-visualization   ancom-subject.qzv"
   ]
  },
  {
   "cell_type": "markdown",
   "id": "d679aa9b",
   "metadata": {},
   "source": [
    "- [ancom-subject.qzv](https://view.qiime2.org/?src=https%3A%2F%2Fdocs.qiime2.org%2F2023.2%2Fdata%2Ftutorials%2Fmoving-pictures%2Fancom-subject.qzv)"
   ]
  }
 ],
 "metadata": {
  "kernelspec": {
   "display_name": "Bash",
   "language": "bash",
   "name": "bash"
  },
  "language_info": {
   "codemirror_mode": "shell",
   "file_extension": ".sh",
   "mimetype": "text/x-sh",
   "name": "bash"
  }
 },
 "nbformat": 4,
 "nbformat_minor": 5
}
