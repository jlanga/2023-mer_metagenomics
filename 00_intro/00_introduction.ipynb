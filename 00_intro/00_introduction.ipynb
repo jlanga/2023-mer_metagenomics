{
 "cells": [
  {
   "cell_type": "markdown",
   "id": "002ae899-edc4-4760-9783-93803d56e317",
   "metadata": {},
   "source": [
    "# Introductory notebook"
   ]
  },
  {
   "cell_type": "markdown",
   "id": "972d21c7-c943-4f46-b1fa-b3367d6197be",
   "metadata": {},
   "source": [
    "## Blocks"
   ]
  },
  {
   "cell_type": "code",
   "execution_count": null,
   "id": "798c392b-d5e2-456c-942f-2d0602aa4d21",
   "metadata": {
    "tags": []
   },
   "outputs": [],
   "source": [
    "This is a code block"
   ]
  },
  {
   "cell_type": "markdown",
   "id": "3cc3ba13-5989-4c45-b6ad-4cdf81ac676a",
   "metadata": {},
   "source": [
    "This is a Markdown block"
   ]
  },
  {
   "cell_type": "raw",
   "id": "188bb040-6809-47ba-a5da-64e8129ece50",
   "metadata": {},
   "source": [
    "This is a raw text block"
   ]
  },
  {
   "cell_type": "markdown",
   "id": "23bcf10d-a32f-4636-9873-6799813d409c",
   "metadata": {
    "jp-MarkdownHeadingCollapsed": true,
    "tags": []
   },
   "source": [
    "## Select a block"
   ]
  },
  {
   "cell_type": "markdown",
   "id": "ed97c275-b02a-42ea-9e9a-1e981c239ee8",
   "metadata": {},
   "source": [
    "## Adding blocks\n",
    "\n",
    "Click on the + button and a block will appear below your selected block"
   ]
  },
  {
   "cell_type": "markdown",
   "id": "874ca8c3-d40e-47b4-a087-0b0625f88021",
   "metadata": {
    "tags": []
   },
   "source": [
    "## Markdown basics\n",
    "\n",
    "# This is a heading one (h1) or title\n",
    "## This is an h2\n",
    "### This is an h3\n",
    "#### This is an h4\n",
    "##### This is an h5\n",
    "###### This is an h6\n",
    "####### There is no h7 :("
   ]
  },
  {
   "cell_type": "markdown",
   "id": "d6c0fe93-1065-4e62-b1e0-9bf9873f2399",
   "metadata": {
    "tags": []
   },
   "source": [
    "You can use _italics_, __boldface__, and ___italics boldface___"
   ]
  },
  {
   "cell_type": "markdown",
   "id": "8d226cf9-7163-46b4-b052-405e7e59adb0",
   "metadata": {},
   "source": [
    "## Lists\n",
    "You can create lists with a dash:\n",
    "- Item 1\n",
    "- Item 2\n",
    "- Item 3\n",
    "\n",
    "And also numbered lists:\n",
    "1. Item 1\n",
    "2. Item 2\n",
    "3. Item 3"
   ]
  },
  {
   "cell_type": "markdown",
   "id": "d0ec7897-45b0-484e-b085-03e4d02df50e",
   "metadata": {},
   "source": [
    "# Running bash code"
   ]
  },
  {
   "cell_type": "markdown",
   "id": "6ae676fb-ac9e-4256-906d-0a4f828da2a5",
   "metadata": {},
   "source": [
    "Type your command and either:\n",
    "- Press `Ctrl` and `Enter`, or\n",
    "- Click the Play button"
   ]
  },
  {
   "cell_type": "code",
   "execution_count": 1,
   "id": "eb72c7db-3cd2-4217-9da2-f49520da1e83",
   "metadata": {
    "tags": []
   },
   "outputs": [
    {
     "name": "stdout",
     "output_type": "stream",
     "text": [
      "Tue Mar 21 11:51:57 CET 2023\n"
     ]
    }
   ],
   "source": [
    "date"
   ]
  },
  {
   "cell_type": "code",
   "execution_count": 2,
   "id": "1a88693e-7427-4018-b78a-87232833e8ae",
   "metadata": {
    "tags": []
   },
   "outputs": [
    {
     "name": "stdout",
     "output_type": "stream",
     "text": [
      "Usage: \u001b[94mqiime\u001b[0m [OPTIONS] COMMAND [ARGS]...\n",
      "\n",
      "  QIIME 2 command-line interface (q2cli)\n",
      "  --------------------------------------\n",
      "\n",
      "  To get help with QIIME 2, visit https://qiime2.org.\n",
      "\n",
      "  To enable tab completion in Bash, run the following command or add it to\n",
      "  your .bashrc/.bash_profile:\n",
      "\n",
      "      source tab-qiime\n",
      "\n",
      "  To enable tab completion in ZSH, run the following commands or add them to\n",
      "  your .zshrc:\n",
      "\n",
      "      autoload -Uz compinit && compinit\n",
      "      autoload bashcompinit && bashcompinit\n",
      "      source tab-qiime\n",
      "\n",
      "\u001b[1mOptions\u001b[0m:\n",
      "  \u001b[94m--version\u001b[0m   Show the version and exit.\n",
      "  \u001b[94m--help\u001b[0m      Show this message and exit.\n",
      "\n",
      "\u001b[1mCommands\u001b[0m:\n",
      "  \u001b[94minfo\u001b[0m                Display information about current deployment.\n",
      "  \u001b[94mtools\u001b[0m               Tools for working with QIIME 2 files.\n",
      "  \u001b[94mdev\u001b[0m                 Utilities for developers and advanced users.\n",
      "  \u001b[94malignment\u001b[0m           Plugin for generating and manipulating alignments.\n",
      "  \u001b[94mcomposition\u001b[0m         Plugin for compositional data analysis.\n",
      "  \u001b[94mcutadapt\u001b[0m            Plugin for removing adapter sequences, primers, and\n",
      "                      other unwanted sequence from sequence data.\n",
      "  \u001b[94mdada2\u001b[0m               Plugin for sequence quality control with DADA2.\n",
      "  \u001b[94mdeblur\u001b[0m              Plugin for sequence quality control with Deblur.\n",
      "  \u001b[94mdemux\u001b[0m               Plugin for demultiplexing & viewing sequence quality.\n",
      "  \u001b[94mdiversity\u001b[0m           Plugin for exploring community diversity.\n",
      "  \u001b[94mdiversity-lib\u001b[0m       Plugin for computing community diversity.\n",
      "  \u001b[94memperor\u001b[0m             Plugin for ordination plotting with Emperor.\n",
      "  \u001b[94mfeature-classifier\u001b[0m  Plugin for taxonomic classification.\n",
      "  \u001b[94mfeature-table\u001b[0m       Plugin for working with sample by feature tables.\n",
      "  \u001b[94mfragment-insertion\u001b[0m  Plugin for extending phylogenies.\n",
      "  \u001b[94mgneiss\u001b[0m              Plugin for building compositional models.\n",
      "  \u001b[94mlongitudinal\u001b[0m        Plugin for paired sample and time series analyses.\n",
      "  \u001b[94mmetadata\u001b[0m            Plugin for working with Metadata.\n",
      "  \u001b[94mphylogeny\u001b[0m           Plugin for generating and manipulating phylogenies.\n",
      "  \u001b[94mquality-control\u001b[0m     Plugin for quality control of feature and sequence data.\n",
      "  \u001b[94mquality-filter\u001b[0m      Plugin for PHRED-based filtering and trimming.\n",
      "  \u001b[94msample-classifier\u001b[0m   Plugin for machine learning prediction of sample\n",
      "                      metadata.\n",
      "  \u001b[94mtaxa\u001b[0m                Plugin for working with feature taxonomy annotations.\n",
      "  \u001b[94mvsearch\u001b[0m             Plugin for clustering and dereplicating with vsearch.\n"
     ]
    }
   ],
   "source": [
    "qiime"
   ]
  },
  {
   "cell_type": "markdown",
   "id": "d6583764-743e-4d1b-bb65-0b6de746ee0e",
   "metadata": {},
   "source": [
    "## Stopping a command"
   ]
  },
  {
   "cell_type": "markdown",
   "id": "68cb89a6-7042-447a-be28-b452cf916a5d",
   "metadata": {
    "tags": []
   },
   "source": [
    "- On the top bar, click `Kernel` and press interrupt, or\n",
    "- Click the stop button"
   ]
  },
  {
   "cell_type": "code",
   "execution_count": 3,
   "id": "ce15546b-9e66-47ba-840f-b115e5e08544",
   "metadata": {
    "tags": []
   },
   "outputs": [
    {
     "name": "stdout",
     "output_type": "stream",
     "text": [
      "\n"
     ]
    }
   ],
   "source": [
    "sleep 60"
   ]
  },
  {
   "cell_type": "markdown",
   "id": "fecce443-3cd2-4083-9f8b-1b179ebab299",
   "metadata": {
    "tags": []
   },
   "source": [
    "## Stopping the entire notebook"
   ]
  },
  {
   "cell_type": "markdown",
   "id": "3f8fecac-557f-4634-be27-d73495a919f2",
   "metadata": {},
   "source": [
    "- On the top bar: `File` -> `Shut down`"
   ]
  },
  {
   "cell_type": "markdown",
   "id": "dc9cf231-f70f-4ccb-ad7c-58d628cb144a",
   "metadata": {},
   "source": [
    "## File managing"
   ]
  },
  {
   "cell_type": "markdown",
   "id": "a761a621-4e33-4424-a4ef-7fa839b7f366",
   "metadata": {},
   "source": [
    "If you create files and folders, they should appear in the left section (after a few seconds):"
   ]
  },
  {
   "cell_type": "code",
   "execution_count": null,
   "id": "e1a7b5e9-cacd-40bc-8ccd-5b7160b73752",
   "metadata": {
    "tags": []
   },
   "outputs": [],
   "source": [
    "mkdir my_folder\n",
    "touch test.txt"
   ]
  },
  {
   "cell_type": "markdown",
   "id": "4ea1f90a-46e0-43ac-b2d0-037af68121eb",
   "metadata": {},
   "source": [
    "## Downloading files "
   ]
  },
  {
   "cell_type": "markdown",
   "id": "a37406f3-05c9-47e2-927f-2c277b794898",
   "metadata": {
    "tags": []
   },
   "source": [
    "Right click on the file you want to download and select `Download`"
   ]
  },
  {
   "cell_type": "markdown",
   "id": "0ad1f515-5c7c-419f-8e45-9d88ca4255e7",
   "metadata": {},
   "source": [
    "## Uploading files"
   ]
  },
  {
   "cell_type": "markdown",
   "id": "e938c640-a7a5-4753-9348-364350cd3c7e",
   "metadata": {},
   "source": [
    "Two ways:\n",
    "- Click on the upload file\n",
    "- Just drag and drop your file"
   ]
  },
  {
   "cell_type": "markdown",
   "id": "e40016c5-7580-445b-b534-c6ef33fd473e",
   "metadata": {
    "tags": []
   },
   "source": [
    "## Working with your exercises\n",
    "These notebooks come with limitations:\n",
    "- 1 hour of running code\n",
    "- 6 hours max of an active notebook\n",
    "- 10 minutes of idle time"
   ]
  },
  {
   "cell_type": "markdown",
   "id": "0c0ab748-7c92-4baa-b32e-c72b036ef8be",
   "metadata": {},
   "source": [
    "The code in the tutorial and exercise should take less than 1h of CPU time."
   ]
  },
  {
   "cell_type": "markdown",
   "id": "0cecb978-c55d-40b7-8ce3-49dde56edebc",
   "metadata": {},
   "source": [
    "If you need more than six hours from start to finish, you can:\n",
    "- Download the notebook and generated files\n",
    "- Upload them again once you are ready to continue"
   ]
  },
  {
   "cell_type": "markdown",
   "id": "cba1175c-5532-4b49-96c8-39d5f95c0017",
   "metadata": {},
   "source": [
    "To prevent the 10 minutes of idle time, type `pause` in a code cell:"
   ]
  },
  {
   "cell_type": "code",
   "execution_count": null,
   "id": "a1f31093-457f-4c39-b464-f61b0560fd94",
   "metadata": {
    "tags": []
   },
   "outputs": [],
   "source": [
    "pause"
   ]
  },
  {
   "cell_type": "markdown",
   "id": "f51d0cb7-7bc5-4d2a-b71d-35bd929fd534",
   "metadata": {},
   "source": [
    "In the bottom bar it should say `Bash | Busy`"
   ]
  },
  {
   "cell_type": "markdown",
   "id": "823abdda-7b22-47f3-aa94-cb3d99352350",
   "metadata": {},
   "source": [
    "This way we cheat the system by telling it to wait until when we are ready"
   ]
  },
  {
   "cell_type": "markdown",
   "id": "4dde7931-50e4-4c18-a66b-5203b89a5a64",
   "metadata": {},
   "source": [
    "To resume working on the notebook, click the stop button on the top bar. Now it will say `Bash | Idle`"
   ]
  }
 ],
 "metadata": {
  "kernelspec": {
   "display_name": "Bash",
   "language": "bash",
   "name": "bash"
  },
  "language_info": {
   "codemirror_mode": "shell",
   "file_extension": ".sh",
   "mimetype": "text/x-sh",
   "name": "bash"
  }
 },
 "nbformat": 4,
 "nbformat_minor": 5
}
