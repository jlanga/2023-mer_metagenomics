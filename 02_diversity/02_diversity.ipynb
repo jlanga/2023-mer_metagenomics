{
 "cells": [
  {
   "cell_type": "markdown",
   "id": "621e72af",
   "metadata": {},
   "source": [
    "# 3. Diversity"
   ]
  },
  {
   "cell_type": "markdown",
   "id": "2e7b0a76-a1ed-45ae-8693-2941d5f84f63",
   "metadata": {
    "tags": []
   },
   "source": [
    "(Remember to unpause the previous notebook)"
   ]
  },
  {
   "cell_type": "markdown",
   "id": "0a83aa8b-376d-4634-962a-af0b68091819",
   "metadata": {},
   "source": [
    "So far, we have:\n",
    "- separated and cleaned our samples, and \n",
    "- determined which representative sequences are in our sample and how many"
   ]
  },
  {
   "cell_type": "markdown",
   "id": "00cb24e6-0d96-4a9f-bce4-2896f034016a",
   "metadata": {},
   "source": [
    "This notebook tries to figure out how diverse our samples are"
   ]
  },
  {
   "cell_type": "markdown",
   "id": "5647b935",
   "metadata": {},
   "source": [
    "<img src=\"../assets/img/qiime_map.svg\"  width=\"1200\" height=\"600\">"
   ]
  },
  {
   "cell_type": "markdown",
   "id": "dfbea5d3-ba68-4ef6-8227-6ef244b8950b",
   "metadata": {},
   "source": [
    "We start with three files from the previous notebook:\n",
    "- `sample-metadata.tsv`: experimental design data from our samples\n",
    "- `rep-seqs.qza`: the actual sequences of our OTU/ASVs\n",
    "- `table.qza`: the frequencies of each OTU and sample."
   ]
  },
  {
   "cell_type": "markdown",
   "id": "90efab28",
   "metadata": {},
   "source": [
    "## 4. Diversity analysis"
   ]
  },
  {
   "cell_type": "markdown",
   "id": "7211a847",
   "metadata": {},
   "source": [
    "We want to know:\n",
    "- the diversity of each sample (alpha diversity)\n",
    "- and how diverse are each pair of samples (beta diversity)"
   ]
  },
  {
   "cell_type": "markdown",
   "id": "13cae5b0",
   "metadata": {},
   "source": [
    "But before doing these analyses, we need to make all the sequences comparable."
   ]
  },
  {
   "cell_type": "markdown",
   "id": "f9f529aa",
   "metadata": {},
   "source": [
    "### 4.1 Alignment and tree construction"
   ]
  },
  {
   "cell_type": "markdown",
   "id": "1100c7ee",
   "metadata": {},
   "source": [
    "To do so we are going to:\n",
    "- align all the sequences\n",
    "- compute their phylogenetic tree"
   ]
  },
  {
   "cell_type": "markdown",
   "id": "ef654858",
   "metadata": {},
   "source": [
    "Thankfully, we can do it in one go with `qiime phylogeny`"
   ]
  },
  {
   "cell_type": "code",
   "execution_count": 1,
   "id": "226f459e",
   "metadata": {
    "tags": []
   },
   "outputs": [
    {
     "name": "stdout",
     "output_type": "stream",
     "text": [
      "Usage: \u001b[94mqiime phylogeny\u001b[0m [OPTIONS] COMMAND [ARGS]...\n",
      "\n",
      "  Description: This QIIME 2 plugin supports generating and manipulating\n",
      "  phylogenetic trees.\n",
      "\n",
      "  Plugin website: https://github.com/qiime2/q2-phylogeny\n",
      "\n",
      "  Getting user support: Please post to the QIIME 2 forum for help with this\n",
      "  plugin: https://forum.qiime2.org\n",
      "\n",
      "\u001b[1mOptions\u001b[0m:\n",
      "  \u001b[94m--version\u001b[0m            Show the version and exit.\n",
      "  \u001b[94m--example-data\u001b[0m PATH  Write example data and exit.\n",
      "  \u001b[94m--citations\u001b[0m          Show citations and exit.\n",
      "  \u001b[94m--help\u001b[0m               Show this message and exit.\n",
      "\n",
      "\u001b[1mCommands\u001b[0m:\n",
      "  \u001b[94malign-to-tree-mafft-fasttree\u001b[0m  Build a phylogenetic tree using fasttree and\n",
      "                                mafft alignment\n",
      "  \u001b[94malign-to-tree-mafft-iqtree\u001b[0m    Build a phylogenetic tree using iqtree and\n",
      "                                mafft alignment.\n",
      "  \u001b[94malign-to-tree-mafft-raxml\u001b[0m     Build a phylogenetic tree using raxml and\n",
      "                                mafft alignment.\n",
      "  \u001b[94mfasttree\u001b[0m                      Construct a phylogenetic tree with FastTree.\n",
      "  \u001b[94mfilter-table\u001b[0m                  Remove features from table if they're not\n",
      "                                present in tree.\n",
      "  \u001b[94mfilter-tree\u001b[0m                   Remove features from tree based on metadata\n",
      "  \u001b[94miqtree\u001b[0m                        Construct a phylogenetic tree with IQ-TREE.\n",
      "  \u001b[94miqtree-ultrafast-bootstrap\u001b[0m    Construct a phylogenetic tree with IQ-TREE\n",
      "                                with bootstrap supports.\n",
      "  \u001b[94mmidpoint-root\u001b[0m                 Midpoint root an unrooted phylogenetic tree.\n",
      "  \u001b[94mraxml\u001b[0m                         Construct a phylogenetic tree with RAxML.\n",
      "  \u001b[94mraxml-rapid-bootstrap\u001b[0m         Construct a phylogenetic tree with bootstrap\n",
      "                                supports using RAxML.\n",
      "  \u001b[94mrobinson-foulds\u001b[0m               Calculate Robinson-Foulds distance between\n",
      "                                phylogenetic trees.\n"
     ]
    }
   ],
   "source": [
    "qiime phylogeny --help"
   ]
  },
  {
   "cell_type": "markdown",
   "id": "51d08dae",
   "metadata": {},
   "source": [
    "There are three methods to align and build the tree:\n",
    "- MAFFT + FastTree (fastest)  <- this\n",
    "- MAFFT + IQTREE\n",
    "- MAFFT + RAxML (most precise)"
   ]
  },
  {
   "cell_type": "markdown",
   "id": "9647af50",
   "metadata": {},
   "source": [
    "Let's see the help to know what we need to give it in order to work:"
   ]
  },
  {
   "cell_type": "code",
   "execution_count": 2,
   "id": "756b6845",
   "metadata": {
    "scrolled": true,
    "tags": []
   },
   "outputs": [
    {
     "name": "stdout",
     "output_type": "stream",
     "text": [
      "Usage: \u001b[94mqiime phylogeny align-to-tree-mafft-fasttree\u001b[0m [OPTIONS]\n",
      "\n",
      "  This pipeline will start by creating a sequence alignment using MAFFT, after\n",
      "  which any alignment columns that are phylogenetically uninformative or\n",
      "  ambiguously aligned will be removed (masked). The resulting masked alignment\n",
      "  will be used to infer a phylogenetic tree and then subsequently rooted at\n",
      "  its midpoint. Output files from each step of the pipeline will be saved.\n",
      "  This includes both the unmasked and masked MAFFT alignment from q2-alignment\n",
      "  methods, and both the rooted and unrooted phylogenies from q2-phylogeny\n",
      "  methods.\n",
      "\n",
      "\u001b[1mInputs\u001b[0m:\n",
      "  \u001b[94m\u001b[4m--i-sequences\u001b[0m ARTIFACT \u001b[32mFeatureData[Sequence]\u001b[0m\n",
      "                          The sequences to be used for creating a fasttree\n",
      "                          based rooted phylogenetic tree.           \u001b[35m[required]\u001b[0m\n",
      "\u001b[1mParameters\u001b[0m:\n",
      "  \u001b[94m--p-n-threads\u001b[0m VALUE \u001b[32mInt % Range(1, None) | Str % Choices('auto')\u001b[0m\n",
      "                          The number of threads. (Use `auto` to automatically\n",
      "                          use all available cores) This value is used when\n",
      "                          aligning the sequences and creating the tree with\n",
      "                          fasttree.                               \u001b[35m[default: 1]\u001b[0m\n",
      "  \u001b[94m--p-mask-max-gap-frequency\u001b[0m PROPORTION \u001b[32mRange(0, 1, inclusive_end=True)\u001b[0m\n",
      "                          The maximum relative frequency of gap characters in\n",
      "                          a column for the column to be retained. This\n",
      "                          relative frequency must be a number between 0.0 and\n",
      "                          1.0 (inclusive), where 0.0 retains only those\n",
      "                          columns without gap characters, and 1.0 retains all\n",
      "                          columns  regardless of gap character frequency. This\n",
      "                          value is used when masking the aligned sequences.\n",
      "                                                                \u001b[35m[default: 1.0]\u001b[0m\n",
      "  \u001b[94m--p-mask-min-conservation\u001b[0m PROPORTION \u001b[32mRange(0, 1, inclusive_end=True)\u001b[0m\n",
      "                          The minimum relative frequency of at least one\n",
      "                          non-gap character in a column for that column to be\n",
      "                          retained. This relative frequency must be a number\n",
      "                          between 0.0 and 1.0 (inclusive). For example, if a\n",
      "                          value of  0.4 is provided, a column will only be\n",
      "                          retained  if it contains at least one character that\n",
      "                          is present in at least 40% of the sequences. This\n",
      "                          value is used when masking the aligned sequences.\n",
      "                                                                \u001b[35m[default: 0.4]\u001b[0m\n",
      "  \u001b[94m--p-parttree\u001b[0m / \u001b[94m--p-no-parttree\u001b[0m\n",
      "                          This flag is required if the number of sequences\n",
      "                          being aligned are larger than 1000000. Disabled by\n",
      "                          default.                            \u001b[35m[default: False]\u001b[0m\n",
      "\u001b[1mOutputs\u001b[0m:\n",
      "  \u001b[94m\u001b[4m--o-alignment\u001b[0m ARTIFACT \u001b[32mFeatureData[AlignedSequence]\u001b[0m\n",
      "                          The aligned sequences.                    \u001b[35m[required]\u001b[0m\n",
      "  \u001b[94m\u001b[4m--o-masked-alignment\u001b[0m ARTIFACT \u001b[32mFeatureData[AlignedSequence]\u001b[0m\n",
      "                          The masked alignment.                     \u001b[35m[required]\u001b[0m\n",
      "  \u001b[94m\u001b[4m--o-tree\u001b[0m ARTIFACT       The unrooted phylogenetic tree.\n",
      "    \u001b[32mPhylogeny[Unrooted]\u001b[0m                                             \u001b[35m[required]\u001b[0m\n",
      "  \u001b[94m\u001b[4m--o-rooted-tree\u001b[0m ARTIFACT\n",
      "    \u001b[32mPhylogeny[Rooted]\u001b[0m     The rooted phylogenetic tree.             \u001b[35m[required]\u001b[0m\n",
      "\u001b[1mMiscellaneous\u001b[0m:\n",
      "  \u001b[94m--output-dir\u001b[0m PATH       Output unspecified results to a directory\n",
      "  \u001b[94m--verbose\u001b[0m / \u001b[94m--quiet\u001b[0m     Display verbose output to stdout and/or stderr\n",
      "                          during execution of this action. Or silence output\n",
      "                          if execution is successful (silence is golden).\n",
      "  \u001b[94m--example-data\u001b[0m PATH     Write example data and exit.\n",
      "  \u001b[94m--citations\u001b[0m             Show citations and exit.\n",
      "  \u001b[94m--help\u001b[0m                  Show this message and exit.\n",
      "\n",
      "\u001b[1mExamples\u001b[0m:\n",
      "  # ### example: align to tree mafft fasttree\n",
      "  qiime phylogeny align-to-tree-mafft-fasttree \\\n",
      "    --i-sequences rep-seqs.qza \\\n",
      "    --o-alignment aligned-rep-seqs.qza \\\n",
      "    --o-masked-alignment masked-aligned-rep-seqs.qza \\\n",
      "    --o-tree unrooted-tree.qza \\\n",
      "    --o-rooted-tree rooted-tree.qza\n",
      "  \n"
     ]
    }
   ],
   "source": [
    "qiime phylogeny align-to-tree-mafft-fasttree --help"
   ]
  },
  {
   "cell_type": "code",
   "execution_count": 3,
   "id": "699ca7f0",
   "metadata": {
    "tags": []
   },
   "outputs": [
    {
     "name": "stdout",
     "output_type": "stream",
     "text": [
      "\u001b[32mSaved FeatureData[AlignedSequence] to: phylo-aligned-seqs.qza\u001b[0m\n",
      "\u001b[32mSaved FeatureData[AlignedSequence] to: phylo-masked-aligned-seqs.qza\u001b[0m\n",
      "\u001b[32mSaved Phylogeny[Unrooted] to: phylo-unrooted-tree.qza\u001b[0m\n",
      "\u001b[32mSaved Phylogeny[Rooted] to: phylo-rooted-tree.qza\u001b[0m\n",
      "\u001b[0m\n"
     ]
    }
   ],
   "source": [
    "qiime phylogeny align-to-tree-mafft-fasttree \\\n",
    "    --i-sequences        rep-seqs.qza \\\n",
    "    --o-alignment        phylo-aligned-seqs.qza \\\n",
    "    --o-masked-alignment phylo-masked-aligned-seqs.qza \\\n",
    "    --o-tree             phylo-unrooted-tree.qza \\\n",
    "    --o-rooted-tree      phylo-rooted-tree.qza"
   ]
  },
  {
   "cell_type": "markdown",
   "id": "c4e05b67",
   "metadata": {},
   "source": [
    "All the files are artifacts, so there is nothing to see :("
   ]
  },
  {
   "cell_type": "markdown",
   "id": "4234eb5e",
   "metadata": {},
   "source": [
    "## 4.2 Core metrics"
   ]
  },
  {
   "cell_type": "markdown",
   "id": "ecd78088",
   "metadata": {},
   "source": [
    "Also, the alpha and beta diversities are computed in one single command. It is done with `qiime diversity core-metrics-phylogenetic`:"
   ]
  },
  {
   "cell_type": "markdown",
   "id": "ae837323-e341-4976-b9d1-b62eafac7220",
   "metadata": {},
   "source": [
    "Briefly:\n",
    "- alpha: individual diversity of each sample\n",
    "- beta: comparison of diversity between two samples"
   ]
  },
  {
   "cell_type": "code",
   "execution_count": 4,
   "id": "d0232e77",
   "metadata": {
    "tags": []
   },
   "outputs": [
    {
     "name": "stdout",
     "output_type": "stream",
     "text": [
      "Usage: \u001b[94mqiime diversity core-metrics-phylogenetic\u001b[0m [OPTIONS]\n",
      "\n",
      "  Applies a collection of diversity metrics (both phylogenetic and non-\n",
      "  phylogenetic) to a feature table.\n",
      "\n",
      "\u001b[1mInputs\u001b[0m:\n",
      "  \u001b[94m\u001b[4m--i-table\u001b[0m ARTIFACT \u001b[32mFeatureTable[Frequency]\u001b[0m\n",
      "                          The feature table containing the samples over which\n",
      "                          diversity metrics should be computed.     \u001b[35m[required]\u001b[0m\n",
      "  \u001b[94m\u001b[4m--i-phylogeny\u001b[0m ARTIFACT  Phylogenetic tree containing tip identifiers that\n",
      "    \u001b[32mPhylogeny[Rooted]\u001b[0m     correspond to the feature identifiers in the table.\n",
      "                          This tree can contain tip ids that are not present\n",
      "                          in the table, but all feature ids in the table must\n",
      "                          be present in this tree.                  \u001b[35m[required]\u001b[0m\n",
      "\u001b[1mParameters\u001b[0m:\n",
      "  \u001b[94m\u001b[4m--p-sampling-depth\u001b[0m INTEGER\n",
      "    \u001b[32mRange(1, None)\u001b[0m        The total frequency that each sample should be\n",
      "                          rarefied to prior to computing diversity metrics.\n",
      "                                                                    \u001b[35m[required]\u001b[0m\n",
      "  \u001b[94m\u001b[4m--m-metadata-file\u001b[0m METADATA...\n",
      "    (multiple arguments   The sample metadata to use in the emperor plots.\n",
      "     will be merged)                                                \u001b[35m[required]\u001b[0m\n",
      "  \u001b[94m--p-with-replacement\u001b[0m / \u001b[94m--p-no-with-replacement\u001b[0m\n",
      "                          Rarefy with replacement by sampling from the\n",
      "                          multinomial distribution instead of rarefying\n",
      "                          without replacement.                \u001b[35m[default: False]\u001b[0m\n",
      "  \u001b[94m--p-n-jobs-or-threads\u001b[0m VALUE \u001b[32mInt % Range(1, None) | Str % Choices('auto')\u001b[0m\n",
      "                          [beta/beta-phylogenetic methods only] - The number\n",
      "                          of concurrent jobs or CPU threads to use in\n",
      "                          performing this calculation. Individual methods will\n",
      "                          create jobs/threads as implemented in\n",
      "                          q2-diversity-lib dependencies. May not exceed the\n",
      "                          number of available physical cores. If\n",
      "                          \u001b[4mn-jobs-or-threads\u001b[0m = 'auto', one thread/job will be\n",
      "                          created for each identified CPU core on the host.\n",
      "                                                                  \u001b[35m[default: 1]\u001b[0m\n",
      "\u001b[1mOutputs\u001b[0m:\n",
      "  \u001b[94m\u001b[4m--o-rarefied-table\u001b[0m ARTIFACT \u001b[32mFeatureTable[Frequency]\u001b[0m\n",
      "                          The resulting rarefied feature table.     \u001b[35m[required]\u001b[0m\n",
      "  \u001b[94m\u001b[4m--o-faith-pd-vector\u001b[0m ARTIFACT \u001b[32mSampleData[AlphaDiversity]\u001b[0m\n",
      "                          Vector of Faith PD values by sample.      \u001b[35m[required]\u001b[0m\n",
      "  \u001b[94m\u001b[4m--o-observed-features-vector\u001b[0m ARTIFACT \u001b[32mSampleData[AlphaDiversity]\u001b[0m\n",
      "                          Vector of Observed Features values by sample.\n",
      "                                                                    \u001b[35m[required]\u001b[0m\n",
      "  \u001b[94m\u001b[4m--o-shannon-vector\u001b[0m ARTIFACT \u001b[32mSampleData[AlphaDiversity]\u001b[0m\n",
      "                          Vector of Shannon diversity values by sample.\n",
      "                                                                    \u001b[35m[required]\u001b[0m\n",
      "  \u001b[94m\u001b[4m--o-evenness-vector\u001b[0m ARTIFACT \u001b[32mSampleData[AlphaDiversity]\u001b[0m\n",
      "                          Vector of Pielou's evenness values by sample.\n",
      "                                                                    \u001b[35m[required]\u001b[0m\n",
      "  \u001b[94m\u001b[4m--o-unweighted-unifrac-distance-matrix\u001b[0m ARTIFACT\n",
      "    \u001b[32mDistanceMatrix\u001b[0m        Matrix of unweighted UniFrac distances between\n",
      "                          pairs of samples.                         \u001b[35m[required]\u001b[0m\n",
      "  \u001b[94m\u001b[4m--o-weighted-unifrac-distance-matrix\u001b[0m ARTIFACT\n",
      "    \u001b[32mDistanceMatrix\u001b[0m        Matrix of weighted UniFrac distances between pairs\n",
      "                          of samples.                               \u001b[35m[required]\u001b[0m\n",
      "  \u001b[94m\u001b[4m--o-jaccard-distance-matrix\u001b[0m ARTIFACT\n",
      "    \u001b[32mDistanceMatrix\u001b[0m        Matrix of Jaccard distances between pairs of\n",
      "                          samples.                                  \u001b[35m[required]\u001b[0m\n",
      "  \u001b[94m\u001b[4m--o-bray-curtis-distance-matrix\u001b[0m ARTIFACT\n",
      "    \u001b[32mDistanceMatrix\u001b[0m        Matrix of Bray-Curtis distances between pairs of\n",
      "                          samples.                                  \u001b[35m[required]\u001b[0m\n",
      "  \u001b[94m\u001b[4m--o-unweighted-unifrac-pcoa-results\u001b[0m ARTIFACT\n",
      "    \u001b[32mPCoAResults\u001b[0m           PCoA matrix computed from unweighted UniFrac\n",
      "                          distances between samples.                \u001b[35m[required]\u001b[0m\n",
      "  \u001b[94m\u001b[4m--o-weighted-unifrac-pcoa-results\u001b[0m ARTIFACT\n",
      "    \u001b[32mPCoAResults\u001b[0m           PCoA matrix computed from weighted UniFrac\n",
      "                          distances between samples.                \u001b[35m[required]\u001b[0m\n",
      "  \u001b[94m\u001b[4m--o-jaccard-pcoa-results\u001b[0m ARTIFACT\n",
      "    \u001b[32mPCoAResults\u001b[0m           PCoA matrix computed from Jaccard distances between\n",
      "                          samples.                                  \u001b[35m[required]\u001b[0m\n",
      "  \u001b[94m\u001b[4m--o-bray-curtis-pcoa-results\u001b[0m ARTIFACT\n",
      "    \u001b[32mPCoAResults\u001b[0m           PCoA matrix computed from Bray-Curtis distances\n",
      "                          between samples.                          \u001b[35m[required]\u001b[0m\n",
      "  \u001b[94m\u001b[4m--o-unweighted-unifrac-emperor\u001b[0m VISUALIZATION\n",
      "                          Emperor plot of the PCoA matrix computed from\n",
      "                          unweighted UniFrac.                       \u001b[35m[required]\u001b[0m\n",
      "  \u001b[94m\u001b[4m--o-weighted-unifrac-emperor\u001b[0m VISUALIZATION\n",
      "                          Emperor plot of the PCoA matrix computed from\n",
      "                          weighted UniFrac.                         \u001b[35m[required]\u001b[0m\n",
      "  \u001b[94m\u001b[4m--o-jaccard-emperor\u001b[0m VISUALIZATION\n",
      "                          Emperor plot of the PCoA matrix computed from\n",
      "                          Jaccard.                                  \u001b[35m[required]\u001b[0m\n",
      "  \u001b[94m\u001b[4m--o-bray-curtis-emperor\u001b[0m VISUALIZATION\n",
      "                          Emperor plot of the PCoA matrix computed from\n",
      "                          Bray-Curtis.                              \u001b[35m[required]\u001b[0m\n",
      "\u001b[1mMiscellaneous\u001b[0m:\n",
      "  \u001b[94m--output-dir\u001b[0m PATH       Output unspecified results to a directory\n",
      "  \u001b[94m--verbose\u001b[0m / \u001b[94m--quiet\u001b[0m     Display verbose output to stdout and/or stderr\n",
      "                          during execution of this action. Or silence output\n",
      "                          if execution is successful (silence is golden).\n",
      "  \u001b[94m--example-data\u001b[0m PATH     Write example data and exit.\n",
      "  \u001b[94m--citations\u001b[0m             Show citations and exit.\n",
      "  \u001b[94m--help\u001b[0m                  Show this message and exit.\n"
     ]
    }
   ],
   "source": [
    "qiime diversity core-metrics-phylogenetic --help"
   ]
  },
  {
   "cell_type": "markdown",
   "id": "291e5cda-0a99-4802-afd8-8dd87be5063a",
   "metadata": {
    "tags": []
   },
   "source": [
    "Remember [table.qzv](https://view.qiime2.org/visualization/?type=html&src=https%3A%2F%2Fdocs.qiime2.org%2F2023.2%2Fdata%2Ftutorials%2Fmoving-pictures%2Ftable.qzv)"
   ]
  },
  {
   "cell_type": "markdown",
   "id": "3cdc2cc1-7fe5-4f09-9cb9-c019a282fd3e",
   "metadata": {},
   "source": [
    "Here we set the `--p-sampling-depth` parameter to 1103. This value was chosen based on the number of sequences in the L3S313 sample because it’s close to the number of sequences in the next few samples that have higher sequence counts, and because it is considerably higher (relatively) than the number of sequences in the samples that have fewer sequences. "
   ]
  },
  {
   "cell_type": "code",
   "execution_count": 5,
   "id": "e60cd30d",
   "metadata": {
    "tags": []
   },
   "outputs": [
    {
     "name": "stdout",
     "output_type": "stream",
     "text": [
      "\u001b[32mSaved FeatureTable[Frequency] to: metrics/rarefied_table.qza\u001b[0m\n",
      "\u001b[32mSaved SampleData[AlphaDiversity] to: metrics/faith_pd_vector.qza\u001b[0m\n",
      "\u001b[32mSaved SampleData[AlphaDiversity] to: metrics/observed_features_vector.qza\u001b[0m\n",
      "\u001b[32mSaved SampleData[AlphaDiversity] to: metrics/shannon_vector.qza\u001b[0m\n",
      "\u001b[32mSaved SampleData[AlphaDiversity] to: metrics/evenness_vector.qza\u001b[0m\n",
      "\u001b[32mSaved DistanceMatrix to: metrics/unweighted_unifrac_distance_matrix.qza\u001b[0m\n",
      "\u001b[32mSaved DistanceMatrix to: metrics/weighted_unifrac_distance_matrix.qza\u001b[0m\n",
      "\u001b[32mSaved DistanceMatrix to: metrics/jaccard_distance_matrix.qza\u001b[0m\n",
      "\u001b[32mSaved DistanceMatrix to: metrics/bray_curtis_distance_matrix.qza\u001b[0m\n",
      "\u001b[32mSaved PCoAResults to: metrics/unweighted_unifrac_pcoa_results.qza\u001b[0m\n",
      "\u001b[32mSaved PCoAResults to: metrics/weighted_unifrac_pcoa_results.qza\u001b[0m\n",
      "\u001b[32mSaved PCoAResults to: metrics/jaccard_pcoa_results.qza\u001b[0m\n",
      "\u001b[32mSaved PCoAResults to: metrics/bray_curtis_pcoa_results.qza\u001b[0m\n",
      "\u001b[32mSaved Visualization to: metrics/unweighted_unifrac_emperor.qzv\u001b[0m\n",
      "\u001b[32mSaved Visualization to: metrics/weighted_unifrac_emperor.qzv\u001b[0m\n",
      "\u001b[32mSaved Visualization to: metrics/jaccard_emperor.qzv\u001b[0m\n",
      "\u001b[32mSaved Visualization to: metrics/bray_curtis_emperor.qzv\u001b[0m\n",
      "\u001b[0m\n"
     ]
    }
   ],
   "source": [
    "export UNIFRAC_USE_GPU=N  # There is an error if you have a GPU\n",
    "qiime diversity core-metrics-phylogenetic \\\n",
    "    --i-phylogeny      phylo-rooted-tree.qza \\\n",
    "    --i-table          table.qza \\\n",
    "    --p-sampling-depth 1103 \\\n",
    "    --m-metadata-file  sample-metadata.tsv \\\n",
    "    --output-dir       metrics"
   ]
  },
  {
   "cell_type": "markdown",
   "id": "97e77532",
   "metadata": {},
   "source": [
    "The results appear in the diversity-core-metrics-results folder"
   ]
  },
  {
   "cell_type": "markdown",
   "id": "729c4a42",
   "metadata": {},
   "source": [
    "The visualizable ones:\n",
    "\n",
    "- [metrics/bray_curtis_emperor.qzv](https://view.qiime2.org/?src=https%3A%2F%2Fdocs.qiime2.org%2F2023.2%2Fdata%2Ftutorials%2Fmoving-pictures%2Fcore-metrics-results%2Fbray_curtis_emperor.qzv)\n",
    "- [metrics/jaccard_emperor.qzv](https://view.qiime2.org/?src=https%3A%2F%2Fdocs.qiime2.org%2F2023.2%2Fdata%2Ftutorials%2Fmoving-pictures%2Fcore-metrics-results%2Fjaccard_emperor.qzv)\n",
    "- [metrics/unweighted_unifrac_emperor.qzv](https://view.qiime2.org/?src=https%3A%2F%2Fdocs.qiime2.org%2F2023.2%2Fdata%2Ftutorials%2Fmoving-pictures%2Fcore-metrics-results%2Funweighted_unifrac_emperor.qzv)\n",
    "- [metrics/weighted_unifrac_emperor.qzv](https://view.qiime2.org/?src=https%3A%2F%2Fdocs.qiime2.org%2F2023.2%2Fdata%2Ftutorials%2Fmoving-pictures%2Fcore-metrics-results%2Fweighted_unifrac_emperor.qzv)"
   ]
  },
  {
   "cell_type": "markdown",
   "id": "72fd6e6e-e453-41fb-984d-57d376c7c4b8",
   "metadata": {
    "tags": []
   },
   "source": [
    "For every distance, we have a clustering result:\n",
    "- Bray-Curtis\n",
    "- Jaccard\n",
    "- Unweighted UNIFRAC\n",
    "- Weighted UNIFRAC"
   ]
  },
  {
   "cell_type": "markdown",
   "id": "e64a3942",
   "metadata": {},
   "source": [
    "## 4.3 Alpha diversity"
   ]
  },
  {
   "cell_type": "markdown",
   "id": "1d20e0b3-5522-4f49-b672-58d74b442d90",
   "metadata": {},
   "source": [
    "Alpha diversities come in two flavors: \n",
    "- Richness (Faith Phylogenetic Diversity): how many ASVs are in the sample\n",
    "- Evenness: how uniform is the distribution\n",
    "We compute and visualize both:"
   ]
  },
  {
   "cell_type": "code",
   "execution_count": 6,
   "id": "f270abe9",
   "metadata": {
    "tags": []
   },
   "outputs": [
    {
     "name": "stdout",
     "output_type": "stream",
     "text": [
      "\u001b[32mSaved Visualization to: metrics/faith-pd-group-significance.qzv\u001b[0m\n",
      "\u001b[0m\n"
     ]
    }
   ],
   "source": [
    "# Richness ~ faith phylogenetic diversity\n",
    "qiime diversity alpha-group-significance \\\n",
    "  --i-alpha-diversity metrics/faith_pd_vector.qza \\\n",
    "  --m-metadata-file   sample-metadata.tsv \\\n",
    "  --o-visualization   metrics/faith-pd-group-significance.qzv"
   ]
  },
  {
   "cell_type": "code",
   "execution_count": 7,
   "id": "ae7d9e86",
   "metadata": {},
   "outputs": [
    {
     "name": "stdout",
     "output_type": "stream",
     "text": [
      "\u001b[32mSaved Visualization to: metrics/evenness-group-significance.qzv\u001b[0m\n",
      "\u001b[0m\n"
     ]
    }
   ],
   "source": [
    "# evenness\n",
    "qiime diversity alpha-group-significance \\\n",
    "  --i-alpha-diversity metrics/evenness_vector.qza \\\n",
    "  --m-metadata-file   sample-metadata.tsv \\\n",
    "  --o-visualization   metrics/evenness-group-significance.qzv"
   ]
  },
  {
   "cell_type": "markdown",
   "id": "30aa3c5a",
   "metadata": {},
   "source": [
    "- [metrics/faith-pd-group-significance.qzv](https://view.qiime2.org/?src=https%3A%2F%2Fdocs.qiime2.org%2F2023.2%2Fdata%2Ftutorials%2Fmoving-pictures%2Fcore-metrics-results%2Ffaith-pd-group-significance.qzv)\n",
    "- [metrics/evenness-group-significance.qzv](https://view.qiime2.org/?src=https%3A%2F%2Fdocs.qiime2.org%2F2023.2%2Fdata%2Ftutorials%2Fmoving-pictures%2Fcore-metrics-results%2Fevenness-group-significance.qzv)"
   ]
  },
  {
   "cell_type": "markdown",
   "id": "3aea1c2a-ec94-400f-8ee9-6513768e983d",
   "metadata": {
    "tags": []
   },
   "source": [
    "### Exercise"
   ]
  },
  {
   "cell_type": "markdown",
   "id": "5b2f4965-b8a3-4225-8605-17731bf48c09",
   "metadata": {},
   "source": [
    "**Note**: the Kruskal Wallis statitstical test checks if two or more samples come from the same distribution:\n",
    "- H high -> p low -> they are different\n",
    "- H low -> p high -> they are **not** different (!= equal)"
   ]
  },
  {
   "cell_type": "markdown",
   "id": "fe191ab5-adee-4123-ba97-e7df588bd7c3",
   "metadata": {},
   "source": [
    "- According to the Kruskal-Wallis test of all the samples, do they have the same or different **richness**?\n",
    "  - By body site?\n",
    "  - By subject?\n",
    "  - By antibiotic usage?"
   ]
  },
  {
   "cell_type": "markdown",
   "id": "9cc1311e-f5db-4372-b3e1-6ab520043d7a",
   "metadata": {},
   "source": [
    "- Body site: Different: p = 0.00044528728137249946 < 0.05\n",
    "- Subject: Same: p = 0.2683816272927587 > 0.05\n",
    "- Antibiotic usage: Different p = 0.018773411069677226 < 0.05"
   ]
  },
  {
   "cell_type": "markdown",
   "id": "aae07e00-3bf0-4861-9e87-95bf2e6008f4",
   "metadata": {},
   "source": [
    "- According to the Kruskal-Wallis test of all the samples, do they have the same or different **evenness**?\n",
    "  - By body site?\n",
    "  - By subject?\n",
    "  - By antibiotic usage?"
   ]
  },
  {
   "cell_type": "markdown",
   "id": "0f161f55-fcf6-4a95-97c8-34618b4dd27e",
   "metadata": {},
   "source": [
    "- Body site: Different: p = 0.01916821252090555 < 0.05\n",
    "- Subject: Same: p = 0.6926327840419735 > 0.05\n",
    "- Antibiotic usage: Same: p = 0.14705851921929175 > 0.05"
   ]
  },
  {
   "cell_type": "markdown",
   "id": "be4d79b6",
   "metadata": {},
   "source": [
    "## 4.4 Beta diversity"
   ]
  },
  {
   "cell_type": "markdown",
   "id": "3dbd7a2d-b6e7-4f87-b291-2be4c525034e",
   "metadata": {},
   "source": [
    "We are going to analyze the sample composition using PERMANOVA tests. The purpose is to compare distances between groups of samples (body parts) and tell if they are different or not."
   ]
  },
  {
   "cell_type": "markdown",
   "id": "74020c6f-0dd5-492a-8427-76f5240ad869",
   "metadata": {},
   "source": [
    "We should expect to see that the left and right hands are similar, that they are far away from gut, and that the tongue sits in beween"
   ]
  },
  {
   "cell_type": "markdown",
   "id": "c285548d-9b61-4757-83a9-48cc938c7a0e",
   "metadata": {},
   "source": [
    "We are doing two tests: by body site and subject:"
   ]
  },
  {
   "cell_type": "code",
   "execution_count": 8,
   "id": "7b7f19a4",
   "metadata": {
    "tags": []
   },
   "outputs": [
    {
     "name": "stdout",
     "output_type": "stream",
     "text": [
      "\u001b[32mSaved Visualization to: metrics/unweighted-unifrac-body-site-significance.qzv\u001b[0m\n",
      "\u001b[0m\n"
     ]
    }
   ],
   "source": [
    "qiime diversity beta-group-significance \\\n",
    "    --i-distance-matrix metrics/unweighted_unifrac_distance_matrix.qza \\\n",
    "    --m-metadata-file   sample-metadata.tsv \\\n",
    "    --m-metadata-column body-site \\\n",
    "    --o-visualization   metrics/unweighted-unifrac-body-site-significance.qzv \\\n",
    "    --p-pairwise"
   ]
  },
  {
   "cell_type": "code",
   "execution_count": 9,
   "id": "5770b99f",
   "metadata": {
    "tags": []
   },
   "outputs": [
    {
     "name": "stdout",
     "output_type": "stream",
     "text": [
      "\u001b[32mSaved Visualization to: metrics/unweighted-unifrac-subject-group-significance.qzv\u001b[0m\n",
      "\u001b[0m\n"
     ]
    }
   ],
   "source": [
    "qiime diversity beta-group-significance \\\n",
    "    --i-distance-matrix metrics/unweighted_unifrac_distance_matrix.qza \\\n",
    "    --m-metadata-file   sample-metadata.tsv \\\n",
    "    --m-metadata-column subject \\\n",
    "    --o-visualization   metrics/unweighted-unifrac-subject-group-significance.qzv \\\n",
    "    --p-pairwise"
   ]
  },
  {
   "cell_type": "markdown",
   "id": "d08ebe48-884c-4dd6-9864-7fad251399cc",
   "metadata": {},
   "source": [
    "- [metrics/unweighted-unifrac-body-site-significance.qzv](https://view.qiime2.org/?src=https%3A%2F%2Fdocs.qiime2.org%2F2023.2%2Fdata%2Ftutorials%2Fmoving-pictures%2Fcore-metrics-results%2Funweighted-unifrac-body-site-significance.qzv)\n",
    "- [metrics/unweighted-unifrac-subject-group-significance.qzv](https://view.qiime2.org/?src=https%3A%2F%2Fdocs.qiime2.org%2F2023.2%2Fdata%2Ftutorials%2Fmoving-pictures%2Fcore-metrics-results%2Funweighted-unifrac-subject-group-significance.qzv)"
   ]
  },
  {
   "cell_type": "markdown",
   "id": "fdcbe80f-71f8-492e-8bf2-c2f8ce3eb1cd",
   "metadata": {},
   "source": [
    "### Exercise"
   ]
  },
  {
   "cell_type": "markdown",
   "id": "40656357-9778-4a22-80f2-a87219a1bebf",
   "metadata": {},
   "source": [
    "- Are there differences between body sites?"
   ]
  },
  {
   "cell_type": "markdown",
   "id": "e130f08d-8b05-4a79-a112-ff4b32e54614",
   "metadata": {},
   "source": [
    "The all vs all analysis says that the p-value is 0.001 < 0.05, and therefore, the four samples don't come from a single distribution."
   ]
  },
  {
   "cell_type": "markdown",
   "id": "cdd5ffee-365c-468f-8331-79739b1b4f2f",
   "metadata": {},
   "source": [
    "Pair-wise, The q-values are all below 0.05, with the exception of the left and right hands, which obviously should have the same microbiome."
   ]
  },
  {
   "cell_type": "markdown",
   "id": "e448ab85-d696-4145-972e-dbeffd09aef7",
   "metadata": {},
   "source": [
    "- Are there differences between subjects?"
   ]
  },
  {
   "cell_type": "markdown",
   "id": "4145c4bc-0e52-466b-88a7-55147e62afd3",
   "metadata": {},
   "source": [
    "Since it is a 1 vs 1 analysis, the group-wise and pair-wise analysis are the same. The p-value is 0.526 > 0.05, and therefore both subjects contain the same overall community composition."
   ]
  },
  {
   "cell_type": "markdown",
   "id": "3c486575-acae-4e25-af3f-2bd645e986a0",
   "metadata": {},
   "source": [
    "Instead of using statistical tests and p-values to see the differences, we can use the `emperor` plugin to plot the samples in 3D space, and across the column `days-since-experiment-start`."
   ]
  },
  {
   "cell_type": "code",
   "execution_count": 10,
   "id": "aaca9c26",
   "metadata": {
    "tags": []
   },
   "outputs": [
    {
     "name": "stdout",
     "output_type": "stream",
     "text": [
      "\u001b[32mSaved Visualization to: metrics/unweighted-unifrac-emperor-days-since-experiment-start.qzv\u001b[0m\n",
      "\u001b[0m\n"
     ]
    }
   ],
   "source": [
    "qiime emperor plot \\\n",
    "    --i-pcoa          metrics/unweighted_unifrac_pcoa_results.qza \\\n",
    "    --m-metadata-file sample-metadata.tsv \\\n",
    "    --p-custom-axes   days-since-experiment-start \\\n",
    "    --o-visualization metrics/unweighted-unifrac-emperor-days-since-experiment-start.qzv"
   ]
  },
  {
   "cell_type": "code",
   "execution_count": 11,
   "id": "abbc9319",
   "metadata": {
    "tags": []
   },
   "outputs": [
    {
     "name": "stdout",
     "output_type": "stream",
     "text": [
      "\u001b[32mSaved Visualization to: metrics/bray-curtis-emperor-days-since-experiment-start.qzv\u001b[0m\n",
      "\u001b[0m\n"
     ]
    }
   ],
   "source": [
    "qiime emperor plot \\\n",
    "    --i-pcoa          metrics/bray_curtis_pcoa_results.qza \\\n",
    "    --m-metadata-file sample-metadata.tsv \\\n",
    "    --p-custom-axes   days-since-experiment-start \\\n",
    "    --o-visualization metrics/bray-curtis-emperor-days-since-experiment-start.qzv"
   ]
  },
  {
   "cell_type": "markdown",
   "id": "994ed2fd-36d1-4654-b146-f105b5291ce4",
   "metadata": {},
   "source": [
    "- [metrics/unweighted-unifrac-emperor-days-since-experiment-start.qzv](https://view.qiime2.org/?src=https%3A%2F%2Fdocs.qiime2.org%2F2023.2%2Fdata%2Ftutorials%2Fmoving-pictures%2Fcore-metrics-results%2Fbray-curtis-emperor-days-since-experiment-start.qzv)\n",
    "- [metrics/bray-curtis-emperor-days-since-experiment-start.qzv](https://view.qiime2.org/?src=https%3A%2F%2Fdocs.qiime2.org%2F2023.2%2Fdata%2Ftutorials%2Fmoving-pictures%2Fcore-metrics-results%2Funweighted-unifrac-emperor-days-since-experiment-start.qzv)"
   ]
  },
  {
   "cell_type": "markdown",
   "id": "d222d92f-32d1-4952-87ae-379bc89f6c33",
   "metadata": {},
   "source": [
    "### Exercise"
   ]
  },
  {
   "cell_type": "markdown",
   "id": "98014ed8-0342-4c65-8d47-6b679e6968ca",
   "metadata": {},
   "source": [
    "- Do each body site follow their own progression?"
   ]
  },
  {
   "cell_type": "markdown",
   "id": "5630f56b-d9aa-4b02-bae6-edddc8d3e506",
   "metadata": {},
   "source": [
    "Yes, they follow their own path across time."
   ]
  },
  {
   "cell_type": "markdown",
   "id": "65f65d4d-1c49-476d-9b32-d06c861e5eb0",
   "metadata": {},
   "source": [
    "- Are the right and left hands simmilar?"
   ]
  },
  {
   "cell_type": "markdown",
   "id": "9006c82e-9216-47a0-a329-dc9e4e0772f2",
   "metadata": {},
   "source": [
    "Obviously, they should be having simmilar communities because they are both skin that sit less than a meter appart from each other."
   ]
  },
  {
   "cell_type": "markdown",
   "id": "8168ca0e-ae7d-42cb-af6f-e9222dc88869",
   "metadata": {},
   "source": [
    "- Do you notice something weird?"
   ]
  },
  {
   "cell_type": "markdown",
   "id": "6de252cb-74e9-4891-acdc-978a20cf6a8c",
   "metadata": {},
   "source": [
    "There is a left palm samlpe clustered with the ones from tongue, and also a right palm sample clustered with the ones from gut.\n",
    "\n",
    "Given that most of the subjects got tested twice per day and that at day 0 we observe 3 samples of gut and tongue, they may probably have mislabeled the samples in the `sample-data.tsv`, or maybe they were swapped at the laboratory.\n",
    "\n",
    "Given what we have seen on alpha and beta diversities, there is no way that those samples belong to a hand.\n"
   ]
  },
  {
   "cell_type": "markdown",
   "id": "1deae72c-6d53-4824-9907-6e74a497311b",
   "metadata": {
    "tags": []
   },
   "source": [
    "## 4.5 Alpha rarefaction"
   ]
  },
  {
   "cell_type": "markdown",
   "id": "87d31db6-024d-466a-9a73-2f38ae0dae77",
   "metadata": {},
   "source": [
    "Sometimes you need to know if you have sequenced enough for every sample."
   ]
  },
  {
   "cell_type": "markdown",
   "id": "86c57f68-aef4-475c-9696-4c47a7fc0fc1",
   "metadata": {},
   "source": [
    "Rarefaction consists on doing the same analysis multiple times with different coverages"
   ]
  },
  {
   "cell_type": "markdown",
   "id": "1b41ed5b-0ca9-4c03-a59a-2be251f8c04c",
   "metadata": {},
   "source": [
    "In our case, we want to know if we have captured all the richness for every sample."
   ]
  },
  {
   "cell_type": "markdown",
   "id": "7de747e5-4c92-4306-a41d-31e86c7f9095",
   "metadata": {},
   "source": [
    "To do so, we run the alpha diversity function with 500 reads per sample, then 1000, them 1500, and so on, and plot the results:"
   ]
  },
  {
   "cell_type": "markdown",
   "id": "61f66104-b71d-4394-8368-6438eda6e25f",
   "metadata": {},
   "source": [
    "We will know that we have sequenced enough if we are getting the same diversity, i.e., the plot has plateaued."
   ]
  },
  {
   "cell_type": "code",
   "execution_count": 12,
   "id": "651b70d3",
   "metadata": {},
   "outputs": [
    {
     "name": "stdout",
     "output_type": "stream",
     "text": [
      "\u001b[32mSaved Visualization to: metrics/alpha-rarefaction.qzv\u001b[0m\n",
      "\u001b[0m\n"
     ]
    }
   ],
   "source": [
    "qiime diversity alpha-rarefaction \\\n",
    "    --i-table         table.qza \\\n",
    "    --i-phylogeny     phylo-rooted-tree.qza \\\n",
    "    --p-max-depth     4000 \\\n",
    "    --m-metadata-file sample-metadata.tsv \\\n",
    "    --o-visualization metrics/alpha-rarefaction.qzv"
   ]
  },
  {
   "cell_type": "markdown",
   "id": "65bbb616-aa3b-482f-871f-3910892addd5",
   "metadata": {},
   "source": [
    "- [alpha_rarefaction.qzv](https://view.qiime2.org/?src=https%3A%2F%2Fdocs.qiime2.org%2F2023.2%2Fdata%2Ftutorials%2Fmoving-pictures%2Falpha-rarefaction.qzv)"
   ]
  },
  {
   "cell_type": "markdown",
   "id": "277335b2-549c-4639-a755-a67e8ed987b2",
   "metadata": {
    "tags": []
   },
   "source": [
    "### Exercise"
   ]
  },
  {
   "cell_type": "markdown",
   "id": "88846a4c-cc71-4730-9e28-ecf4e06209ab",
   "metadata": {},
   "source": [
    "Do we reach a pleateau in all samples?"
   ]
  },
  {
   "cell_type": "markdown",
   "id": "c9a16ca8-ac0e-4e77-b442-54ee710fc53d",
   "metadata": {},
   "source": [
    "- According to the `faith_pd` metric (richness), most of the samples (`barcode-id`) did reach a plateau with the exception of the red and pink one.\n",
    "- According to the `shannon` index, all samples stay stable across the entire plot.\n",
    "- According to the `observed_features` metric,  there is still little to be gained if we sequence more. The red sample (sample L4S63), could still need some additional sequencing. "
   ]
  },
  {
   "cell_type": "markdown",
   "id": "2f675dc4-a142-4a49-a4df-fdad9d46330d",
   "metadata": {},
   "source": [
    "What if we set the maximum depth to 12,000? "
   ]
  },
  {
   "cell_type": "code",
   "execution_count": 14,
   "id": "f282be40-2202-4ac6-87b5-439f2b569de0",
   "metadata": {},
   "outputs": [
    {
     "name": "stdout",
     "output_type": "stream",
     "text": [
      "\u001b[31m\u001b[1mPlugin error from diversity:\n",
      "\n",
      "  Provided max_depth of 12000 is greater than the maximum sample total frequency of the feature_table (9820).\n",
      "\n",
      "Debug info has been saved to /tmp/qiime2-q2cli-err-yi9ifw3s.log\u001b[0m\n",
      "\u001b[0m\n"
     ]
    },
    {
     "ename": "",
     "evalue": "1",
     "output_type": "error",
     "traceback": []
    }
   ],
   "source": [
    "qiime diversity alpha-rarefaction \\\n",
    "    --i-table         table.qza \\\n",
    "    --i-phylogeny     phylo-rooted-tree.qza \\\n",
    "    --p-max-depth     12000 \\\n",
    "    --m-metadata-file sample-metadata.tsv \\\n",
    "    --o-visualization metrics/alpha-rarefaction-12000.qzv"
   ]
  },
  {
   "cell_type": "markdown",
   "id": "6aee14ae-84df-4d94-aa9d-3196a3d73e3d",
   "metadata": {},
   "source": [
    "Qiime complains because no sample has that many reads."
   ]
  },
  {
   "cell_type": "markdown",
   "id": "338e68ea-6a80-436a-bda6-8acef5a7c184",
   "metadata": {
    "tags": []
   },
   "source": [
    "- And 8,000?"
   ]
  },
  {
   "cell_type": "code",
   "execution_count": 15,
   "id": "b2adcbb5-dc93-4e13-b575-d77de6f704cb",
   "metadata": {
    "tags": []
   },
   "outputs": [
    {
     "name": "stdout",
     "output_type": "stream",
     "text": [
      "\u001b[32mSaved Visualization to: metrics/alpha-rarefaction-8000.qzv\u001b[0m\n",
      "\u001b[0m\n"
     ]
    }
   ],
   "source": [
    "qiime diversity alpha-rarefaction \\\n",
    "    --i-table         table.qza \\\n",
    "    --i-phylogeny     phylo-rooted-tree.qza \\\n",
    "    --p-max-depth     8000 \\\n",
    "    --m-metadata-file sample-metadata.tsv \\\n",
    "    --o-visualization metrics/alpha-rarefaction-8000.qzv"
   ]
  },
  {
   "cell_type": "markdown",
   "id": "0a436e8a-580b-4bb1-9674-b28aab3d6ffb",
   "metadata": {},
   "source": [
    "It takes way longer to execute, but now it shows that the red sample stabilizes. Also, there are no information for some samples when the plot reaches the point in which it has to plot a sampling above its depth."
   ]
  },
  {
   "cell_type": "markdown",
   "id": "27154819-16cb-493f-b4a1-7a70e080b0a9",
   "metadata": {},
   "source": [
    "## End of notebook"
   ]
  },
  {
   "cell_type": "code",
   "execution_count": null,
   "id": "68f3cbf9-5e00-455f-bebf-313403ac8e5d",
   "metadata": {
    "tags": []
   },
   "outputs": [],
   "source": [
    "pause"
   ]
  },
  {
   "cell_type": "markdown",
   "id": "99d28356-e5c4-49d0-9617-ddcdd079498f",
   "metadata": {
    "tags": []
   },
   "source": [
    "Click the stop button before continuing to the next notebook"
   ]
  }
 ],
 "metadata": {
  "kernelspec": {
   "display_name": "Bash",
   "language": "bash",
   "name": "bash"
  },
  "language_info": {
   "codemirror_mode": "shell",
   "file_extension": ".sh",
   "mimetype": "text/x-sh",
   "name": "bash"
  },
  "toc-autonumbering": false
 },
 "nbformat": 4,
 "nbformat_minor": 5
}
