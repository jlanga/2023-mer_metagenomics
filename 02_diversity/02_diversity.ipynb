{
 "cells": [
  {
   "cell_type": "markdown",
   "id": "621e72af",
   "metadata": {},
   "source": [
    "# 3. Diversity"
   ]
  },
  {
   "cell_type": "code",
   "execution_count": 2,
   "id": "e4c39d2b",
   "metadata": {},
   "outputs": [
    {
     "name": "stdout",
     "output_type": "stream",
     "text": [
      "(qiime2-2023.2) \n"
     ]
    },
    {
     "ename": "",
     "evalue": "1",
     "output_type": "error",
     "traceback": []
    }
   ],
   "source": [
    "conda activate qiime2-2023.2"
   ]
  },
  {
   "cell_type": "markdown",
   "id": "5647b935",
   "metadata": {},
   "source": [
    "<img src=\"../assets/img/qiime_map.svg\"  width=\"1200\" height=\"600\">"
   ]
  },
  {
   "cell_type": "markdown",
   "id": "90efab28",
   "metadata": {},
   "source": [
    "## 4. Diversity analysis"
   ]
  },
  {
   "cell_type": "markdown",
   "id": "7211a847",
   "metadata": {},
   "source": [
    "We want to know:\n",
    "- the diversity of each sample (alpha diversity)\n",
    "- and how diverse are each pair of samples (beta diversity)"
   ]
  },
  {
   "cell_type": "markdown",
   "id": "13cae5b0",
   "metadata": {},
   "source": [
    "But before doing these analyses, we need to make all the sequences comparable."
   ]
  },
  {
   "cell_type": "markdown",
   "id": "f9f529aa",
   "metadata": {},
   "source": [
    "### 4.1 Alignment and tree construction"
   ]
  },
  {
   "cell_type": "markdown",
   "id": "1100c7ee",
   "metadata": {},
   "source": [
    "To do so we are going to:\n",
    "- align all the sequences\n",
    "- compute their phylogenetic tree"
   ]
  },
  {
   "cell_type": "markdown",
   "id": "ef654858",
   "metadata": {},
   "source": [
    "Thankfully, we can do it in one go with `qiime phylogeny`"
   ]
  },
  {
   "cell_type": "code",
   "execution_count": 3,
   "id": "226f459e",
   "metadata": {},
   "outputs": [
    {
     "name": "stdout",
     "output_type": "stream",
     "text": [
      "Usage: \u001b[94mqiime phylogeny\u001b[0m [OPTIONS] COMMAND [ARGS]...\n",
      "\n",
      "  Description: This QIIME 2 plugin supports generating and manipulating\n",
      "  phylogenetic trees.\n",
      "\n",
      "  Plugin website: https://github.com/qiime2/q2-phylogeny\n",
      "\n",
      "  Getting user support: Please post to the QIIME 2 forum for help with this\n",
      "  plugin: https://forum.qiime2.org\n",
      "\n",
      "\u001b[1mOptions\u001b[0m:\n",
      "  \u001b[94m--version\u001b[0m            Show the version and exit.\n",
      "  \u001b[94m--example-data\u001b[0m PATH  Write example data and exit.\n",
      "  \u001b[94m--citations\u001b[0m          Show citations and exit.\n",
      "  \u001b[94m--help\u001b[0m               Show this message and exit.\n",
      "\n",
      "\u001b[1mCommands\u001b[0m:\n",
      "  \u001b[94malign-to-tree-mafft-fasttree\u001b[0m  Build a phylogenetic tree using fasttree and\n",
      "                                mafft alignment\n",
      "  \u001b[94malign-to-tree-mafft-iqtree\u001b[0m    Build a phylogenetic tree using iqtree and\n",
      "                                mafft alignment.\n",
      "  \u001b[94malign-to-tree-mafft-raxml\u001b[0m     Build a phylogenetic tree using raxml and\n",
      "                                mafft alignment.\n",
      "  \u001b[94mfasttree\u001b[0m                      Construct a phylogenetic tree with FastTree.\n",
      "  \u001b[94mfilter-table\u001b[0m                  Remove features from table if they're not\n",
      "                                present in tree.\n",
      "  \u001b[94mfilter-tree\u001b[0m                   Remove features from tree based on metadata\n",
      "  \u001b[94miqtree\u001b[0m                        Construct a phylogenetic tree with IQ-TREE.\n",
      "  \u001b[94miqtree-ultrafast-bootstrap\u001b[0m    Construct a phylogenetic tree with IQ-TREE\n",
      "                                with bootstrap supports.\n",
      "  \u001b[94mmidpoint-root\u001b[0m                 Midpoint root an unrooted phylogenetic tree.\n",
      "  \u001b[94mraxml\u001b[0m                         Construct a phylogenetic tree with RAxML.\n",
      "  \u001b[94mraxml-rapid-bootstrap\u001b[0m         Construct a phylogenetic tree with bootstrap\n",
      "                                supports using RAxML.\n",
      "  \u001b[94mrobinson-foulds\u001b[0m               Calculate Robinson-Foulds distance between\n",
      "                                phylogenetic trees.\n",
      "(qiime2-2023.2) \n"
     ]
    },
    {
     "ename": "",
     "evalue": "1",
     "output_type": "error",
     "traceback": []
    }
   ],
   "source": [
    "qiime phylogeny --help"
   ]
  },
  {
   "cell_type": "markdown",
   "id": "51d08dae",
   "metadata": {},
   "source": [
    "There are three methods to align and build the tree:\n",
    "- MAFFT + FastTree (fastest)  <- this\n",
    "- MAFFT + IQTREE\n",
    "- MAFFT + RAxML (most precise)"
   ]
  },
  {
   "cell_type": "markdown",
   "id": "9647af50",
   "metadata": {},
   "source": [
    "Let's see the help to know what we need to give it in order to work:"
   ]
  },
  {
   "cell_type": "code",
   "execution_count": 4,
   "id": "756b6845",
   "metadata": {},
   "outputs": [
    {
     "name": "stdout",
     "output_type": "stream",
     "text": [
      "Usage: \u001b[94mqiime phylogeny align-to-tree-mafft-fasttree\u001b[0m [OPTIONS]\n",
      "\n",
      "  This pipeline will start by creating a sequence alignment using MAFFT, after\n",
      "  which any alignment columns that are phylogenetically uninformative or\n",
      "  ambiguously aligned will be removed (masked). The resulting masked alignment\n",
      "  will be used to infer a phylogenetic tree and then subsequently rooted at\n",
      "  its midpoint. Output files from each step of the pipeline will be saved.\n",
      "  This includes both the unmasked and masked MAFFT alignment from q2-alignment\n",
      "  methods, and both the rooted and unrooted phylogenies from q2-phylogeny\n",
      "  methods.\n",
      "\n",
      "\u001b[1mInputs\u001b[0m:\n",
      "  \u001b[94m\u001b[4m--i-sequences\u001b[0m ARTIFACT \u001b[32mFeatureData[Sequence]\u001b[0m\n",
      "                          The sequences to be used for creating a fasttree\n",
      "                          based rooted phylogenetic tree.           \u001b[35m[required]\u001b[0m\n",
      "\u001b[1mParameters\u001b[0m:\n",
      "  \u001b[94m--p-n-threads\u001b[0m VALUE \u001b[32mInt % Range(1, None) | Str % Choices('auto')\u001b[0m\n",
      "                          The number of threads. (Use `auto` to automatically\n",
      "                          use all available cores) This value is used when\n",
      "                          aligning the sequences and creating the tree with\n",
      "                          fasttree.                               \u001b[35m[default: 1]\u001b[0m\n",
      "  \u001b[94m--p-mask-max-gap-frequency\u001b[0m PROPORTION \u001b[32mRange(0, 1, inclusive_end=True)\u001b[0m\n",
      "                          The maximum relative frequency of gap characters in\n",
      "                          a column for the column to be retained. This\n",
      "                          relative frequency must be a number between 0.0 and\n",
      "                          1.0 (inclusive), where 0.0 retains only those\n",
      "                          columns without gap characters, and 1.0 retains all\n",
      "                          columns  regardless of gap character frequency. This\n",
      "                          value is used when masking the aligned sequences.\n",
      "                                                                \u001b[35m[default: 1.0]\u001b[0m\n",
      "  \u001b[94m--p-mask-min-conservation\u001b[0m PROPORTION \u001b[32mRange(0, 1, inclusive_end=True)\u001b[0m\n",
      "                          The minimum relative frequency of at least one\n",
      "                          non-gap character in a column for that column to be\n",
      "                          retained. This relative frequency must be a number\n",
      "                          between 0.0 and 1.0 (inclusive). For example, if a\n",
      "                          value of  0.4 is provided, a column will only be\n",
      "                          retained  if it contains at least one character that\n",
      "                          is present in at least 40% of the sequences. This\n",
      "                          value is used when masking the aligned sequences.\n",
      "                                                                \u001b[35m[default: 0.4]\u001b[0m\n",
      "  \u001b[94m--p-parttree\u001b[0m / \u001b[94m--p-no-parttree\u001b[0m\n",
      "                          This flag is required if the number of sequences\n",
      "                          being aligned are larger than 1000000. Disabled by\n",
      "                          default.                            \u001b[35m[default: False]\u001b[0m\n",
      "\u001b[1mOutputs\u001b[0m:\n",
      "  \u001b[94m\u001b[4m--o-alignment\u001b[0m ARTIFACT \u001b[32mFeatureData[AlignedSequence]\u001b[0m\n",
      "                          The aligned sequences.                    \u001b[35m[required]\u001b[0m\n",
      "  \u001b[94m\u001b[4m--o-masked-alignment\u001b[0m ARTIFACT \u001b[32mFeatureData[AlignedSequence]\u001b[0m\n",
      "                          The masked alignment.                     \u001b[35m[required]\u001b[0m\n",
      "  \u001b[94m\u001b[4m--o-tree\u001b[0m ARTIFACT       The unrooted phylogenetic tree.\n",
      "    \u001b[32mPhylogeny[Unrooted]\u001b[0m                                             \u001b[35m[required]\u001b[0m\n",
      "  \u001b[94m\u001b[4m--o-rooted-tree\u001b[0m ARTIFACT\n",
      "    \u001b[32mPhylogeny[Rooted]\u001b[0m     The rooted phylogenetic tree.             \u001b[35m[required]\u001b[0m\n",
      "\u001b[1mMiscellaneous\u001b[0m:\n",
      "  \u001b[94m--output-dir\u001b[0m PATH       Output unspecified results to a directory\n",
      "  \u001b[94m--verbose\u001b[0m / \u001b[94m--quiet\u001b[0m     Display verbose output to stdout and/or stderr\n",
      "                          during execution of this action. Or silence output\n",
      "                          if execution is successful (silence is golden).\n",
      "  \u001b[94m--example-data\u001b[0m PATH     Write example data and exit.\n",
      "  \u001b[94m--citations\u001b[0m             Show citations and exit.\n",
      "  \u001b[94m--help\u001b[0m                  Show this message and exit.\n",
      "\n",
      "\u001b[1mExamples\u001b[0m:\n",
      "  # ### example: align to tree mafft fasttree\n",
      "  qiime phylogeny align-to-tree-mafft-fasttree \\\n",
      "    --i-sequences rep-seqs.qza \\\n",
      "    --o-alignment aligned-rep-seqs.qza \\\n",
      "    --o-masked-alignment masked-aligned-rep-seqs.qza \\\n",
      "    --o-tree unrooted-tree.qza \\\n",
      "    --o-rooted-tree rooted-tree.qza\n",
      "  \n",
      "(qiime2-2023.2) \n"
     ]
    },
    {
     "ename": "",
     "evalue": "1",
     "output_type": "error",
     "traceback": []
    }
   ],
   "source": [
    "qiime phylogeny align-to-tree-mafft-fasttree --help"
   ]
  },
  {
   "cell_type": "code",
   "execution_count": 7,
   "id": "699ca7f0",
   "metadata": {
    "tags": []
   },
   "outputs": [
    {
     "name": "stdout",
     "output_type": "stream",
     "text": [
      "\u001b[32mSaved FeatureData[AlignedSequence] to: phylo-aligned-seqs.qza\u001b[0m\n",
      "\u001b[32mSaved FeatureData[AlignedSequence] to: phylo-masked-aligned-seqs.qza\u001b[0m\n",
      "\u001b[32mSaved Phylogeny[Unrooted] to: phylo-unrooted-tree.qza\u001b[0m\n",
      "\u001b[32mSaved Phylogeny[Rooted] to: phylo-rooted-tree.qza\u001b[0m\n",
      "\u001b[0m(qiime2-2023.2) \n"
     ]
    },
    {
     "ename": "",
     "evalue": "1",
     "output_type": "error",
     "traceback": []
    }
   ],
   "source": [
    "qiime phylogeny align-to-tree-mafft-fasttree \\\n",
    "    --i-sequences        rep-seqs.qza \\\n",
    "    --o-alignment        phylo-aligned-seqs.qza \\\n",
    "    --o-masked-alignment phylo-masked-aligned-seqs.qza \\\n",
    "    --o-tree             phylo-unrooted-tree.qza \\\n",
    "    --o-rooted-tree      phylo-rooted-tree.qza"
   ]
  },
  {
   "cell_type": "markdown",
   "id": "c4e05b67",
   "metadata": {},
   "source": [
    "All the files are artifacts, so there is nothing to see :("
   ]
  },
  {
   "cell_type": "markdown",
   "id": "4234eb5e",
   "metadata": {},
   "source": [
    "## 4.2 Core metrics"
   ]
  },
  {
   "cell_type": "markdown",
   "id": "ecd78088",
   "metadata": {},
   "source": [
    "Also, the alpha and beta diversities are computed in one single command. It is done with `qiime diversity core-metrics-phylogenetic`:"
   ]
  },
  {
   "cell_type": "code",
   "execution_count": 8,
   "id": "d0232e77",
   "metadata": {},
   "outputs": [
    {
     "name": "stdout",
     "output_type": "stream",
     "text": [
      "Usage: \u001b[94mqiime diversity core-metrics-phylogenetic\u001b[0m [OPTIONS]\n",
      "\n",
      "  Applies a collection of diversity metrics (both phylogenetic and non-\n",
      "  phylogenetic) to a feature table.\n",
      "\n",
      "\u001b[1mInputs\u001b[0m:\n",
      "  \u001b[94m\u001b[4m--i-table\u001b[0m ARTIFACT \u001b[32mFeatureTable[Frequency]\u001b[0m\n",
      "                          The feature table containing the samples over which\n",
      "                          diversity metrics should be computed.     \u001b[35m[required]\u001b[0m\n",
      "  \u001b[94m\u001b[4m--i-phylogeny\u001b[0m ARTIFACT  Phylogenetic tree containing tip identifiers that\n",
      "    \u001b[32mPhylogeny[Rooted]\u001b[0m     correspond to the feature identifiers in the table.\n",
      "                          This tree can contain tip ids that are not present\n",
      "                          in the table, but all feature ids in the table must\n",
      "                          be present in this tree.                  \u001b[35m[required]\u001b[0m\n",
      "\u001b[1mParameters\u001b[0m:\n",
      "  \u001b[94m\u001b[4m--p-sampling-depth\u001b[0m INTEGER\n",
      "    \u001b[32mRange(1, None)\u001b[0m        The total frequency that each sample should be\n",
      "                          rarefied to prior to computing diversity metrics.\n",
      "                                                                    \u001b[35m[required]\u001b[0m\n",
      "  \u001b[94m\u001b[4m--m-metadata-file\u001b[0m METADATA...\n",
      "    (multiple arguments   The sample metadata to use in the emperor plots.\n",
      "     will be merged)                                                \u001b[35m[required]\u001b[0m\n",
      "  \u001b[94m--p-with-replacement\u001b[0m / \u001b[94m--p-no-with-replacement\u001b[0m\n",
      "                          Rarefy with replacement by sampling from the\n",
      "                          multinomial distribution instead of rarefying\n",
      "                          without replacement.                \u001b[35m[default: False]\u001b[0m\n",
      "  \u001b[94m--p-n-jobs-or-threads\u001b[0m VALUE \u001b[32mInt % Range(1, None) | Str % Choices('auto')\u001b[0m\n",
      "                          [beta/beta-phylogenetic methods only] - The number\n",
      "                          of concurrent jobs or CPU threads to use in\n",
      "                          performing this calculation. Individual methods will\n",
      "                          create jobs/threads as implemented in\n",
      "                          q2-diversity-lib dependencies. May not exceed the\n",
      "                          number of available physical cores. If\n",
      "                          \u001b[4mn-jobs-or-threads\u001b[0m = 'auto', one thread/job will be\n",
      "                          created for each identified CPU core on the host.\n",
      "                                                                  \u001b[35m[default: 1]\u001b[0m\n",
      "\u001b[1mOutputs\u001b[0m:\n",
      "  \u001b[94m\u001b[4m--o-rarefied-table\u001b[0m ARTIFACT \u001b[32mFeatureTable[Frequency]\u001b[0m\n",
      "                          The resulting rarefied feature table.     \u001b[35m[required]\u001b[0m\n",
      "  \u001b[94m\u001b[4m--o-faith-pd-vector\u001b[0m ARTIFACT \u001b[32mSampleData[AlphaDiversity]\u001b[0m\n",
      "                          Vector of Faith PD values by sample.      \u001b[35m[required]\u001b[0m\n",
      "  \u001b[94m\u001b[4m--o-observed-features-vector\u001b[0m ARTIFACT \u001b[32mSampleData[AlphaDiversity]\u001b[0m\n",
      "                          Vector of Observed Features values by sample.\n",
      "                                                                    \u001b[35m[required]\u001b[0m\n",
      "  \u001b[94m\u001b[4m--o-shannon-vector\u001b[0m ARTIFACT \u001b[32mSampleData[AlphaDiversity]\u001b[0m\n",
      "                          Vector of Shannon diversity values by sample.\n",
      "                                                                    \u001b[35m[required]\u001b[0m\n",
      "  \u001b[94m\u001b[4m--o-evenness-vector\u001b[0m ARTIFACT \u001b[32mSampleData[AlphaDiversity]\u001b[0m\n",
      "                          Vector of Pielou's evenness values by sample.\n",
      "                                                                    \u001b[35m[required]\u001b[0m\n",
      "  \u001b[94m\u001b[4m--o-unweighted-unifrac-distance-matrix\u001b[0m ARTIFACT\n",
      "    \u001b[32mDistanceMatrix\u001b[0m        Matrix of unweighted UniFrac distances between\n",
      "                          pairs of samples.                         \u001b[35m[required]\u001b[0m\n",
      "  \u001b[94m\u001b[4m--o-weighted-unifrac-distance-matrix\u001b[0m ARTIFACT\n",
      "    \u001b[32mDistanceMatrix\u001b[0m        Matrix of weighted UniFrac distances between pairs\n",
      "                          of samples.                               \u001b[35m[required]\u001b[0m\n",
      "  \u001b[94m\u001b[4m--o-jaccard-distance-matrix\u001b[0m ARTIFACT\n",
      "    \u001b[32mDistanceMatrix\u001b[0m        Matrix of Jaccard distances between pairs of\n",
      "                          samples.                                  \u001b[35m[required]\u001b[0m\n",
      "  \u001b[94m\u001b[4m--o-bray-curtis-distance-matrix\u001b[0m ARTIFACT\n",
      "    \u001b[32mDistanceMatrix\u001b[0m        Matrix of Bray-Curtis distances between pairs of\n",
      "                          samples.                                  \u001b[35m[required]\u001b[0m\n",
      "  \u001b[94m\u001b[4m--o-unweighted-unifrac-pcoa-results\u001b[0m ARTIFACT\n",
      "    \u001b[32mPCoAResults\u001b[0m           PCoA matrix computed from unweighted UniFrac\n",
      "                          distances between samples.                \u001b[35m[required]\u001b[0m\n",
      "  \u001b[94m\u001b[4m--o-weighted-unifrac-pcoa-results\u001b[0m ARTIFACT\n",
      "    \u001b[32mPCoAResults\u001b[0m           PCoA matrix computed from weighted UniFrac\n",
      "                          distances between samples.                \u001b[35m[required]\u001b[0m\n",
      "  \u001b[94m\u001b[4m--o-jaccard-pcoa-results\u001b[0m ARTIFACT\n",
      "    \u001b[32mPCoAResults\u001b[0m           PCoA matrix computed from Jaccard distances between\n",
      "                          samples.                                  \u001b[35m[required]\u001b[0m\n",
      "  \u001b[94m\u001b[4m--o-bray-curtis-pcoa-results\u001b[0m ARTIFACT\n",
      "    \u001b[32mPCoAResults\u001b[0m           PCoA matrix computed from Bray-Curtis distances\n",
      "                          between samples.                          \u001b[35m[required]\u001b[0m\n",
      "  \u001b[94m\u001b[4m--o-unweighted-unifrac-emperor\u001b[0m VISUALIZATION\n",
      "                          Emperor plot of the PCoA matrix computed from\n",
      "                          unweighted UniFrac.                       \u001b[35m[required]\u001b[0m\n",
      "  \u001b[94m\u001b[4m--o-weighted-unifrac-emperor\u001b[0m VISUALIZATION\n",
      "                          Emperor plot of the PCoA matrix computed from\n",
      "                          weighted UniFrac.                         \u001b[35m[required]\u001b[0m\n",
      "  \u001b[94m\u001b[4m--o-jaccard-emperor\u001b[0m VISUALIZATION\n",
      "                          Emperor plot of the PCoA matrix computed from\n",
      "                          Jaccard.                                  \u001b[35m[required]\u001b[0m\n",
      "  \u001b[94m\u001b[4m--o-bray-curtis-emperor\u001b[0m VISUALIZATION\n",
      "                          Emperor plot of the PCoA matrix computed from\n",
      "                          Bray-Curtis.                              \u001b[35m[required]\u001b[0m\n",
      "\u001b[1mMiscellaneous\u001b[0m:\n",
      "  \u001b[94m--output-dir\u001b[0m PATH       Output unspecified results to a directory\n",
      "  \u001b[94m--verbose\u001b[0m / \u001b[94m--quiet\u001b[0m     Display verbose output to stdout and/or stderr\n",
      "                          during execution of this action. Or silence output\n",
      "                          if execution is successful (silence is golden).\n",
      "  \u001b[94m--example-data\u001b[0m PATH     Write example data and exit.\n",
      "  \u001b[94m--citations\u001b[0m             Show citations and exit.\n",
      "  \u001b[94m--help\u001b[0m                  Show this message and exit.\n",
      "(qiime2-2023.2) \n"
     ]
    },
    {
     "ename": "",
     "evalue": "1",
     "output_type": "error",
     "traceback": []
    }
   ],
   "source": [
    "qiime diversity core-metrics-phylogenetic --help"
   ]
  },
  {
   "cell_type": "code",
   "execution_count": 12,
   "id": "e60cd30d",
   "metadata": {
    "tags": []
   },
   "outputs": [
    {
     "name": "stdout",
     "output_type": "stream",
     "text": [
      "\u001b[32mSaved FeatureTable[Frequency] to: metrics/rarefied_table.qza\u001b[0m\n",
      "\u001b[32mSaved SampleData[AlphaDiversity] to: metrics/faith_pd_vector.qza\u001b[0m\n",
      "\u001b[32mSaved SampleData[AlphaDiversity] to: metrics/observed_features_vector.qza\u001b[0m\n",
      "\u001b[32mSaved SampleData[AlphaDiversity] to: metrics/shannon_vector.qza\u001b[0m\n",
      "\u001b[32mSaved SampleData[AlphaDiversity] to: metrics/evenness_vector.qza\u001b[0m\n",
      "\u001b[32mSaved DistanceMatrix to: metrics/unweighted_unifrac_distance_matrix.qza\u001b[0m\n",
      "\u001b[32mSaved DistanceMatrix to: metrics/weighted_unifrac_distance_matrix.qza\u001b[0m\n",
      "\u001b[32mSaved DistanceMatrix to: metrics/jaccard_distance_matrix.qza\u001b[0m\n",
      "\u001b[32mSaved DistanceMatrix to: metrics/bray_curtis_distance_matrix.qza\u001b[0m\n",
      "\u001b[32mSaved PCoAResults to: metrics/unweighted_unifrac_pcoa_results.qza\u001b[0m\n",
      "\u001b[32mSaved PCoAResults to: metrics/weighted_unifrac_pcoa_results.qza\u001b[0m\n",
      "\u001b[32mSaved PCoAResults to: metrics/jaccard_pcoa_results.qza\u001b[0m\n",
      "\u001b[32mSaved PCoAResults to: metrics/bray_curtis_pcoa_results.qza\u001b[0m\n",
      "\u001b[32mSaved Visualization to: metrics/unweighted_unifrac_emperor.qzv\u001b[0m\n",
      "\u001b[32mSaved Visualization to: metrics/weighted_unifrac_emperor.qzv\u001b[0m\n",
      "\u001b[32mSaved Visualization to: metrics/jaccard_emperor.qzv\u001b[0m\n",
      "\u001b[32mSaved Visualization to: metrics/bray_curtis_emperor.qzv\u001b[0m\n",
      "\u001b[0m(qiime2-2023.2) \n"
     ]
    },
    {
     "ename": "",
     "evalue": "1",
     "output_type": "error",
     "traceback": []
    }
   ],
   "source": [
    "qiime diversity core-metrics-phylogenetic \\\n",
    "  --i-phylogeny      phylo-rooted-tree.qza \\\n",
    "  --i-table          table.qza \\\n",
    "  --p-sampling-depth 1200 \\\n",
    "  --m-metadata-file  sample-metadata.tsv \\\n",
    "  --output-dir       metrics"
   ]
  },
  {
   "cell_type": "markdown",
   "id": "97e77532",
   "metadata": {},
   "source": [
    "The results appear in the diversity-core-metrics-results folder"
   ]
  },
  {
   "cell_type": "code",
   "execution_count": 14,
   "id": "fea95ca7",
   "metadata": {
    "tags": []
   },
   "outputs": [
    {
     "name": "stdout",
     "output_type": "stream",
     "text": [
      "bray_curtis_distance_matrix.qza\n",
      "bray_curtis_emperor.qzv\n",
      "bray_curtis_pcoa_results.qza\n",
      "evenness_vector.qza\n",
      "faith_pd_vector.qza\n",
      "jaccard_distance_matrix.qza\n",
      "jaccard_emperor.qzv\n",
      "jaccard_pcoa_results.qza\n",
      "observed_features_vector.qza\n",
      "rarefied_table.qza\n",
      "shannon_vector.qza\n",
      "unweighted_unifrac_distance_matrix.qza\n",
      "unweighted_unifrac_emperor.qzv\n",
      "unweighted_unifrac_pcoa_results.qza\n",
      "weighted_unifrac_distance_matrix.qza\n",
      "weighted_unifrac_emperor.qzv\n",
      "weighted_unifrac_pcoa_results.qza\n",
      "(qiime2-2023.2) \n"
     ]
    },
    {
     "ename": "",
     "evalue": "1",
     "output_type": "error",
     "traceback": []
    }
   ],
   "source": [
    "ls -1 metrics"
   ]
  },
  {
   "cell_type": "markdown",
   "id": "729c4a42",
   "metadata": {},
   "source": [
    "The visualizable ones:\n",
    "\n",
    "- [metrics/bray_curtis_emperor.qzv](https://view.qiime2.org/?src=https%3A%2F%2Fdocs.qiime2.org%2F2023.2%2Fdata%2Ftutorials%2Fmoving-pictures%2Fcore-metrics-results%2Fbray_curtis_emperor.qzv)\n",
    "- [metrics/jaccard_emperor.qzv](https://view.qiime2.org/?src=https%3A%2F%2Fdocs.qiime2.org%2F2023.2%2Fdata%2Ftutorials%2Fmoving-pictures%2Fcore-metrics-results%2Fjaccard_emperor.qzv)\n",
    "- [metrics/unweighted_unifrac_emperor.qzv](https://view.qiime2.org/?src=https%3A%2F%2Fdocs.qiime2.org%2F2023.2%2Fdata%2Ftutorials%2Fmoving-pictures%2Fcore-metrics-results%2Funweighted_unifrac_emperor.qzv)\n",
    "- [metrics/weighted_unifrac_emperor.qzv](https://view.qiime2.org/?src=https%3A%2F%2Fdocs.qiime2.org%2F2023.2%2Fdata%2Ftutorials%2Fmoving-pictures%2Fcore-metrics-results%2Fweighted_unifrac_emperor.qzv)"
   ]
  },
  {
   "cell_type": "markdown",
   "id": "e64a3942",
   "metadata": {},
   "source": [
    "## 4.3 Alpha diversity"
   ]
  },
  {
   "cell_type": "code",
   "execution_count": 16,
   "id": "f270abe9",
   "metadata": {
    "tags": []
   },
   "outputs": [
    {
     "name": "stdout",
     "output_type": "stream",
     "text": [
      "(qiime2-2023.2) \n",
      "\u001b[32mSaved Visualization to: metrics/faith-pd-group-significance.qzv\u001b[0m\n",
      "\u001b[0m(qiime2-2023.2) \n"
     ]
    },
    {
     "ename": "",
     "evalue": "1",
     "output_type": "error",
     "traceback": []
    }
   ],
   "source": [
    "# Faith\n",
    "qiime diversity alpha-group-significance \\\n",
    "  --i-alpha-diversity metrics/faith_pd_vector.qza \\\n",
    "  --m-metadata-file   sample-metadata.tsv \\\n",
    "  --o-visualization   metrics/faith-pd-group-significance.qzv"
   ]
  },
  {
   "cell_type": "code",
   "execution_count": 17,
   "id": "ae7d9e86",
   "metadata": {},
   "outputs": [
    {
     "name": "stdout",
     "output_type": "stream",
     "text": [
      "(qiime2-2023.2) \n",
      "\u001b[32mSaved Visualization to: metrics/evenness-group-significance.qzv\u001b[0m\n",
      "\u001b[0m(qiime2-2023.2) \n"
     ]
    },
    {
     "ename": "",
     "evalue": "1",
     "output_type": "error",
     "traceback": []
    }
   ],
   "source": [
    "# evenness\n",
    "qiime diversity alpha-group-significance \\\n",
    "  --i-alpha-diversity metrics/evenness_vector.qza \\\n",
    "  --m-metadata-file   sample-metadata.tsv \\\n",
    "  --o-visualization   metrics/evenness-group-significance.qzv"
   ]
  },
  {
   "cell_type": "markdown",
   "id": "30aa3c5a",
   "metadata": {},
   "source": [
    "- [metrics/faith-pd-group-significance.qzv](https://view.qiime2.org/?src=https%3A%2F%2Fdocs.qiime2.org%2F2023.2%2Fdata%2Ftutorials%2Fmoving-pictures%2Fcore-metrics-results%2Ffaith-pd-group-significance.qzv)\n",
    "- [metrics/evenness-group-significance.qzv](https://view.qiime2.org/?src=https%3A%2F%2Fdocs.qiime2.org%2F2023.2%2Fdata%2Ftutorials%2Fmoving-pictures%2Fcore-metrics-results%2Fevenness-group-significance.qzv)"
   ]
  },
  {
   "cell_type": "markdown",
   "id": "be4d79b6",
   "metadata": {},
   "source": [
    "## 4.4 Beta diversity"
   ]
  },
  {
   "cell_type": "code",
   "execution_count": 18,
   "id": "7b7f19a4",
   "metadata": {
    "tags": []
   },
   "outputs": [
    {
     "name": "stdout",
     "output_type": "stream",
     "text": [
      "\u001b[32mSaved Visualization to: metrics/unweighted-unifrac-body-site-significance.qzv\u001b[0m\n",
      "\u001b[0m(qiime2-2023.2) \n"
     ]
    },
    {
     "ename": "",
     "evalue": "1",
     "output_type": "error",
     "traceback": []
    }
   ],
   "source": [
    "qiime diversity beta-group-significance \\\n",
    "  --i-distance-matrix metrics/unweighted_unifrac_distance_matrix.qza \\\n",
    "  --m-metadata-file   sample-metadata.tsv \\\n",
    "  --m-metadata-column body-site \\\n",
    "  --o-visualization   metrics/unweighted-unifrac-body-site-significance.qzv \\\n",
    "  --p-pairwise"
   ]
  },
  {
   "cell_type": "code",
   "execution_count": 19,
   "id": "5770b99f",
   "metadata": {
    "tags": []
   },
   "outputs": [
    {
     "name": "stdout",
     "output_type": "stream",
     "text": [
      "\u001b[32mSaved Visualization to: metrics/unweighted-unifrac-subject-group-significance.qzv\u001b[0m\n",
      "\u001b[0m(qiime2-2023.2) \n"
     ]
    },
    {
     "ename": "",
     "evalue": "1",
     "output_type": "error",
     "traceback": []
    }
   ],
   "source": [
    "qiime diversity beta-group-significance \\\n",
    "  --i-distance-matrix metrics/unweighted_unifrac_distance_matrix.qza \\\n",
    "  --m-metadata-file   sample-metadata.tsv \\\n",
    "  --m-metadata-column subject \\\n",
    "  --o-visualization   metrics/unweighted-unifrac-subject-group-significance.qzv \\\n",
    "  --p-pairwise"
   ]
  },
  {
   "cell_type": "markdown",
   "id": "342c4012",
   "metadata": {},
   "source": [
    "- [metrics/unweighted-unifrac-body-site-significance.qzv](https://view.qiime2.org/?src=https%3A%2F%2Fdocs.qiime2.org%2F2023.2%2Fdata%2Ftutorials%2Fmoving-pictures%2Fcore-metrics-results%2Funweighted-unifrac-body-site-significance.qzv)\n",
    "- [metrics/unweighted-unifrac-subject-group-significance.qzv](https://view.qiime2.org/?src=https%3A%2F%2Fdocs.qiime2.org%2F2023.2%2Fdata%2Ftutorials%2Fmoving-pictures%2Fcore-metrics-results%2Funweighted-unifrac-subject-group-significance.qzv)"
   ]
  },
  {
   "cell_type": "markdown",
   "id": "7db2ec09",
   "metadata": {},
   "source": [
    "Let's do the emperor plots"
   ]
  },
  {
   "cell_type": "code",
   "execution_count": 20,
   "id": "aaca9c26",
   "metadata": {
    "tags": []
   },
   "outputs": [
    {
     "name": "stdout",
     "output_type": "stream",
     "text": [
      "\u001b[32mSaved Visualization to: metrics/unweighted-unifrac-emperor-days-since-experiment-start.qzv\u001b[0m\n",
      "\u001b[0m(qiime2-2023.2) \n"
     ]
    },
    {
     "ename": "",
     "evalue": "1",
     "output_type": "error",
     "traceback": []
    }
   ],
   "source": [
    "qiime emperor plot \\\n",
    "  --i-pcoa          metrics/unweighted_unifrac_pcoa_results.qza \\\n",
    "  --m-metadata-file sample-metadata.tsv \\\n",
    "  --p-custom-axes   days-since-experiment-start \\\n",
    "  --o-visualization metrics/unweighted-unifrac-emperor-days-since-experiment-start.qzv"
   ]
  },
  {
   "cell_type": "code",
   "execution_count": 21,
   "id": "abbc9319",
   "metadata": {
    "tags": []
   },
   "outputs": [
    {
     "name": "stdout",
     "output_type": "stream",
     "text": [
      "\u001b[32mSaved Visualization to: metrics/bray-curtis-emperor-days-since-experiment-start.qzv\u001b[0m\n",
      "\u001b[0m(qiime2-2023.2) \n"
     ]
    },
    {
     "ename": "",
     "evalue": "1",
     "output_type": "error",
     "traceback": []
    }
   ],
   "source": [
    "qiime emperor plot \\\n",
    "  --i-pcoa          metrics/bray_curtis_pcoa_results.qza \\\n",
    "  --m-metadata-file sample-metadata.tsv \\\n",
    "  --p-custom-axes   days-since-experiment-start \\\n",
    "  --o-visualization metrics/bray-curtis-emperor-days-since-experiment-start.qzv"
   ]
  },
  {
   "cell_type": "markdown",
   "id": "22ef49c1",
   "metadata": {},
   "source": [
    "- [metrics/unweighted-unifrac-emperor-days-since-experiment-start.qzv](https://view.qiime2.org/?src=https%3A%2F%2Fdocs.qiime2.org%2F2023.2%2Fdata%2Ftutorials%2Fmoving-pictures%2Fcore-metrics-results%2Fbray-curtis-emperor-days-since-experiment-start.qzv)\n",
    "- [metrics/bray-curtis-emperor-days-since-experiment-start.qzv](https://view.qiime2.org/?src=https%3A%2F%2Fdocs.qiime2.org%2F2023.2%2Fdata%2Ftutorials%2Fmoving-pictures%2Fcore-metrics-results%2Funweighted-unifrac-emperor-days-since-experiment-start.qzv)"
   ]
  },
  {
   "cell_type": "markdown",
   "id": "c36340a2",
   "metadata": {},
   "source": [
    "## 4.5 Alpha rarefaction"
   ]
  },
  {
   "cell_type": "code",
   "execution_count": 28,
   "id": "651b70d3",
   "metadata": {},
   "outputs": [
    {
     "name": "stdout",
     "output_type": "stream",
     "text": [
      "\u001b[32mSaved Visualization to: metrics/alpha-rarefaction.qzv\u001b[0m\n",
      "\u001b[0m(qiime2-2023.2) \n"
     ]
    },
    {
     "ename": "",
     "evalue": "1",
     "output_type": "error",
     "traceback": []
    }
   ],
   "source": [
    "qiime diversity alpha-rarefaction \\\n",
    "    --i-table         table.qza \\\n",
    "    --i-phylogeny     phylo-rooted-tree.qza \\\n",
    "    --p-max-depth     4000 \\\n",
    "    --m-metadata-file sample-metadata.tsv \\\n",
    "    --o-visualization metrics/alpha-rarefaction.qzv"
   ]
  },
  {
   "cell_type": "markdown",
   "id": "5b12a839",
   "metadata": {},
   "source": [
    "- [alpha_rarefaction.qzv](https://view.qiime2.org/?src=https%3A%2F%2Fdocs.qiime2.org%2F2023.2%2Fdata%2Ftutorials%2Fmoving-pictures%2Falpha-rarefaction.qzv)"
   ]
  },
  {
   "cell_type": "code",
   "execution_count": null,
   "id": "b9462c51",
   "metadata": {},
   "outputs": [],
   "source": []
  },
  {
   "cell_type": "code",
   "execution_count": null,
   "id": "fa5e56ff",
   "metadata": {},
   "outputs": [],
   "source": []
  },
  {
   "cell_type": "code",
   "execution_count": null,
   "id": "dc91cf16",
   "metadata": {},
   "outputs": [],
   "source": []
  },
  {
   "cell_type": "code",
   "execution_count": null,
   "id": "55db9273",
   "metadata": {},
   "outputs": [],
   "source": []
  },
  {
   "cell_type": "code",
   "execution_count": null,
   "id": "e2085fe5",
   "metadata": {},
   "outputs": [],
   "source": []
  },
  {
   "cell_type": "code",
   "execution_count": null,
   "id": "8b94e38e",
   "metadata": {},
   "outputs": [],
   "source": []
  },
  {
   "cell_type": "code",
   "execution_count": null,
   "id": "29e96fbe",
   "metadata": {},
   "outputs": [],
   "source": []
  },
  {
   "cell_type": "code",
   "execution_count": null,
   "id": "83e644de",
   "metadata": {},
   "outputs": [],
   "source": []
  },
  {
   "cell_type": "code",
   "execution_count": null,
   "id": "b87ec35c",
   "metadata": {},
   "outputs": [],
   "source": []
  },
  {
   "cell_type": "code",
   "execution_count": null,
   "id": "e7ad6462",
   "metadata": {},
   "outputs": [],
   "source": []
  }
 ],
 "metadata": {
  "kernelspec": {
   "display_name": "Bash",
   "language": "bash",
   "name": "bash"
  },
  "language_info": {
   "codemirror_mode": "shell",
   "file_extension": ".sh",
   "mimetype": "text/x-sh",
   "name": "bash"
  }
 },
 "nbformat": 4,
 "nbformat_minor": 5
}
