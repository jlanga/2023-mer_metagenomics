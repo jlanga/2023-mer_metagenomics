{
 "cells": [
  {
   "cell_type": "markdown",
   "id": "621e72af",
   "metadata": {},
   "source": [
    "# 3. Diversity"
   ]
  },
  {
   "cell_type": "markdown",
   "id": "2e7b0a76-a1ed-45ae-8693-2941d5f84f63",
   "metadata": {
    "tags": []
   },
   "source": [
    "(Remember to unpause the previous notebook)"
   ]
  },
  {
   "cell_type": "markdown",
   "id": "0a83aa8b-376d-4634-962a-af0b68091819",
   "metadata": {},
   "source": [
    "So far, we have:\n",
    "- separated and cleaned our samples, and \n",
    "- determined which representative sequences are in our sample and how many"
   ]
  },
  {
   "cell_type": "markdown",
   "id": "00cb24e6-0d96-4a9f-bce4-2896f034016a",
   "metadata": {},
   "source": [
    "This notebook tries to figure out how diverse our samples are"
   ]
  },
  {
   "cell_type": "markdown",
   "id": "5647b935",
   "metadata": {},
   "source": [
    "<img src=\"../assets/img/qiime_map.svg\"  width=\"1200\" height=\"600\">"
   ]
  },
  {
   "cell_type": "markdown",
   "id": "dfbea5d3-ba68-4ef6-8227-6ef244b8950b",
   "metadata": {},
   "source": [
    "We start with three files from the previous notebook:\n",
    "- `sample-metadata.tsv`: experimental design data from our samples\n",
    "- `rep-seqs.qza`: the actual sequences of our OTU/ASVs\n",
    "- `table.qza`: the frequencies of each OTU and sample."
   ]
  },
  {
   "cell_type": "markdown",
   "id": "90efab28",
   "metadata": {},
   "source": [
    "## 4. Diversity analysis"
   ]
  },
  {
   "cell_type": "markdown",
   "id": "7211a847",
   "metadata": {},
   "source": [
    "We want to know:\n",
    "- the diversity of each sample (alpha diversity)\n",
    "- and how diverse are each pair of samples (beta diversity)"
   ]
  },
  {
   "cell_type": "markdown",
   "id": "13cae5b0",
   "metadata": {},
   "source": [
    "But before doing these analyses, we need to make all the sequences comparable."
   ]
  },
  {
   "cell_type": "markdown",
   "id": "f9f529aa",
   "metadata": {},
   "source": [
    "### 4.1 Alignment and tree construction"
   ]
  },
  {
   "cell_type": "markdown",
   "id": "1100c7ee",
   "metadata": {},
   "source": [
    "To do so we are going to:\n",
    "- align all the sequences\n",
    "- compute their phylogenetic tree"
   ]
  },
  {
   "cell_type": "markdown",
   "id": "ef654858",
   "metadata": {},
   "source": [
    "Thankfully, we can do it in one go with `qiime phylogeny`"
   ]
  },
  {
   "cell_type": "code",
   "execution_count": null,
   "id": "226f459e",
   "metadata": {
    "tags": []
   },
   "outputs": [],
   "source": [
    "qiime phylogeny --help"
   ]
  },
  {
   "cell_type": "markdown",
   "id": "51d08dae",
   "metadata": {},
   "source": [
    "There are three methods to align and build the tree:\n",
    "- MAFFT + FastTree (fastest)  <- this\n",
    "- MAFFT + IQTREE\n",
    "- MAFFT + RAxML (most precise)"
   ]
  },
  {
   "cell_type": "markdown",
   "id": "9647af50",
   "metadata": {},
   "source": [
    "Let's see the help to know what we need to give it in order to work:"
   ]
  },
  {
   "cell_type": "code",
   "execution_count": null,
   "id": "756b6845",
   "metadata": {
    "tags": []
   },
   "outputs": [],
   "source": [
    "qiime phylogeny align-to-tree-mafft-fasttree --help"
   ]
  },
  {
   "cell_type": "code",
   "execution_count": null,
   "id": "699ca7f0",
   "metadata": {
    "tags": []
   },
   "outputs": [],
   "source": [
    "qiime phylogeny align-to-tree-mafft-fasttree \\\n",
    "    --i-sequences        rep-seqs.qza \\\n",
    "    --o-alignment        phylo-aligned-seqs.qza \\\n",
    "    --o-masked-alignment phylo-masked-aligned-seqs.qza \\\n",
    "    --o-tree             phylo-unrooted-tree.qza \\\n",
    "    --o-rooted-tree      phylo-rooted-tree.qza"
   ]
  },
  {
   "cell_type": "markdown",
   "id": "c4e05b67",
   "metadata": {},
   "source": [
    "All the files are artifacts, so there is nothing to see :("
   ]
  },
  {
   "cell_type": "markdown",
   "id": "4234eb5e",
   "metadata": {},
   "source": [
    "## 4.2 Core metrics"
   ]
  },
  {
   "cell_type": "markdown",
   "id": "ecd78088",
   "metadata": {},
   "source": [
    "Also, the alpha and beta diversities are computed in one single command. It is done with `qiime diversity core-metrics-phylogenetic`:"
   ]
  },
  {
   "cell_type": "markdown",
   "id": "ae837323-e341-4976-b9d1-b62eafac7220",
   "metadata": {},
   "source": [
    "Briefly:\n",
    "- alpha: individual diversity of each sample\n",
    "- beta: comparison of diversity between two samples"
   ]
  },
  {
   "cell_type": "code",
   "execution_count": null,
   "id": "d0232e77",
   "metadata": {
    "tags": []
   },
   "outputs": [],
   "source": [
    "qiime diversity core-metrics-phylogenetic --help"
   ]
  },
  {
   "cell_type": "markdown",
   "id": "291e5cda-0a99-4802-afd8-8dd87be5063a",
   "metadata": {
    "tags": []
   },
   "source": [
    "Remember [table.qzv](https://view.qiime2.org/visualization/?type=html&src=https%3A%2F%2Fdocs.qiime2.org%2F2023.2%2Fdata%2Ftutorials%2Fmoving-pictures%2Ftable.qzv)"
   ]
  },
  {
   "cell_type": "markdown",
   "id": "3cdc2cc1-7fe5-4f09-9cb9-c019a282fd3e",
   "metadata": {},
   "source": [
    "Here we set the `--p-sampling-depth` parameter to 1103. This value was chosen based on the number of sequences in the L3S313 sample because it’s close to the number of sequences in the next few samples that have higher sequence counts, and because it is considerably higher (relatively) than the number of sequences in the samples that have fewer sequences. "
   ]
  },
  {
   "cell_type": "code",
   "execution_count": null,
   "id": "e60cd30d",
   "metadata": {
    "tags": []
   },
   "outputs": [],
   "source": [
    "qiime diversity core-metrics-phylogenetic \\\n",
    "  --i-phylogeny      phylo-rooted-tree.qza \\\n",
    "  --i-table          table.qza \\\n",
    "  --p-sampling-depth 1103 \\\n",
    "  --m-metadata-file  sample-metadata.tsv \\\n",
    "  --output-dir       metrics"
   ]
  },
  {
   "cell_type": "markdown",
   "id": "97e77532",
   "metadata": {},
   "source": [
    "The results appear in the diversity-core-metrics-results folder"
   ]
  },
  {
   "cell_type": "markdown",
   "id": "729c4a42",
   "metadata": {},
   "source": [
    "The visualizable ones:\n",
    "\n",
    "- [metrics/bray_curtis_emperor.qzv](https://view.qiime2.org/?src=https%3A%2F%2Fdocs.qiime2.org%2F2023.2%2Fdata%2Ftutorials%2Fmoving-pictures%2Fcore-metrics-results%2Fbray_curtis_emperor.qzv)\n",
    "- [metrics/jaccard_emperor.qzv](https://view.qiime2.org/?src=https%3A%2F%2Fdocs.qiime2.org%2F2023.2%2Fdata%2Ftutorials%2Fmoving-pictures%2Fcore-metrics-results%2Fjaccard_emperor.qzv)\n",
    "- [metrics/unweighted_unifrac_emperor.qzv](https://view.qiime2.org/?src=https%3A%2F%2Fdocs.qiime2.org%2F2023.2%2Fdata%2Ftutorials%2Fmoving-pictures%2Fcore-metrics-results%2Funweighted_unifrac_emperor.qzv)\n",
    "- [metrics/weighted_unifrac_emperor.qzv](https://view.qiime2.org/?src=https%3A%2F%2Fdocs.qiime2.org%2F2023.2%2Fdata%2Ftutorials%2Fmoving-pictures%2Fcore-metrics-results%2Fweighted_unifrac_emperor.qzv)"
   ]
  },
  {
   "cell_type": "markdown",
   "id": "72fd6e6e-e453-41fb-984d-57d376c7c4b8",
   "metadata": {
    "tags": []
   },
   "source": [
    "For every distance, we have a clustering result:\n",
    "- Bray-Curtis\n",
    "- Jaccard\n",
    "- Unweighted UNIFRAC\n",
    "- Weighted UNIFRAC"
   ]
  },
  {
   "cell_type": "markdown",
   "id": "e64a3942",
   "metadata": {},
   "source": [
    "## 4.3 Alpha diversity"
   ]
  },
  {
   "cell_type": "markdown",
   "id": "1d20e0b3-5522-4f49-b672-58d74b442d90",
   "metadata": {},
   "source": [
    "Alpha diversities come in two flavors: \n",
    "- Faith Phylogenetic Diversity (richness)\n",
    "- Evennes.\n",
    "We compute and visualize both:"
   ]
  },
  {
   "cell_type": "code",
   "execution_count": null,
   "id": "f270abe9",
   "metadata": {
    "tags": []
   },
   "outputs": [],
   "source": [
    "# Richness ~ faith phylogenetic diversity\n",
    "qiime diversity alpha-group-significance \\\n",
    "  --i-alpha-diversity metrics/faith_pd_vector.qza \\\n",
    "  --m-metadata-file   sample-metadata.tsv \\\n",
    "  --o-visualization   metrics/faith-pd-group-significance.qzv"
   ]
  },
  {
   "cell_type": "code",
   "execution_count": null,
   "id": "ae7d9e86",
   "metadata": {},
   "outputs": [],
   "source": [
    "# evenness\n",
    "qiime diversity alpha-group-significance \\\n",
    "  --i-alpha-diversity metrics/evenness_vector.qza \\\n",
    "  --m-metadata-file   sample-metadata.tsv \\\n",
    "  --o-visualization   metrics/evenness-group-significance.qzv"
   ]
  },
  {
   "cell_type": "markdown",
   "id": "30aa3c5a",
   "metadata": {},
   "source": [
    "- [metrics/faith-pd-group-significance.qzv](https://view.qiime2.org/?src=https%3A%2F%2Fdocs.qiime2.org%2F2023.2%2Fdata%2Ftutorials%2Fmoving-pictures%2Fcore-metrics-results%2Ffaith-pd-group-significance.qzv)\n",
    "- [metrics/evenness-group-significance.qzv](https://view.qiime2.org/?src=https%3A%2F%2Fdocs.qiime2.org%2F2023.2%2Fdata%2Ftutorials%2Fmoving-pictures%2Fcore-metrics-results%2Fevenness-group-significance.qzv)"
   ]
  },
  {
   "cell_type": "markdown",
   "id": "3aea1c2a-ec94-400f-8ee9-6513768e983d",
   "metadata": {
    "tags": []
   },
   "source": [
    "### Exercise"
   ]
  },
  {
   "cell_type": "markdown",
   "id": "5b2f4965-b8a3-4225-8605-17731bf48c09",
   "metadata": {},
   "source": [
    "**Note**: the Kruskal Wallis statitstical test checks if two or more samples come from the same distribution:\n",
    "- H high -> p low -> they are different\n",
    "- H low -> p high -> they are **not** different (!= equal)"
   ]
  },
  {
   "cell_type": "markdown",
   "id": "fe191ab5-adee-4123-ba97-e7df588bd7c3",
   "metadata": {},
   "source": [
    "- According to the Kruskal-Wallis test of all the samples, do they have the same or different **richness**?\n",
    "  - By body site?\n",
    "  - By subject?\n",
    "  - By antibiotic usage?"
   ]
  },
  {
   "cell_type": "code",
   "execution_count": null,
   "id": "539f6394-fa49-4b6a-b20a-033a67998420",
   "metadata": {},
   "outputs": [],
   "source": []
  },
  {
   "cell_type": "markdown",
   "id": "aae07e00-3bf0-4861-9e87-95bf2e6008f4",
   "metadata": {},
   "source": [
    "- According to the Kruskal-Wallis test of all the samples, do they have the same or different **evenness**?\n",
    "  - By body site?\n",
    "  - By subject?\n",
    "  - By antibiotic usage?"
   ]
  },
  {
   "cell_type": "code",
   "execution_count": null,
   "id": "4577c260-319f-4189-95fe-f8dcc203da2b",
   "metadata": {},
   "outputs": [],
   "source": []
  },
  {
   "cell_type": "markdown",
   "id": "be4d79b6",
   "metadata": {},
   "source": [
    "## 4.4 Beta diversity"
   ]
  },
  {
   "cell_type": "markdown",
   "id": "3dbd7a2d-b6e7-4f87-b291-2be4c525034e",
   "metadata": {},
   "source": [
    "We are going to analyze the sample composition using PERMANOVA tests. The purpose is to compare distances between groups of samples (body parts) and tell if they are different or not."
   ]
  },
  {
   "cell_type": "markdown",
   "id": "74020c6f-0dd5-492a-8427-76f5240ad869",
   "metadata": {},
   "source": [
    "We should expect to see that the left and right hands are similar, that they are far away from gut, and that the tongue sits in beween"
   ]
  },
  {
   "cell_type": "markdown",
   "id": "c285548d-9b61-4757-83a9-48cc938c7a0e",
   "metadata": {},
   "source": [
    "We are doing two tests: by body site and subject:"
   ]
  },
  {
   "cell_type": "code",
   "execution_count": null,
   "id": "7b7f19a4",
   "metadata": {
    "tags": []
   },
   "outputs": [],
   "source": [
    "qiime diversity beta-group-significance \\\n",
    "  --i-distance-matrix metrics/unweighted_unifrac_distance_matrix.qza \\\n",
    "  --m-metadata-file   sample-metadata.tsv \\\n",
    "  --m-metadata-column body-site \\\n",
    "  --o-visualization   metrics/unweighted-unifrac-body-site-significance.qzv \\\n",
    "  --p-pairwise"
   ]
  },
  {
   "cell_type": "code",
   "execution_count": null,
   "id": "5770b99f",
   "metadata": {
    "tags": []
   },
   "outputs": [],
   "source": [
    "qiime diversity beta-group-significance \\\n",
    "  --i-distance-matrix metrics/unweighted_unifrac_distance_matrix.qza \\\n",
    "  --m-metadata-file   sample-metadata.tsv \\\n",
    "  --m-metadata-column subject \\\n",
    "  --o-visualization   metrics/unweighted-unifrac-subject-group-significance.qzv \\\n",
    "  --p-pairwise"
   ]
  },
  {
   "cell_type": "markdown",
   "id": "d08ebe48-884c-4dd6-9864-7fad251399cc",
   "metadata": {},
   "source": [
    "- [metrics/unweighted-unifrac-body-site-significance.qzv](https://view.qiime2.org/?src=https%3A%2F%2Fdocs.qiime2.org%2F2023.2%2Fdata%2Ftutorials%2Fmoving-pictures%2Fcore-metrics-results%2Funweighted-unifrac-body-site-significance.qzv)\n",
    "- [metrics/unweighted-unifrac-subject-group-significance.qzv](https://view.qiime2.org/?src=https%3A%2F%2Fdocs.qiime2.org%2F2023.2%2Fdata%2Ftutorials%2Fmoving-pictures%2Fcore-metrics-results%2Funweighted-unifrac-subject-group-significance.qzv)"
   ]
  },
  {
   "cell_type": "markdown",
   "id": "fdcbe80f-71f8-492e-8bf2-c2f8ce3eb1cd",
   "metadata": {},
   "source": [
    "### Exercise"
   ]
  },
  {
   "cell_type": "markdown",
   "id": "40656357-9778-4a22-80f2-a87219a1bebf",
   "metadata": {},
   "source": [
    "- Are there differences between body sites?"
   ]
  },
  {
   "cell_type": "markdown",
   "id": "cdd5ffee-365c-468f-8331-79739b1b4f2f",
   "metadata": {},
   "source": []
  },
  {
   "cell_type": "markdown",
   "id": "e448ab85-d696-4145-972e-dbeffd09aef7",
   "metadata": {},
   "source": [
    "- Are there differences between body sites?"
   ]
  },
  {
   "cell_type": "markdown",
   "id": "4145c4bc-0e52-466b-88a7-55147e62afd3",
   "metadata": {},
   "source": []
  },
  {
   "cell_type": "markdown",
   "id": "3c486575-acae-4e25-af3f-2bd645e986a0",
   "metadata": {},
   "source": [
    "Instead of using statistical tests and p-values to see the differences, we can use the `emperor` plugin to plot the samples in 3D space."
   ]
  },
  {
   "cell_type": "code",
   "execution_count": null,
   "id": "aaca9c26",
   "metadata": {
    "tags": []
   },
   "outputs": [],
   "source": [
    "qiime emperor plot \\\n",
    "  --i-pcoa          metrics/unweighted_unifrac_pcoa_results.qza \\\n",
    "  --m-metadata-file sample-metadata.tsv \\\n",
    "  --p-custom-axes   days-since-experiment-start \\\n",
    "  --o-visualization metrics/unweighted-unifrac-emperor-days-since-experiment-start.qzv"
   ]
  },
  {
   "cell_type": "code",
   "execution_count": null,
   "id": "abbc9319",
   "metadata": {
    "tags": []
   },
   "outputs": [],
   "source": [
    "qiime emperor plot \\\n",
    "  --i-pcoa          metrics/bray_curtis_pcoa_results.qza \\\n",
    "  --m-metadata-file sample-metadata.tsv \\\n",
    "  --p-custom-axes   days-since-experiment-start \\\n",
    "  --o-visualization metrics/bray-curtis-emperor-days-since-experiment-start.qzv"
   ]
  },
  {
   "cell_type": "markdown",
   "id": "994ed2fd-36d1-4654-b146-f105b5291ce4",
   "metadata": {},
   "source": [
    "- [metrics/unweighted-unifrac-emperor-days-since-experiment-start.qzv](https://view.qiime2.org/?src=https%3A%2F%2Fdocs.qiime2.org%2F2023.2%2Fdata%2Ftutorials%2Fmoving-pictures%2Fcore-metrics-results%2Fbray-curtis-emperor-days-since-experiment-start.qzv)\n",
    "- [metrics/bray-curtis-emperor-days-since-experiment-start.qzv](https://view.qiime2.org/?src=https%3A%2F%2Fdocs.qiime2.org%2F2023.2%2Fdata%2Ftutorials%2Fmoving-pictures%2Fcore-metrics-results%2Funweighted-unifrac-emperor-days-since-experiment-start.qzv)"
   ]
  },
  {
   "cell_type": "markdown",
   "id": "d222d92f-32d1-4952-87ae-379bc89f6c33",
   "metadata": {},
   "source": [
    "### Exercise"
   ]
  },
  {
   "cell_type": "markdown",
   "id": "98014ed8-0342-4c65-8d47-6b679e6968ca",
   "metadata": {},
   "source": [
    "- Do each body site follow their own progression?"
   ]
  },
  {
   "cell_type": "markdown",
   "id": "5630f56b-d9aa-4b02-bae6-edddc8d3e506",
   "metadata": {},
   "source": []
  },
  {
   "cell_type": "markdown",
   "id": "65f65d4d-1c49-476d-9b32-d06c861e5eb0",
   "metadata": {},
   "source": [
    "- Are the right and left hands simmilar?"
   ]
  },
  {
   "cell_type": "markdown",
   "id": "9006c82e-9216-47a0-a329-dc9e4e0772f2",
   "metadata": {},
   "source": []
  },
  {
   "cell_type": "markdown",
   "id": "8168ca0e-ae7d-42cb-af6f-e9222dc88869",
   "metadata": {},
   "source": [
    "- Do you notice something weird?"
   ]
  },
  {
   "cell_type": "markdown",
   "id": "6de252cb-74e9-4891-acdc-978a20cf6a8c",
   "metadata": {},
   "source": []
  },
  {
   "cell_type": "markdown",
   "id": "1deae72c-6d53-4824-9907-6e74a497311b",
   "metadata": {
    "tags": []
   },
   "source": [
    "## 4.5 Alpha rarefaction"
   ]
  },
  {
   "cell_type": "markdown",
   "id": "87d31db6-024d-466a-9a73-2f38ae0dae77",
   "metadata": {},
   "source": [
    "Sometimes you need to know if you have sequenced enough for every sample."
   ]
  },
  {
   "cell_type": "markdown",
   "id": "86c57f68-aef4-475c-9696-4c47a7fc0fc1",
   "metadata": {},
   "source": [
    "Rarefaction consists on doing the same analysis multiple times with different coverages"
   ]
  },
  {
   "cell_type": "markdown",
   "id": "1b41ed5b-0ca9-4c03-a59a-2be251f8c04c",
   "metadata": {},
   "source": [
    "In our case, we want to know if we have captured all the richness for every sample."
   ]
  },
  {
   "cell_type": "markdown",
   "id": "7de747e5-4c92-4306-a41d-31e86c7f9095",
   "metadata": {},
   "source": [
    "To do so, we run the alpha diversity function with 500 reads per sample, then 1000, them 1500, and so on, and plot the results:"
   ]
  },
  {
   "cell_type": "markdown",
   "id": "61f66104-b71d-4394-8368-6438eda6e25f",
   "metadata": {},
   "source": [
    "We will know that we have sequenced enough if we are getting the same diversity, i.e., the plot has plateaued."
   ]
  },
  {
   "cell_type": "code",
   "execution_count": null,
   "id": "651b70d3",
   "metadata": {},
   "outputs": [],
   "source": [
    "qiime diversity alpha-rarefaction \\\n",
    "    --i-table         table.qza \\\n",
    "    --i-phylogeny     phylo-rooted-tree.qza \\\n",
    "    --p-max-depth     12000 \\\n",
    "    --m-metadata-file sample-metadata.tsv \\\n",
    "    --o-visualization metrics/alpha-rarefaction.qzv"
   ]
  },
  {
   "cell_type": "markdown",
   "id": "65bbb616-aa3b-482f-871f-3910892addd5",
   "metadata": {},
   "source": [
    "- [alpha_rarefaction.qzv](https://view.qiime2.org/?src=https%3A%2F%2Fdocs.qiime2.org%2F2023.2%2Fdata%2Ftutorials%2Fmoving-pictures%2Falpha-rarefaction.qzv)"
   ]
  },
  {
   "cell_type": "markdown",
   "id": "88846a4c-cc71-4730-9e28-ecf4e06209ab",
   "metadata": {},
   "source": [
    "Do we reach a pleateau in all samples?"
   ]
  },
  {
   "cell_type": "code",
   "execution_count": null,
   "id": "0804cda1-8c13-438f-8d57-c93f67c15b10",
   "metadata": {},
   "outputs": [],
   "source": []
  },
  {
   "cell_type": "markdown",
   "id": "2f675dc4-a142-4a49-a4df-fdad9d46330d",
   "metadata": {},
   "source": [
    "What if we set the maximum depth to 12,000? "
   ]
  },
  {
   "cell_type": "code",
   "execution_count": null,
   "id": "f282be40-2202-4ac6-87b5-439f2b569de0",
   "metadata": {},
   "outputs": [],
   "source": []
  },
  {
   "cell_type": "markdown",
   "id": "27154819-16cb-493f-b4a1-7a70e080b0a9",
   "metadata": {},
   "source": [
    "## End of notebook"
   ]
  },
  {
   "cell_type": "code",
   "execution_count": null,
   "id": "68f3cbf9-5e00-455f-bebf-313403ac8e5d",
   "metadata": {
    "tags": []
   },
   "outputs": [],
   "source": [
    "pause"
   ]
  },
  {
   "cell_type": "markdown",
   "id": "99d28356-e5c4-49d0-9617-ddcdd079498f",
   "metadata": {
    "tags": []
   },
   "source": [
    "Click the stop button before continuing to the next notebook"
   ]
  }
 ],
 "metadata": {
  "kernelspec": {
   "display_name": "Bash",
   "language": "bash",
   "name": "bash"
  },
  "language_info": {
   "codemirror_mode": "shell",
   "file_extension": ".sh",
   "mimetype": "text/x-sh",
   "name": "bash"
  }
 },
 "nbformat": 4,
 "nbformat_minor": 5
}
