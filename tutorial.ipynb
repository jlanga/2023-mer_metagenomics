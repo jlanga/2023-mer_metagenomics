{
 "cells": [
  {
   "cell_type": "markdown",
   "metadata": {},
   "source": [
    "# Qiime2 tutorial"
   ]
  },
  {
   "cell_type": "markdown",
   "metadata": {},
   "source": [
    "## Jupyter notebooks"
   ]
  },
  {
   "cell_type": "markdown",
   "metadata": {},
   "source": [
    "![image.png](attachment:image.png)"
   ]
  },
  {
   "cell_type": "markdown",
   "metadata": {},
   "source": [
    "Instead of logging to a server or installing Linux and Qiime on your laptops, we are going to use notebooks in the cloud.\n",
    "\n",
    "Jupyter is a web app that allows to run code interactively on the cloud.\n",
    "\n",
    "I prepared the notebooks so that all the tools are already installed.\n",
    "\n",
    "Note that this is a free service provided by MyBinder, and that some limitations apply:\n",
    "\n",
    "- There is a limitation in the amount of comutation doable: 1h of computation.\n",
    "- After 10 min of inactivity, the notebook disconnects, and therefore you have to start the notebook again.\n",
    "- There is a time limit of 6 hours.\n",
    "\n",
    "So: save often, and if you need to take a break, type pause in any cell, and when you are ready, click on the stop button to resume."
   ]
  },
  {
   "cell_type": "markdown",
   "metadata": {},
   "source": [
    "Jupyter notebooks are composed of cells, blocks of text like this one, or blocks of code like the following one:"
   ]
  },
  {
   "cell_type": "code",
   "execution_count": 1,
   "metadata": {},
   "outputs": [
    {
     "name": "stdout",
     "output_type": "stream",
     "text": [
      "(qiime2-2023.2) \n"
     ]
    },
    {
     "ename": "",
     "evalue": "1",
     "output_type": "error",
     "traceback": []
    }
   ],
   "source": [
    "conda activate qiime2-2023.2"
   ]
  },
  {
   "cell_type": "code",
   "execution_count": null,
   "metadata": {
    "tags": []
   },
   "outputs": [],
   "source": [
    "echo Today is $(date)"
   ]
  },
  {
   "cell_type": "markdown",
   "metadata": {
    "tags": []
   },
   "source": [
    "To execute the cell above, either press Ctrl + Enter at the same time, or click the \"Play\" button in the top bar.\n",
    "\n",
    "!image of the top bar"
   ]
  },
  {
   "cell_type": "markdown",
   "metadata": {},
   "source": [
    "Text cells have a white background and code cells are grey.\n",
    "If you want to add notes to this notebook, select a cell, and then click on the + symbol on the top bar\n",
    "\n",
    "!insert image"
   ]
  },
  {
   "cell_type": "markdown",
   "metadata": {
    "tags": []
   },
   "source": [
    "To switch between text and code cells press the dropdown menu on the top bar and choose \"code\" or \"markdown\"\n",
    "\n",
    "!insert image"
   ]
  },
  {
   "cell_type": "markdown",
   "metadata": {},
   "source": [
    "The panel to the left shows the files of this tutorial. If you double click any of them, a new tab will open showing its content.\n",
    "\n",
    "!insert image"
   ]
  },
  {
   "cell_type": "markdown",
   "metadata": {},
   "source": [
    "Let's start with the tutorial!"
   ]
  },
  {
   "cell_type": "markdown",
   "metadata": {
    "tags": []
   },
   "source": [
    "## QIIME2"
   ]
  },
  {
   "cell_type": "markdown",
   "metadata": {
    "tags": []
   },
   "source": [
    "Qiime2 is a set of tools to analyze metabarcoding data from bacterial communities, from the raw reads that a genome sequencer produces to tables and plots ready for publication."
   ]
  },
  {
   "cell_type": "markdown",
   "metadata": {
    "tags": []
   },
   "source": [
    "The dataset that we are going to analyze is called \"Moving images\", from [Caporaso et al. (2011)](https://www.ncbi.nlm.nih.gov/pubmed/21624126)."
   ]
  },
  {
   "cell_type": "markdown",
   "metadata": {},
   "source": [
    "It contains metagenomic samples from:\n",
    "- 2 individuals\n",
    "- 4 different body sites\n",
    "- 5 different time points\n",
    "- before and after the application of antibiotics"
   ]
  },
  {
   "cell_type": "code",
   "execution_count": 2,
   "metadata": {},
   "outputs": [
    {
     "name": "stdout",
     "output_type": "stream",
     "text": [
      "(qiime2-2023.2) \n"
     ]
    },
    {
     "ename": "",
     "evalue": "1",
     "output_type": "error",
     "traceback": []
    }
   ],
   "source": [
    "export TZ=Europe/Madrid"
   ]
  },
  {
   "cell_type": "markdown",
   "metadata": {},
   "source": [
    "The data to analyze is composed of three files:\n",
    "- Sample metadata\n",
    "- Barcodes\n",
    "- Sequences"
   ]
  },
  {
   "cell_type": "markdown",
   "metadata": {},
   "source": [
    "Sample metadata is the information that you know of your samples:\n",
    "- The name you have given them.\n",
    "- Where and when were they taken.\n",
    "- Under what conditions."
   ]
  },
  {
   "cell_type": "code",
   "execution_count": 3,
   "metadata": {
    "tags": []
   },
   "outputs": [
    {
     "name": "stdout",
     "output_type": "stream",
     "text": [
      "(qiime2-2023.2) \n",
      "--2023-03-16 13:14:27--  https://data.qiime2.org/2023.2/tutorials/moving-pictures/sample_metadata.tsv\n",
      "Resolving data.qiime2.org (data.qiime2.org)... 54.200.1.12\n",
      "Connecting to data.qiime2.org (data.qiime2.org)|54.200.1.12|:443... connected.\n",
      "HTTP request sent, awaiting response... 302 FOUND\n",
      "Location: https://docs.google.com/spreadsheets/d/e/2PACX-1vTDeMqrgOV0OAB8XUJnS_1ULbIgAIbEUuaM5MMGnx8B2S0QzBgYSwPsKw_O_KzZ9rC50IcgIcc4924S/pub?gid=0&single=true&output=tsv [following]\n",
      "--2023-03-16 13:14:28--  https://docs.google.com/spreadsheets/d/e/2PACX-1vTDeMqrgOV0OAB8XUJnS_1ULbIgAIbEUuaM5MMGnx8B2S0QzBgYSwPsKw_O_KzZ9rC50IcgIcc4924S/pub?gid=0&single=true&output=tsv\n",
      "Resolving docs.google.com (docs.google.com)... 142.250.74.142, 2a00:1450:400f:804::200e\n",
      "Connecting to docs.google.com (docs.google.com)|142.250.74.142|:443... connected.\n",
      "HTTP request sent, awaiting response... 307 Temporary Redirect\n",
      "Location: https://doc-0s-08-sheets.googleusercontent.com/pub/mq6he3r7ig44qobar1fsg51390/12s1ogclo4500ai2cskgrs4p8k/1678968865000/114171628350043197367/*/e@2PACX-1vTDeMqrgOV0OAB8XUJnS_1ULbIgAIbEUuaM5MMGnx8B2S0QzBgYSwPsKw_O_KzZ9rC50IcgIcc4924S?gid=0&single=true&output=tsv [following]\n",
      "Warning: wildcards not supported in HTTP.\n",
      "--2023-03-16 13:14:28--  https://doc-0s-08-sheets.googleusercontent.com/pub/mq6he3r7ig44qobar1fsg51390/12s1ogclo4500ai2cskgrs4p8k/1678968865000/114171628350043197367/*/e@2PACX-1vTDeMqrgOV0OAB8XUJnS_1ULbIgAIbEUuaM5MMGnx8B2S0QzBgYSwPsKw_O_KzZ9rC50IcgIcc4924S?gid=0&single=true&output=tsv\n",
      "Resolving doc-0s-08-sheets.googleusercontent.com (doc-0s-08-sheets.googleusercontent.com)... 142.250.74.65, 2a00:1450:400f:802::2001\n",
      "Connecting to doc-0s-08-sheets.googleusercontent.com (doc-0s-08-sheets.googleusercontent.com)|142.250.74.65|:443... connected.\n",
      "HTTP request sent, awaiting response... 200 OK\n",
      "Length: unspecified [text/tab-separated-values]\n",
      "Saving to: ‘sample-metadata.tsv’\n",
      "\n",
      "sample-metadata.tsv     [ <=>                ]   2.04K  --.-KB/s    in 0s      \n",
      "\n",
      "2023-03-16 13:14:28 (18.1 MB/s) - ‘sample-metadata.tsv’ saved [2094]\n",
      "\n",
      "(qiime2-2023.2) \n"
     ]
    },
    {
     "ename": "",
     "evalue": "1",
     "output_type": "error",
     "traceback": []
    }
   ],
   "source": [
    "# Add this to the repo\n",
    "wget \\\n",
    "  --continue \\\n",
    "  --output-document \"sample-metadata.tsv\" \\\n",
    "  \"https://data.qiime2.org/2023.2/tutorials/moving-pictures/sample_metadata.tsv\""
   ]
  },
  {
   "cell_type": "markdown",
   "metadata": {},
   "source": [
    "These samples are organized in a table called `sample-metadata.tsv`. Either click it on the left panel, or execute the following cell:"
   ]
  },
  {
   "cell_type": "markdown",
   "metadata": {
    "tags": []
   },
   "source": [
    "| sample-id | barcode-sequence | body-site   | year    | month   | day     | subject     | reported-antibiotic-usage | days-since-experiment-start |\n",
    "|-----------|------------------|-------------|---------|---------|---------|-------------|---------------------------|-----------------------------|\n",
    "| #q2:types | categorical      | categorical | numeric | numeric | numeric | categorical | categorical               | numeric                     |\n",
    "| L1S8      | AGCTGACTAGTC     | gut         | 2008    | 10      | 28      | subject-1   | Yes                       | 0                           |\n",
    "| L1S57     | ACACACTATGGC     | gut         | 2009    | 1       | 20      | subject-1   | No                        | 84                          |\n",
    "| L1S76     | ACTACGTGTGGT     | gut         | 2009    | 2       | 17      | subject-1   | No                        | 112                         |\n",
    "| L1S105    | AGTGCGATGCGT     | gut         | 2009    | 3       | 17      | subject-1   | No                        | 140                         |\n",
    "| L2S155    | ACGATGCGACCA     | left palm   | 2009    | 1       | 20      | subject-1   | No                        | 84                          |\n",
    "| L2S175    | AGCTATCCACGA     | left palm   | 2009    | 2       | 17      | subject-1   | No                        | 112                         |\n",
    "| L2S204    | ATGCAGCTCAGT     | left palm   | 2009    | 3       | 17      | subject-1   | No                        | 140                         |\n",
    "| L2S222    | CACGTGACATGT     | left palm   | 2009    | 4       | 14      | subject-1   | No                        | 168                         |\n",
    "| L3S242    | ACAGTTGCGCGA     | right palm  | 2008    | 10      | 28      | subject-1   | Yes                       | 0                           |\n",
    "| L3S294    | CACGACAGGCTA     | right palm  | 2009    | 1       | 20      | subject-1   | No                        | 84                          |\n",
    "| L3S313    | AGTGTCACGGTG     | right palm  | 2009    | 2       | 17      | subject-1   | No                        | 112                         |\n",
    "| L3S341    | CAAGTGAGAGAG     | right palm  | 2009    | 3       | 17      | subject-1   | No                        | 140                         |\n",
    "| L3S360    | CATCGTATCAAC     | right palm  | 2009    | 4       | 14      | subject-1   | No                        | 168                         |\n",
    "| L5S104    | CAGTGTCAGGAC     | tongue      | 2008    | 10      | 28      | subject-1   | Yes                       | 0                           |\n",
    "| L5S155    | ATCTTAGACTGC     | tongue      | 2009    | 1       | 20      | subject-1   | No                        | 84                          |\n",
    "| L5S174    | CAGACATTGCGT     | tongue      | 2009    | 2       | 17      | subject-1   | No                        | 112                         |\n",
    "| L5S203    | CGATGCACCAGA     | tongue      | 2009    | 3       | 17      | subject-1   | No                        | 140                         |\n",
    "| L5S222    | CTAGAGACTCTT     | tongue      | 2009    | 4       | 14      | subject-1   | No                        | 168                         |\n",
    "| L1S140    | ATGGCAGCTCTA     | gut         | 2008    | 10      | 28      | subject-2   | Yes                       | 0                           |\n",
    "| L1S208    | CTGAGATACGCG     | gut         | 2009    | 1       | 20      | subject-2   | No                        | 84                          |\n",
    "| L1S257    | CCGACTGAGATG     | gut         | 2009    | 3       | 17      | subject-2   | No                        | 140                         |\n",
    "| L1S281    | CCTCTCGTGATC     | gut         | 2009    | 4       | 14      | subject-2   | No                        | 168                         |\n",
    "| L2S240    | CATATCGCAGTT     | left palm   | 2008    | 10      | 28      | subject-2   | Yes                       | 0                           |\n",
    "| L2S309    | CGTGCATTATCA     | left palm   | 2009    | 1       | 20      | subject-2   | No                        | 84                          |\n",
    "| L2S357    | CTAACGCAGTCA     | left palm   | 2009    | 3       | 17      | subject-2   | No                        | 140                         |\n",
    "| L2S382    | CTCAATGACTCA     | left palm   | 2009    | 4       | 14      | subject-2   | No                        | 168                         |\n",
    "| L3S378    | ATCGATCTGTGG     | right palm  | 2008    | 10      | 28      | subject-2   | Yes                       | 0                           |\n",
    "| L4S63     | CTCGTGGAGTAG     | right palm  | 2009    | 1       | 20      | subject-2   | No                        | 84                          |\n",
    "| L4S112    | GCGTTACACACA     | right palm  | 2009    | 3       | 17      | subject-2   | No                        | 140                         |\n",
    "| L4S137    | GAACTGTATCTC     | right palm  | 2009    | 4       | 14      | subject-2   | No                        | 168                         |\n",
    "| L5S240    | CTGGACTCATAG     | tongue      | 2008    | 10      | 28      | subject-2   | Yes                       | 0                           |\n",
    "| L6S20     | GAGGCTCATCAT     | tongue      | 2009    | 1       | 20      | subject-2   | No                        | 84                          |\n",
    "| L6S68     | GATACGTCCTGA     | tongue      | 2009    | 3       | 17      | subject-2   | No                        | 140                         |\n",
    "| L6S93     | GATTAGCACTCT     | tongue      | 2009    | 4       | 14      | subject-2   | No                        | 168                         |\n"
   ]
  },
  {
   "cell_type": "markdown",
   "metadata": {},
   "source": [
    "It contains data about:\n",
    "- 35 samples\n",
    "- in 9 columns"
   ]
  },
  {
   "cell_type": "markdown",
   "metadata": {},
   "source": [
    "TSV stands for __tab separated values__. A tab is the space between each word. Excel is capable of opening and saving this type of files."
   ]
  },
  {
   "cell_type": "markdown",
   "metadata": {},
   "source": [
    "The first row is the __header__. It cointains the names of the properties that each sample has. For example, the first sample\n",
    "- Is named L1S8\n",
    "- Has the barcode AGCTGACTAGTC\n",
    "- Comes from the gut\n",
    "- Was taken on 2008\n",
    "\n",
    "and so on...\n"
   ]
  },
  {
   "cell_type": "markdown",
   "metadata": {},
   "source": [
    "It is very important to add as many variables as possible:\n",
    "- Day that you took the sample\n",
    "- Day that it was processed in the lab\n",
    "- Day that it was processed for sequencing\n",
    "- Geographical coordinates of the sampling sites\n",
    "- pH / salinity of the samples\n",
    "- Chemical composition of the sample (Fe, N, CO2, etc).\n",
    "- Purification / extraction protocol (if more than one is used)."
   ]
  },
  {
   "cell_type": "markdown",
   "metadata": {},
   "source": [
    "The next file are the barcodes used (data/barcodes.fq.gz).\n",
    "\n",
    "To each sample, one sequence is assigned to identify the sample. Think about it as the molecular ID card number of the sample."
   ]
  },
  {
   "cell_type": "markdown",
   "metadata": {},
   "source": [
    "This file contains 302,581 16S fragments."
   ]
  },
  {
   "cell_type": "code",
   "execution_count": 4,
   "metadata": {},
   "outputs": [
    {
     "name": "stdout",
     "output_type": "stream",
     "text": [
      "@HWI-EAS440_0386:1:23:17547:1423#0/1\tATGCAGCTCAGT\t+\tIIIIIIIIIIIH\n",
      "@HWI-EAS440_0386:1:23:14818:1533#0/1\tCCCCTCAGCGGC\t+\tDDD@D?@B<<+/\n",
      "@HWI-EAS440_0386:1:23:14401:1629#0/1\tGACGAGTCAGTC\t+\tGGEGDGGGGGDG\n",
      "@HWI-EAS440_0386:1:23:15259:1649#0/1\tAGCAGTCGCGAT\t+\tIIIIIIIIIIII\n",
      "@HWI-EAS440_0386:1:23:13748:2482#0/1\tAGCACACCTACA\t+\tGGGGBGGEEGGD\n",
      "@HWI-EAS440_0386:1:23:6532:3028#0/1\tGAGAGAATGATC\t+\tHIIIIIIIIIII\n",
      "@HWI-EAS440_0386:1:23:8677:3027#0/1\tCACAGTGGACGT\t+\tFHHHHHHHHHHH\n",
      "@HWI-EAS440_0386:1:23:5678:3052#0/1\tATAGCTCCATAC\t+\tIIIIIIIIIIII\n",
      "@HWI-EAS440_0386:1:23:11889:3171#0/1\tACGTTAGCACAC\t+\tIIIIIIGIIIII\n",
      "@HWI-EAS440_0386:1:23:2112:3374#0/1\tGAGAGAATGATC\t+\tFEEBBCEEEEDG\n",
      "paste: write error: Broken pipe\n",
      "paste: write error\n",
      "\n",
      "gzip: stdout: Broken pipe\n",
      "(qiime2-2023.2) \n"
     ]
    },
    {
     "ename": "",
     "evalue": "1",
     "output_type": "error",
     "traceback": []
    }
   ],
   "source": [
    "gzip -dc data/barcodes.fastq.gz | paste - - - - | head -10"
   ]
  },
  {
   "cell_type": "markdown",
   "metadata": {
    "tags": []
   },
   "source": [
    "For example, the first sequence of the experiment, the barcode is `ATGCAGCTCAGT`, which belongs to sample `L2S204`."
   ]
  },
  {
   "cell_type": "markdown",
   "metadata": {
    "tags": []
   },
   "source": [
    "Use Ctrl + F to find the following barcodes:\n",
    "- CCCCTCAGCGGC\n",
    "- GACGAGTCAGTC"
   ]
  },
  {
   "cell_type": "markdown",
   "metadata": {},
   "source": [
    "Solution:\n",
    "<Details> \n",
    "They are not in the table.\n",
    "    \n",
    "Sequencing machines make mistakes often, or are samples that are not used in this concrete experiment.\n",
    "    \n",
    "Either:\n",
    "- use a program to find the closest barcode in the table, or\n",
    "- throw away the sequences\n",
    "</Details>\n",
    "\n",
    "\n"
   ]
  },
  {
   "cell_type": "code",
   "execution_count": 5,
   "metadata": {
    "tags": []
   },
   "outputs": [
    {
     "name": "stdout",
     "output_type": "stream",
     "text": [
      "--2023-03-16 13:14:38--  https://data.qiime2.org/2023.2/tutorials/moving-pictures/emp-single-end-sequences/sequences.fastq.gz\n",
      "Resolving data.qiime2.org (data.qiime2.org)... 54.200.1.12\n",
      "Connecting to data.qiime2.org (data.qiime2.org)|54.200.1.12|:443... connected.\n",
      "HTTP request sent, awaiting response... 302 FOUND\n",
      "Location: https://s3-us-west-2.amazonaws.com/qiime2-data/2023.2/tutorials/moving-pictures/emp-single-end-sequences/sequences.fastq.gz [following]\n",
      "--2023-03-16 13:14:39--  https://s3-us-west-2.amazonaws.com/qiime2-data/2023.2/tutorials/moving-pictures/emp-single-end-sequences/sequences.fastq.gz\n",
      "Resolving s3-us-west-2.amazonaws.com (s3-us-west-2.amazonaws.com)... 52.218.193.144, 52.218.218.16, 52.218.229.176, ...\n",
      "Connecting to s3-us-west-2.amazonaws.com (s3-us-west-2.amazonaws.com)|52.218.193.144|:443... connected.\n",
      "HTTP request sent, awaiting response... 416 Requested Range Not Satisfiable\n",
      "\n",
      "    The file is already fully retrieved; nothing to do.\n",
      "\n",
      "(qiime2-2023.2) \n"
     ]
    },
    {
     "ename": "",
     "evalue": "1",
     "output_type": "error",
     "traceback": []
    }
   ],
   "source": [
    "wget \\\n",
    "    --continue \\\n",
    "    --output-document \"data/sequences.fastq.gz\" \\\n",
    "    \"https://data.qiime2.org/2023.2/tutorials/moving-pictures/emp-single-end-sequences/sequences.fastq.gz\""
   ]
  },
  {
   "cell_type": "markdown",
   "metadata": {},
   "source": [
    "And now the file with the 16S fragments:"
   ]
  },
  {
   "cell_type": "code",
   "execution_count": 6,
   "metadata": {
    "tags": []
   },
   "outputs": [
    {
     "name": "stdout",
     "output_type": "stream",
     "text": [
      "@HWI-EAS440_0386:1:23:17547:1423#0/1\tTACGNAGGATCCGAGCGTTATCCGGATTTATTGGGTTTAAAGGGAGCGTAGATGGATGTTTAAGTCAGTTGTGAAAGTTTGCGGCTCAACCGTAAAATTGCAGTTGATACTGGATATCTTGAGTGCAGTTGAGGCAGGGGGGGATTGGTGTG\t+\tIIIE)EEEEEEEEGFIIGIIIHIHHGIIIGIIHHHGIIHGHEGDGIFIGEHGIHHGHHGHHGGHEEGHEGGEHEBBHBBEEDCEDDD>B?BE@@B>@@@@@CB@ABA@@?@@=>?08;3=;==8:5;@6?######################\n",
      "@HWI-EAS440_0386:1:23:14818:1533#0/1\tCCCCNCAGCGGCAAAAATTAAAATTTTTACCGCTTCGGCGTTATAGCCTCACACTCAATCTTTTATCACGAAGTCATGATTGAATCGCGAGTGGTCGGCAGATTGCGATAAACGGGCACATTAAATTTAAACTGATGATTCCACTGCAACAA\t+\t64<2$24;1)/:*B<?BBDDBBD<>BDD############################################################################################################################\n",
      "@HWI-EAS440_0386:1:23:14401:1629#0/1\tTACGNAGGATCCGAGCGTTATCCGGATTTATTGGGTTTAAAGGGAGCGTAGGCGGACGCTTAAGTCAGTTGTGAAAGTTTGCGGCTCAACCGTAAAATTGCAGTTGATACTGGGTGTCTTGAGTACAGTAGAGGCAGGGGGGGGGTTGGGGG\t+\tGGGC'ACC8;;>;HHHHGHDHHHHHEEHHEHHHHHECHEEEHCHFHHHAGGEHHFBCCBABBBE>>>E=>A>A<>>B8B:B=BBABA@AAAA@?>???>>>9>@AA@@@@AA########################################\n",
      "@HWI-EAS440_0386:1:23:15259:1649#0/1\tTACGNAGGATCCGAGCGTTATCCGGATTTATTGGGTTTAAAGGGAGCGTAGGCGGACGCTTAAGTCAGTTGTGAAAGTTTGCGGCTCAACCGTAAAATTGCAGTTGATACTGGGTGTCTTGAGTACAGTAGAGGCAGGGGGGAGTTTGGGGG\t+\tIIIE)DEE?CCCBIIIIIIGIIIIIHIIIIIIIIIHIIIHFIDIGIIIHHIHIGIIIHFIHBGGBFDGEHHEI=CBGBEEEEEHEEGECD?>B@=?@BAA=9A?@A>ABBBCDB:C:@??9>?;:?;?BA@?B###################\n",
      "@HWI-EAS440_0386:1:23:13748:2482#0/1\tTACGNAGGATCCGAGCGTTATCCGGATTTATTGGGTTTAAAGGGAGCGTAGATGGATGTTTAAGTCAGTTGTGAAAGTTTGCGGCTCAACCGTAAAATTGCAGTTGATACTGGATATCTTGAGTGCAGTTGAGGCAGGCGGGATTCGTGGTG\t+\tGGGC'?CC4<5<6HHHHHHH@@HGGEEGHHFHHHHBBHGFFGCGBBGG@DGBDGFDFEEHHHFHEHEHBHHEEDEEEAB@BBEAEEBEEAEBB8:>>:EEEB@>@>>B@:@@@9=@>:B:>=>8:/7>=>@#####################\n",
      "paste: write error: Broken pipe\n",
      "paste: write error\n",
      "\n",
      "gzip: stdout: Broken pipe\n",
      "(qiime2-2023.2) \n"
     ]
    },
    {
     "ename": "",
     "evalue": "1",
     "output_type": "error",
     "traceback": []
    }
   ],
   "source": [
    "gzip -dc data/sequences.fastq.gz | paste - - - - | head -5"
   ]
  },
  {
   "cell_type": "markdown",
   "metadata": {
    "tags": []
   },
   "source": [
    "As you can see, sequences can be pretty long. And it goes forever. This file contains +300K sequences. Real datasets contain hundreds of million sequences.\n",
    "\n",
    "Data processing by hand, or with a word processor and spreadsheets is impossible, and therefore you need to use tools taylored for this purpose, like Qiime2."
   ]
  },
  {
   "cell_type": "markdown",
   "metadata": {},
   "source": [
    "Qiime is a toolbox that contains almost all the programs you need to process metabarcoding data. To see what it can do, just type qiime in a code cell:"
   ]
  },
  {
   "cell_type": "code",
   "execution_count": null,
   "metadata": {
    "tags": []
   },
   "outputs": [],
   "source": [
    "s"
   ]
  },
  {
   "cell_type": "markdown",
   "metadata": {},
   "source": [
    "The tools we are going to focus in this tutorial are:\n",
    "- tools\n",
    "- demux\n",
    "- dada2\n",
    "- feature-table\n",
    "- phylogeny\n",
    "- diversity\n",
    "- emperor\n",
    "- feature classifier\n",
    "- taxa\n",
    "- composition"
   ]
  },
  {
   "cell_type": "markdown",
   "metadata": {},
   "source": [
    "To see how any of them work, type `qiime [TOOL] [SUBTOOL] --help`, and it will show how to use it:"
   ]
  },
  {
   "cell_type": "code",
   "execution_count": 7,
   "metadata": {
    "tags": []
   },
   "outputs": [
    {
     "name": "stdout",
     "output_type": "stream",
     "text": [
      "Usage: \u001b[94mqiime demux\u001b[0m [OPTIONS] COMMAND [ARGS]...\n",
      "\n",
      "  Description: This QIIME 2 plugin supports demultiplexing of single-end and\n",
      "  paired-end sequence reads and visualization of sequence quality information.\n",
      "\n",
      "  Plugin website: https://github.com/qiime2/q2-demux\n",
      "\n",
      "  Getting user support: Please post to the QIIME 2 forum for help with this\n",
      "  plugin: https://forum.qiime2.org\n",
      "\n",
      "\u001b[1mOptions\u001b[0m:\n",
      "  \u001b[94m--version\u001b[0m            Show the version and exit.\n",
      "  \u001b[94m--example-data\u001b[0m PATH  Write example data and exit.\n",
      "  \u001b[94m--citations\u001b[0m          Show citations and exit.\n",
      "  \u001b[94m--help\u001b[0m               Show this message and exit.\n",
      "\n",
      "\u001b[1mCommands\u001b[0m:\n",
      "  \u001b[94memp-paired\u001b[0m        Demultiplex paired-end sequence data generated with the\n",
      "                    EMP protocol.\n",
      "  \u001b[94memp-single\u001b[0m        Demultiplex sequence data generated with the EMP protocol.\n",
      "  \u001b[94mfilter-samples\u001b[0m    Filter samples out of demultiplexed data.\n",
      "  \u001b[94msubsample-paired\u001b[0m  Subsample paired-end sequences without replacement.\n",
      "  \u001b[94msubsample-single\u001b[0m  Subsample single-end sequences without replacement.\n",
      "  \u001b[94msummarize\u001b[0m         Summarize counts per sample.\n",
      "(qiime2-2023.2) \n"
     ]
    },
    {
     "ename": "",
     "evalue": "1",
     "output_type": "error",
     "traceback": []
    }
   ],
   "source": [
    "qiime demux --help"
   ]
  },
  {
   "cell_type": "code",
   "execution_count": 8,
   "metadata": {
    "tags": []
   },
   "outputs": [
    {
     "name": "stdout",
     "output_type": "stream",
     "text": [
      "Usage: \u001b[94mqiime taxa barplot\u001b[0m [OPTIONS]\n",
      "\n",
      "  This visualizer produces an interactive barplot visualization of taxonomies.\n",
      "  Interactive features include multi-level sorting, plot recoloring, sample\n",
      "  relabeling, and SVG figure export.\n",
      "\n",
      "\u001b[1mInputs\u001b[0m:\n",
      "  \u001b[94m\u001b[4m--i-table\u001b[0m ARTIFACT \u001b[32mFeatureTable[Frequency]\u001b[0m\n",
      "                         Feature table to visualize at various taxonomic\n",
      "                         levels.                                    \u001b[35m[required]\u001b[0m\n",
      "  \u001b[94m\u001b[4m--i-taxonomy\u001b[0m ARTIFACT \u001b[32mFeatureData[Taxonomy]\u001b[0m\n",
      "                         Taxonomic annotations for features in the provided\n",
      "                         feature table. All features in the feature table must\n",
      "                         have a corresponding taxonomic annotation. Taxonomic\n",
      "                         annotations that are not present in the feature table\n",
      "                         will be ignored.                           \u001b[35m[required]\u001b[0m\n",
      "\u001b[1mParameters\u001b[0m:\n",
      "  \u001b[94m--m-metadata-file\u001b[0m METADATA...\n",
      "    (multiple            The sample metadata.\n",
      "     arguments will be   \n",
      "     merged)                                                        \u001b[35m[optional]\u001b[0m\n",
      "\u001b[1mOutputs\u001b[0m:\n",
      "  \u001b[94m\u001b[4m--o-visualization\u001b[0m VISUALIZATION\n",
      "                                                                    \u001b[35m[required]\u001b[0m\n",
      "\u001b[1mMiscellaneous\u001b[0m:\n",
      "  \u001b[94m--output-dir\u001b[0m PATH      Output unspecified results to a directory\n",
      "  \u001b[94m--verbose\u001b[0m / \u001b[94m--quiet\u001b[0m    Display verbose output to stdout and/or stderr\n",
      "                         during execution of this action. Or silence output if\n",
      "                         execution is successful (silence is golden).\n",
      "  \u001b[94m--example-data\u001b[0m PATH    Write example data and exit.\n",
      "  \u001b[94m--citations\u001b[0m            Show citations and exit.\n",
      "  \u001b[94m--help\u001b[0m                 Show this message and exit.\n",
      "\n",
      "\u001b[1mExamples\u001b[0m:\n",
      "  # ### example: barplot\n",
      "  qiime taxa barplot \\\n",
      "    --i-table table.qza \\\n",
      "    --i-taxonomy taxonomy.qza \\\n",
      "    --m-metadata-file sample-metadata.tsv \\\n",
      "    --o-visualization taxa-bar-plots.qzv\n",
      "  \n",
      "(qiime2-2023.2) \n"
     ]
    },
    {
     "ename": "",
     "evalue": "1",
     "output_type": "error",
     "traceback": []
    }
   ],
   "source": [
    "qiime taxa barplot --help"
   ]
  },
  {
   "cell_type": "markdown",
   "metadata": {},
   "source": [
    "The tools included in Qiime2 follow the same pattern:\n",
    "```\n",
    "qiime command subcommand \\\n",
    "  --i-input      files \\\n",
    "  --p-parameters parameter1 \\\n",
    "  --m-metadata   metadata-file.tsv \\\n",
    "  --o-output     output-file\n",
    "```"
   ]
  },
  {
   "cell_type": "markdown",
   "metadata": {
    "tags": []
   },
   "source": [
    "All commands transforms input files into output files:\n",
    "- **I**nput files are specified with the `--i-*`\n",
    "- **M**etadata is specified with the `--m-*`\n",
    "- **P**arameters on how to execute the command is specified with `--p-*`\n",
    "- **O**utput files are specified with the `--o-*`\n",
    "\n",
    "As a rule of thumb, use that order: input, metadata, parameters, output. This will make the code cleaner and easier for you to follow."
   ]
  },
  {
   "cell_type": "markdown",
   "metadata": {},
   "source": [
    "The next picture is the map of the typical analysis in Qiime. Drag and drop it to another tab in your browser if you need to look at it later on"
   ]
  },
  {
   "cell_type": "markdown",
   "metadata": {},
   "source": [
    "<img src=\"assets/img/qiime_map.svg\"  width=\"1200\" height=\"600\">"
   ]
  },
  {
   "cell_type": "markdown",
   "metadata": {
    "jp-MarkdownHeadingCollapsed": true,
    "tags": []
   },
   "source": [
    "## 1. Importing sequences"
   ]
  },
  {
   "cell_type": "markdown",
   "metadata": {
    "tags": []
   },
   "source": [
    "The first step for Qiime is to tell it where are your sequences. To do so, use the `qiime tools import` command"
   ]
  },
  {
   "cell_type": "code",
   "execution_count": null,
   "metadata": {
    "tags": []
   },
   "outputs": [],
   "source": [
    "qiime tools import --help"
   ]
  },
  {
   "cell_type": "markdown",
   "metadata": {},
   "source": [
    "To import the sequences execute the following:"
   ]
  },
  {
   "cell_type": "code",
   "execution_count": 9,
   "metadata": {
    "tags": []
   },
   "outputs": [
    {
     "name": "stdout",
     "output_type": "stream",
     "text": [
      "\u001b[32mImported data as EMPSingleEndDirFmt to sequences.qza\u001b[0m\n",
      "\u001b[0m(qiime2-2023.2) \n"
     ]
    },
    {
     "ename": "",
     "evalue": "1",
     "output_type": "error",
     "traceback": []
    }
   ],
   "source": [
    "qiime tools import \\\n",
    "  --input-path  data `# the folder with the data` \\\n",
    "  --type        EMPSingleEndSequences `# the type of sequences` \\\n",
    "  --output-path sequences.qza `# the file in which to store it`"
   ]
  },
  {
   "cell_type": "markdown",
   "metadata": {},
   "source": [
    "We can see the content with `peek`:"
   ]
  },
  {
   "cell_type": "code",
   "execution_count": null,
   "metadata": {
    "tags": []
   },
   "outputs": [],
   "source": [
    "qiime tools peek sequences.qza"
   ]
  },
  {
   "cell_type": "markdown",
   "metadata": {},
   "source": [
    "It is not very useful, but it says that it contains sequences of the type EMP Single End."
   ]
  },
  {
   "cell_type": "markdown",
   "metadata": {},
   "source": [
    "Double clicking `sequences.qza` does not work. The file is very big to see it manually or generate reports: \".qz**v**\" files"
   ]
  },
  {
   "cell_type": "markdown",
   "metadata": {},
   "source": [
    "Note: qiime generates two types of files:\n",
    "- qz**a** - artifacts: tables\n",
    "- qz**v** - visualizations: plots\n",
    "\n",
    "The artifacts are for the programs, the visualizations for us."
   ]
  },
  {
   "cell_type": "markdown",
   "metadata": {
    "tags": []
   },
   "source": [
    "## 2. Demux: demultiplex sequences"
   ]
  },
  {
   "cell_type": "markdown",
   "metadata": {},
   "source": [
    "Demultiplexing consists of grouping the 16S sequences according to the sample they belong. The purpose is to separate the reads by sample."
   ]
  },
  {
   "cell_type": "markdown",
   "metadata": {},
   "source": [
    "To do so, we will use `qiime demux`:"
   ]
  },
  {
   "cell_type": "code",
   "execution_count": null,
   "metadata": {
    "tags": []
   },
   "outputs": [],
   "source": [
    "qiime demux --help"
   ]
  },
  {
   "cell_type": "markdown",
   "metadata": {
    "tags": []
   },
   "source": [
    "Since our dataset is of the type `emp-single`, we will use that"
   ]
  },
  {
   "cell_type": "code",
   "execution_count": null,
   "metadata": {
    "tags": []
   },
   "outputs": [],
   "source": [
    "qiime demux emp-single --help"
   ]
  },
  {
   "cell_type": "markdown",
   "metadata": {},
   "source": [
    "We have to specify:\n",
    "- The input qza\n",
    "- The metadata file that contains the barcodes\n",
    "- The exact column\n",
    "- Where to store the results\n",
    "- Statistics of the procedure"
   ]
  },
  {
   "cell_type": "code",
   "execution_count": 10,
   "metadata": {
    "tags": []
   },
   "outputs": [
    {
     "name": "stdout",
     "output_type": "stream",
     "text": [
      "\u001b[32mSaved SampleData[SequencesWithQuality] to: demux.qza\u001b[0m\n",
      "\u001b[32mSaved ErrorCorrectionDetails to: demux-details.qza\u001b[0m\n",
      "\u001b[0m(qiime2-2023.2) \n"
     ]
    },
    {
     "ename": "",
     "evalue": "1",
     "output_type": "error",
     "traceback": []
    }
   ],
   "source": [
    "qiime demux emp-single \\\n",
    "    --i-seqs                     sequences.qza \\\n",
    "    --m-barcodes-file            sample-metadata.tsv \\\n",
    "    --m-barcodes-column          barcode-sequence \\\n",
    "    --o-per-sample-sequences     demux.qza \\\n",
    "    --o-error-correction-details demux-details.qza"
   ]
  },
  {
   "cell_type": "markdown",
   "metadata": {
    "tags": []
   },
   "source": [
    "Let's see what happened in this step. To do so, convert `demux.qza` into `demux.qzv`:"
   ]
  },
  {
   "cell_type": "code",
   "execution_count": 12,
   "metadata": {
    "tags": []
   },
   "outputs": [
    {
     "name": "stdout",
     "output_type": "stream",
     "text": [
      "\u001b[32mSaved Visualization to: demux.qzv\u001b[0m\n",
      "\u001b[0m(qiime2-2023.2) \n"
     ]
    },
    {
     "ename": "",
     "evalue": "1",
     "output_type": "error",
     "traceback": []
    }
   ],
   "source": [
    "qiime demux summarize \\\n",
    "  --i-data          demux.qza \\\n",
    "  --o-visualization demux.qzv"
   ]
  },
  {
   "cell_type": "markdown",
   "metadata": {},
   "source": [
    "Download `demux.qzv` and upload it to https://view.qiime2.org"
   ]
  },
  {
   "cell_type": "markdown",
   "metadata": {},
   "source": [
    "Or click this [link](https://view.qiime2.org/?src=https%3A%2F%2Fdocs.qiime2.org%2F2023.2%2Fdata%2Ftutorials%2Fmoving-pictures%2Fdemux.qzv)"
   ]
  },
  {
   "cell_type": "markdown",
   "metadata": {},
   "source": [
    "## 3. Quality Control with DADA2"
   ]
  },
  {
   "cell_type": "markdown",
   "metadata": {},
   "source": [
    "DADA2 is a program to detect and correct errors in amplicon sequences. The command to run is the following:"
   ]
  },
  {
   "cell_type": "code",
   "execution_count": null,
   "metadata": {},
   "outputs": [],
   "source": [
    "qiime dada2 --help"
   ]
  },
  {
   "cell_type": "code",
   "execution_count": null,
   "metadata": {
    "scrolled": true
   },
   "outputs": [],
   "source": [
    "qiime dada2 denoise-single --help"
   ]
  },
  {
   "cell_type": "markdown",
   "metadata": {},
   "source": [
    "The mandatory parameters are the following:\n",
    "- **I**nputs:\n",
    "  - the demultiplexed sequences: `demux.qza`\n",
    "- **P**arameters:\n",
    "  - how many base pairs to keep: 120\n",
    "  - how many bases to trim on the 5' end (left): 0\n",
    "- **O**utputs:\n",
    "  - representative sequences: the clustered amplicons\n",
    "  - table: the table that says how many of **each bacteria** are in **each sample**\n",
    "  - denoising stats: stats for the nerds."
   ]
  },
  {
   "cell_type": "markdown",
   "metadata": {},
   "source": [
    "Let's compose the command"
   ]
  },
  {
   "cell_type": "code",
   "execution_count": null,
   "metadata": {},
   "outputs": [],
   "source": [
    "qiime dada2 denoise-single \\\n",
    "    --i-demultiplexed-seqs       demux.qza \\\n",
    "    --p-trim-left                0 \\\n",
    "    --p-trunc-len                120 \\\n",
    "    --o-representative-sequences rep-seqs.qza \\\n",
    "    --o-table                    table.qza   \\\n",
    "    --o-denoising-stats          dada2-stats.qza"
   ]
  },
  {
   "cell_type": "markdown",
   "metadata": {},
   "source": [
    "It takes 1-2 minutes."
   ]
  },
  {
   "cell_type": "markdown",
   "metadata": {},
   "source": [
    "And now let's see what is inside the `stats.qza`."
   ]
  },
  {
   "cell_type": "code",
   "execution_count": null,
   "metadata": {
    "tags": []
   },
   "outputs": [],
   "source": [
    "qiime metadata tabulate \\\n",
    "  --m-input-file    dada2-stats.qza \\\n",
    "  --o-visualization dada2-stats.qzv"
   ]
  },
  {
   "cell_type": "markdown",
   "metadata": {},
   "source": [
    "We can visualize the qzv with [the qiime view web](https://view.qiime2.org/?src=https%3A%2F%2Fdocs.qiime2.org%2F2023.2%2Fdata%2Ftutorials%2Fmoving-pictures%2Fstats-dada2.qzv)"
   ]
  },
  {
   "cell_type": "markdown",
   "metadata": {},
   "source": [
    "Finally, we can get the feature table (also called OTU table), which contains what samples contains how many copies of each bacteria"
   ]
  },
  {
   "cell_type": "code",
   "execution_count": null,
   "metadata": {},
   "outputs": [],
   "source": [
    "qiime feature-table summarize \\\n",
    "  --i-table                table.qza \\\n",
    "  --o-visualization        table.qzv \\\n",
    "  --m-sample-metadata-file sample-metadata.tsv"
   ]
  },
  {
   "cell_type": "markdown",
   "metadata": {},
   "source": [
    "And also the one that contains the relationship between each OTU and the sequence"
   ]
  },
  {
   "cell_type": "code",
   "execution_count": null,
   "metadata": {
    "tags": []
   },
   "outputs": [],
   "source": [
    "qiime feature-table summarize \\\n",
    "  --i-table                table.qza \\\n",
    "  --o-visualization        table.qzv \\\n",
    "  --m-sample-metadata-file sample-metadata.tsv"
   ]
  },
  {
   "cell_type": "markdown",
   "metadata": {},
   "source": [
    "[table.qzv](https://view.qiime2.org/?src=https%3A%2F%2Fdocs.qiime2.org%2F2023.2%2Fdata%2Ftutorials%2Fmoving-pictures%2Ftable.qzv)"
   ]
  },
  {
   "cell_type": "markdown",
   "metadata": {},
   "source": [
    "## 4. Diversity analysis"
   ]
  },
  {
   "cell_type": "markdown",
   "metadata": {},
   "source": [
    "We want to know:\n",
    "- the diversity of each sample (alpha diversity)\n",
    "- and how diverse are each pair of samples (beta diversity)"
   ]
  },
  {
   "cell_type": "markdown",
   "metadata": {},
   "source": [
    "But before doing these analyses, we need to make all the sequences comparable."
   ]
  },
  {
   "cell_type": "markdown",
   "metadata": {},
   "source": []
  },
  {
   "cell_type": "code",
   "execution_count": null,
   "metadata": {},
   "outputs": [],
   "source": [
    "function pause {\n",
    "    while true; do\n",
    "        sleep 60\n",
    "    done\n",
    "}"
   ]
  },
  {
   "cell_type": "code",
   "execution_count": null,
   "metadata": {},
   "outputs": [],
   "source": [
    "pause"
   ]
  },
  {
   "cell_type": "markdown",
   "metadata": {},
   "source": [
    "### 4.1 Alignment and tree construction"
   ]
  },
  {
   "cell_type": "markdown",
   "metadata": {},
   "source": [
    "To do so we are going to:\n",
    "- align all the sequences\n",
    "- compute their phylogenetic tree"
   ]
  },
  {
   "cell_type": "markdown",
   "metadata": {},
   "source": [
    "Thankfully, we can do it in one go with `qiime phylogeny`"
   ]
  },
  {
   "cell_type": "code",
   "execution_count": null,
   "metadata": {},
   "outputs": [],
   "source": [
    "qiime phylogeny --help"
   ]
  },
  {
   "cell_type": "markdown",
   "metadata": {},
   "source": [
    "There are three methods to align and build the tree:\n",
    "- MAFFT + FastTree (fastest)  <- the one\n",
    "- MAFFT + IQTREE\n",
    "- MAFFT + RAxML (most precise)"
   ]
  },
  {
   "cell_type": "markdown",
   "metadata": {},
   "source": [
    "Let's see the help to know what we need to give it in order to work:"
   ]
  },
  {
   "cell_type": "code",
   "execution_count": null,
   "metadata": {},
   "outputs": [],
   "source": [
    "qiime phylogeny align-to-tree-mafft-fasttree --help"
   ]
  },
  {
   "cell_type": "code",
   "execution_count": null,
   "metadata": {
    "tags": []
   },
   "outputs": [],
   "source": [
    "qiime phylogeny align-to-tree-mafft-fasttree \\\n",
    "  --i-sequences        rep-seqs.qza \\\n",
    "  --o-alignment        diversity-aligned-seqs.qza \\\n",
    "  --o-masked-alignment diversity-masked-aligned-seqs.qza \\\n",
    "  --o-tree             diversity-unrooted-tree.qza \\\n",
    "  --o-rooted-tree      diversity-rooted-tree.qza"
   ]
  },
  {
   "cell_type": "markdown",
   "metadata": {},
   "source": [
    "## 4.2 Core metrics"
   ]
  },
  {
   "cell_type": "markdown",
   "metadata": {},
   "source": [
    "Also, the alpha and beta diversities are computed in one single command. It is done with `qiime diversity core-metrics-phylogenetic`:"
   ]
  },
  {
   "cell_type": "code",
   "execution_count": null,
   "metadata": {},
   "outputs": [],
   "source": [
    "qiime diversity core-metrics-phylogenetic --help"
   ]
  },
  {
   "cell_type": "code",
   "execution_count": null,
   "metadata": {
    "tags": []
   },
   "outputs": [],
   "source": [
    "qiime diversity core-metrics-phylogenetic \\\n",
    "  --i-phylogeny      diversity-rooted-tree.qza \\\n",
    "  --i-table          table.qza \\\n",
    "  --p-sampling-depth 1200 \\\n",
    "  --m-metadata-file  sample-metadata.tsv \\\n",
    "  --output-dir       diversity-core-metrics-results"
   ]
  },
  {
   "cell_type": "markdown",
   "metadata": {},
   "source": [
    "The results appear in the diversity-core-metrics-results folder"
   ]
  },
  {
   "cell_type": "code",
   "execution_count": 11,
   "metadata": {
    "tags": []
   },
   "outputs": [
    {
     "name": "stdout",
     "output_type": "stream",
     "text": [
      "ls: cannot access 'diversity-core-metrics-results': No such file or directory\n",
      "(qiime2-2023.2) \n"
     ]
    },
    {
     "ename": "",
     "evalue": "1",
     "output_type": "error",
     "traceback": []
    }
   ],
   "source": [
    "ls -l diversity-core-metrics-results"
   ]
  },
  {
   "cell_type": "code",
   "execution_count": null,
   "metadata": {},
   "outputs": [],
   "source": []
  },
  {
   "cell_type": "markdown",
   "metadata": {},
   "source": [
    "## 4.3 Alpha diversity"
   ]
  },
  {
   "cell_type": "code",
   "execution_count": null,
   "metadata": {
    "tags": []
   },
   "outputs": [],
   "source": [
    "# Faith\n",
    "qiime diversity alpha-group-significance \\\n",
    "  --i-alpha-diversity diversity-core-metrics-results/faith_pd_vector.qza \\\n",
    "  --m-metadata-file   sample-metadata.tsv \\\n",
    "  --o-visualization   diversity-core-metrics-results/faith-pd-group-significance.qzv"
   ]
  },
  {
   "cell_type": "code",
   "execution_count": null,
   "metadata": {},
   "outputs": [],
   "source": [
    "# evenness\n",
    "qiime diversity alpha-group-significance \\\n",
    "  --i-alpha-diversity diversity-core-metrics-results/evenness_vector.qza \\\n",
    "  --m-metadata-file   sample-metadata.tsv \\\n",
    "  --o-visualization   diversity-core-metrics-results/evenness-group-significance.qzv"
   ]
  },
  {
   "cell_type": "markdown",
   "metadata": {},
   "source": [
    "## 4.4 Beta diversity"
   ]
  },
  {
   "cell_type": "code",
   "execution_count": null,
   "metadata": {
    "tags": []
   },
   "outputs": [],
   "source": [
    "qiime diversity beta-group-significance \\\n",
    "  --i-distance-matrix diversity-core-metrics-results/unweighted_unifrac_distance_matrix.qza \\\n",
    "  --m-metadata-file   sample-metadata.tsv \\\n",
    "  --m-metadata-column body-site \\\n",
    "  --o-visualization   diversity-core-metrics-results/unweighted-unifrac-body-site-significance.qzv \\\n",
    "  --p-pairwise"
   ]
  },
  {
   "cell_type": "code",
   "execution_count": null,
   "metadata": {
    "tags": []
   },
   "outputs": [],
   "source": [
    "qiime diversity beta-group-significance \\\n",
    "  --i-distance-matrix diversity-core-metrics-results/unweighted_unifrac_distance_matrix.qza \\\n",
    "  --m-metadata-file sample-metadata.tsv \\\n",
    "  --m-metadata-column subject \\\n",
    "  --o-visualization diversity-core-metrics-results/unweighted-unifrac-subject-group-significance.qzv \\\n",
    "  --p-pairwise"
   ]
  },
  {
   "cell_type": "code",
   "execution_count": null,
   "metadata": {
    "tags": []
   },
   "outputs": [],
   "source": [
    "qiime emperor plot \\\n",
    "  --i-pcoa          diversity-core-metrics-results/unweighted_unifrac_pcoa_results.qza \\\n",
    "  --m-metadata-file sample-metadata.tsv \\\n",
    "  --p-custom-axes   days-since-experiment-start \\\n",
    "  --o-visualization diversity-core-metrics-results/unweighted-unifrac-emperor-days-since-experiment-start.qzv"
   ]
  },
  {
   "cell_type": "code",
   "execution_count": null,
   "metadata": {
    "tags": []
   },
   "outputs": [],
   "source": [
    "qiime emperor plot \\\n",
    "  --i-pcoa          diversity-core-metrics-results/bray_curtis_pcoa_results.qza \\\n",
    "  --m-metadata-file sample-metadata.tsv \\\n",
    "  --p-custom-axes   days-since-experiment-start \\\n",
    "  --o-visualization diversity-core-metrics-results/bray-curtis-emperor-days-since-experiment-start.qzv"
   ]
  },
  {
   "cell_type": "markdown",
   "metadata": {},
   "source": [
    "## 5. Taxonomy"
   ]
  },
  {
   "cell_type": "markdown",
   "metadata": {},
   "source": [
    "We have analyzed these bacteria without knowing who they are!"
   ]
  },
  {
   "cell_type": "markdown",
   "metadata": {},
   "source": [
    "Maybe it is time to know who is behind each one of those 120 bp 16S sequences, don't you think? We are going to do it using Machine Learning."
   ]
  },
  {
   "cell_type": "markdown",
   "metadata": {},
   "source": [
    "First, let's download from Greengenes, a database specialized in metabarcoding, a trained classifier:"
   ]
  },
  {
   "cell_type": "code",
   "execution_count": 14,
   "metadata": {
    "tags": []
   },
   "outputs": [
    {
     "name": "stdout",
     "output_type": "stream",
     "text": [
      "--2023-03-16 13:35:44--  https://data.qiime2.org/2023.2/common/gg-13-8-99-515-806-nb-classifier.qza\n",
      "Resolving data.qiime2.org (data.qiime2.org)... 54.200.1.12\n",
      "Connecting to data.qiime2.org (data.qiime2.org)|54.200.1.12|:443... connected.\n",
      "HTTP request sent, awaiting response... 302 FOUND\n",
      "Location: https://s3-us-west-2.amazonaws.com/qiime2-data/2023.2/common/gg-13-8-99-515-806-nb-classifier.qza [following]\n",
      "--2023-03-16 13:35:45--  https://s3-us-west-2.amazonaws.com/qiime2-data/2023.2/common/gg-13-8-99-515-806-nb-classifier.qza\n",
      "Resolving s3-us-west-2.amazonaws.com (s3-us-west-2.amazonaws.com)... 52.218.248.24, 52.92.137.120, 52.92.164.192, ...\n",
      "Connecting to s3-us-west-2.amazonaws.com (s3-us-west-2.amazonaws.com)|52.218.248.24|:443... connected.\n",
      "HTTP request sent, awaiting response... 416 Requested Range Not Satisfiable\n",
      "\n",
      "    The file is already fully retrieved; nothing to do.\n",
      "\n",
      "(qiime2-2023.2) \n"
     ]
    },
    {
     "ename": "",
     "evalue": "1",
     "output_type": "error",
     "traceback": []
    }
   ],
   "source": [
    "wget \\\n",
    "    --continue \\\n",
    "    --output-document gg-13-8-99-515-806-nb-classifier.qza \\\n",
    "    https://data.qiime2.org/2023.2/common/gg-13-8-99-515-806-nb-classifier.qza"
   ]
  },
  {
   "cell_type": "code",
   "execution_count": null,
   "metadata": {
    "tags": []
   },
   "outputs": [],
   "source": [
    "qiime feature-classifier classify-sklearn \\\n",
    "  --i-classifier     gg-13-8-99-515-806-nb-classifier.qza \\\n",
    "  --i-reads          rep-seqs.qza \\\n",
    "  --o-classification taxonomy.qza"
   ]
  },
  {
   "cell_type": "code",
   "execution_count": null,
   "metadata": {
    "tags": []
   },
   "outputs": [],
   "source": [
    "qiime metadata tabulate \\\n",
    "  --m-input-file    taxonomy.qza \\\n",
    "  --o-visualization taxonomy.qzv"
   ]
  },
  {
   "cell_type": "markdown",
   "metadata": {},
   "source": [
    "[taxonomy.qzv](https://view.qiime2.org/?src=https%3A%2F%2Fdocs.qiime2.org%2F2023.2%2Fdata%2Ftutorials%2Fmoving-pictures%2Ftaxonomy.qzv)"
   ]
  },
  {
   "cell_type": "code",
   "execution_count": null,
   "metadata": {
    "tags": []
   },
   "outputs": [],
   "source": [
    "qiime taxa barplot \\\n",
    "  --i-table         table.qza \\\n",
    "  --i-taxonomy      taxonomy.qza \\\n",
    "  --m-metadata-file sample-metadata.tsv \\\n",
    "  --o-visualization taxa-bar-plots.qzv"
   ]
  },
  {
   "cell_type": "markdown",
   "metadata": {},
   "source": [
    "[taxa-bar-plots.qzv](https://view.qiime2.org/?src=https%3A%2F%2Fdocs.qiime2.org%2F2023.2%2Fdata%2Ftutorials%2Fmoving-pictures%2Ftaxa-bar-plots.qzv)"
   ]
  },
  {
   "cell_type": "markdown",
   "metadata": {},
   "source": [
    "# 6 Composition with ANCOM"
   ]
  },
  {
   "cell_type": "code",
   "execution_count": null,
   "metadata": {},
   "outputs": [],
   "source": [
    "We can be interested in seeing if there are differences in the composition of the communities in different body sizes, for example. To do so, we can use ANCOM."
   ]
  },
  {
   "cell_type": "code",
   "execution_count": null,
   "metadata": {},
   "outputs": [],
   "source": [
    "The procedure is as follows:\n",
    "- Filter the tables according to the region of interest, in this case that body-site has to be the gut"
   ]
  },
  {
   "cell_type": "code",
   "execution_count": null,
   "metadata": {
    "tags": []
   },
   "outputs": [],
   "source": [
    "qiime feature-table filter-samples \\\n",
    "  --i-table table.qza \\\n",
    "  --m-metadata-file sample-metadata.tsv \\\n",
    "  --p-where \"[body-site]='gut'\" \\\n",
    "  --o-filtered-table gut-table.qza"
   ]
  },
  {
   "cell_type": "code",
   "execution_count": null,
   "metadata": {},
   "outputs": [],
   "source": [
    "Then, fix the table with pseudo-counts, becasue ANCOM cannot work with zeros in the table."
   ]
  },
  {
   "cell_type": "code",
   "execution_count": null,
   "metadata": {
    "tags": []
   },
   "outputs": [],
   "source": [
    "qiime composition add-pseudocount \\\n",
    "  --i-table gut-table.qza \\\n",
    "  --o-composition-table comp-gut-table.qza"
   ]
  },
  {
   "cell_type": "code",
   "execution_count": null,
   "metadata": {},
   "outputs": [],
   "source": [
    "Finally, run ANCOM"
   ]
  },
  {
   "cell_type": "code",
   "execution_count": null,
   "metadata": {
    "tags": []
   },
   "outputs": [],
   "source": [
    "qiime composition ancom \\\n",
    "  --i-table comp-gut-table.qza \\\n",
    "  --m-metadata-file sample-metadata.tsv \\\n",
    "  --m-metadata-column subject \\\n",
    "  --o-visualization ancom-subject.qzv"
   ]
  },
  {
   "cell_type": "code",
   "execution_count": null,
   "metadata": {},
   "outputs": [],
   "source": [
    "https://view.qiime2.org/?src=https%3A%2F%2Fdocs.qiime2.org%2F2023.2%2Fdata%2Ftutorials%2Fmoving-pictures%2Fancom-subject.qzv"
   ]
  }
 ],
 "metadata": {
  "kernelspec": {
   "display_name": "Bash",
   "language": "bash",
   "name": "bash"
  },
  "language_info": {
   "codemirror_mode": "shell",
   "file_extension": ".sh",
   "mimetype": "text/x-sh",
   "name": "bash"
  }
 },
 "nbformat": 4,
 "nbformat_minor": 4
}
